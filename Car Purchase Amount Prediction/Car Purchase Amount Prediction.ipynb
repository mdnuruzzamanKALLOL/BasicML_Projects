{
 "cells": [
  {
   "cell_type": "markdown",
   "metadata": {},
   "source": [
    " We are going to develop a machine learning model to predict \n",
    "the total dollar amount that customers are willing to pay while purchasing a car given the following attributes: \n",
    "- Customer Name\n",
    "- Customer e-mail\n",
    "- Country\n",
    "- Gender\n",
    "- Age\n",
    "- Annual Salary \n",
    "- Credit Card Debt \n",
    "- Net Worth \n",
    "\n",
    "The model should predict: \n",
    "- Car Purchase Amount "
   ]
  },
  {
   "cell_type": "code",
   "execution_count": 1,
   "metadata": {},
   "outputs": [],
   "source": [
    "import warnings"
   ]
  },
  {
   "cell_type": "code",
   "execution_count": 2,
   "metadata": {},
   "outputs": [],
   "source": [
    "warnings.filterwarnings('ignore')"
   ]
  },
  {
   "cell_type": "code",
   "execution_count": 3,
   "metadata": {},
   "outputs": [],
   "source": [
    "import pandas as pd"
   ]
  },
  {
   "cell_type": "code",
   "execution_count": 4,
   "metadata": {},
   "outputs": [],
   "source": [
    "data = pd.read_csv('Car_Purchasing_Data.csv')"
   ]
  },
  {
   "cell_type": "markdown",
   "metadata": {},
   "source": [
    "### 1. Display Top 5 Rows of The Dataset"
   ]
  },
  {
   "cell_type": "code",
   "execution_count": 5,
   "metadata": {},
   "outputs": [
    {
     "data": {
      "text/html": [
       "<div>\n",
       "<style scoped>\n",
       "    .dataframe tbody tr th:only-of-type {\n",
       "        vertical-align: middle;\n",
       "    }\n",
       "\n",
       "    .dataframe tbody tr th {\n",
       "        vertical-align: top;\n",
       "    }\n",
       "\n",
       "    .dataframe thead th {\n",
       "        text-align: right;\n",
       "    }\n",
       "</style>\n",
       "<table border=\"1\" class=\"dataframe\">\n",
       "  <thead>\n",
       "    <tr style=\"text-align: right;\">\n",
       "      <th></th>\n",
       "      <th>Customer Name</th>\n",
       "      <th>Customer e-mail</th>\n",
       "      <th>Country</th>\n",
       "      <th>Gender</th>\n",
       "      <th>Age</th>\n",
       "      <th>Annual Salary</th>\n",
       "      <th>Credit Card Debt</th>\n",
       "      <th>Net Worth</th>\n",
       "      <th>Car Purchase Amount</th>\n",
       "    </tr>\n",
       "  </thead>\n",
       "  <tbody>\n",
       "    <tr>\n",
       "      <th>0</th>\n",
       "      <td>Martina Avila</td>\n",
       "      <td>cubilia.Curae.Phasellus@quisaccumsanconvallis.edu</td>\n",
       "      <td>USA</td>\n",
       "      <td>0</td>\n",
       "      <td>42</td>\n",
       "      <td>62812.09301</td>\n",
       "      <td>11609.380910</td>\n",
       "      <td>238961.2505</td>\n",
       "      <td>35321.45877</td>\n",
       "    </tr>\n",
       "    <tr>\n",
       "      <th>1</th>\n",
       "      <td>Harlan Barnes</td>\n",
       "      <td>eu.dolor@diam.co.uk</td>\n",
       "      <td>USA</td>\n",
       "      <td>0</td>\n",
       "      <td>41</td>\n",
       "      <td>66646.89292</td>\n",
       "      <td>9572.957136</td>\n",
       "      <td>530973.9078</td>\n",
       "      <td>45115.52566</td>\n",
       "    </tr>\n",
       "    <tr>\n",
       "      <th>2</th>\n",
       "      <td>Naomi Rodriquez</td>\n",
       "      <td>vulputate.mauris.sagittis@ametconsectetueradip...</td>\n",
       "      <td>USA</td>\n",
       "      <td>1</td>\n",
       "      <td>43</td>\n",
       "      <td>53798.55112</td>\n",
       "      <td>11160.355060</td>\n",
       "      <td>638467.1773</td>\n",
       "      <td>42925.70921</td>\n",
       "    </tr>\n",
       "    <tr>\n",
       "      <th>3</th>\n",
       "      <td>Jade Cunningham</td>\n",
       "      <td>malesuada@dignissim.com</td>\n",
       "      <td>USA</td>\n",
       "      <td>1</td>\n",
       "      <td>58</td>\n",
       "      <td>79370.03798</td>\n",
       "      <td>14426.164850</td>\n",
       "      <td>548599.0524</td>\n",
       "      <td>67422.36313</td>\n",
       "    </tr>\n",
       "    <tr>\n",
       "      <th>4</th>\n",
       "      <td>Cedric Leach</td>\n",
       "      <td>felis.ullamcorper.viverra@egetmollislectus.net</td>\n",
       "      <td>USA</td>\n",
       "      <td>1</td>\n",
       "      <td>57</td>\n",
       "      <td>59729.15130</td>\n",
       "      <td>5358.712177</td>\n",
       "      <td>560304.0671</td>\n",
       "      <td>55915.46248</td>\n",
       "    </tr>\n",
       "  </tbody>\n",
       "</table>\n",
       "</div>"
      ],
      "text/plain": [
       "     Customer Name                                    Customer e-mail Country  \\\n",
       "0    Martina Avila  cubilia.Curae.Phasellus@quisaccumsanconvallis.edu     USA   \n",
       "1    Harlan Barnes                                eu.dolor@diam.co.uk     USA   \n",
       "2  Naomi Rodriquez  vulputate.mauris.sagittis@ametconsectetueradip...     USA   \n",
       "3  Jade Cunningham                            malesuada@dignissim.com     USA   \n",
       "4     Cedric Leach     felis.ullamcorper.viverra@egetmollislectus.net     USA   \n",
       "\n",
       "   Gender  Age  Annual Salary  Credit Card Debt    Net Worth  \\\n",
       "0       0   42    62812.09301      11609.380910  238961.2505   \n",
       "1       0   41    66646.89292       9572.957136  530973.9078   \n",
       "2       1   43    53798.55112      11160.355060  638467.1773   \n",
       "3       1   58    79370.03798      14426.164850  548599.0524   \n",
       "4       1   57    59729.15130       5358.712177  560304.0671   \n",
       "\n",
       "   Car Purchase Amount  \n",
       "0          35321.45877  \n",
       "1          45115.52566  \n",
       "2          42925.70921  \n",
       "3          67422.36313  \n",
       "4          55915.46248  "
      ]
     },
     "execution_count": 5,
     "metadata": {},
     "output_type": "execute_result"
    }
   ],
   "source": [
    "data.head()"
   ]
  },
  {
   "cell_type": "markdown",
   "metadata": {},
   "source": [
    "### 2. Check Last 5 Rows of The Dataset"
   ]
  },
  {
   "cell_type": "code",
   "execution_count": 6,
   "metadata": {},
   "outputs": [
    {
     "data": {
      "text/html": [
       "<div>\n",
       "<style scoped>\n",
       "    .dataframe tbody tr th:only-of-type {\n",
       "        vertical-align: middle;\n",
       "    }\n",
       "\n",
       "    .dataframe tbody tr th {\n",
       "        vertical-align: top;\n",
       "    }\n",
       "\n",
       "    .dataframe thead th {\n",
       "        text-align: right;\n",
       "    }\n",
       "</style>\n",
       "<table border=\"1\" class=\"dataframe\">\n",
       "  <thead>\n",
       "    <tr style=\"text-align: right;\">\n",
       "      <th></th>\n",
       "      <th>Customer Name</th>\n",
       "      <th>Customer e-mail</th>\n",
       "      <th>Country</th>\n",
       "      <th>Gender</th>\n",
       "      <th>Age</th>\n",
       "      <th>Annual Salary</th>\n",
       "      <th>Credit Card Debt</th>\n",
       "      <th>Net Worth</th>\n",
       "      <th>Car Purchase Amount</th>\n",
       "    </tr>\n",
       "  </thead>\n",
       "  <tbody>\n",
       "    <tr>\n",
       "      <th>495</th>\n",
       "      <td>Walter</td>\n",
       "      <td>ligula@Cumsociis.ca</td>\n",
       "      <td>USA</td>\n",
       "      <td>0</td>\n",
       "      <td>41</td>\n",
       "      <td>71942.40291</td>\n",
       "      <td>6995.902524</td>\n",
       "      <td>541670.1016</td>\n",
       "      <td>48901.44342</td>\n",
       "    </tr>\n",
       "    <tr>\n",
       "      <th>496</th>\n",
       "      <td>Vanna</td>\n",
       "      <td>Cum.sociis.natoque@Sedmolestie.edu</td>\n",
       "      <td>USA</td>\n",
       "      <td>1</td>\n",
       "      <td>38</td>\n",
       "      <td>56039.49793</td>\n",
       "      <td>12301.456790</td>\n",
       "      <td>360419.0988</td>\n",
       "      <td>31491.41457</td>\n",
       "    </tr>\n",
       "    <tr>\n",
       "      <th>497</th>\n",
       "      <td>Pearl</td>\n",
       "      <td>penatibus.et@massanonante.com</td>\n",
       "      <td>USA</td>\n",
       "      <td>1</td>\n",
       "      <td>54</td>\n",
       "      <td>68888.77805</td>\n",
       "      <td>10611.606860</td>\n",
       "      <td>764531.3203</td>\n",
       "      <td>64147.28888</td>\n",
       "    </tr>\n",
       "    <tr>\n",
       "      <th>498</th>\n",
       "      <td>Nell</td>\n",
       "      <td>Quisque.varius@arcuVivamussit.net</td>\n",
       "      <td>USA</td>\n",
       "      <td>1</td>\n",
       "      <td>59</td>\n",
       "      <td>49811.99062</td>\n",
       "      <td>14013.034510</td>\n",
       "      <td>337826.6382</td>\n",
       "      <td>45442.15353</td>\n",
       "    </tr>\n",
       "    <tr>\n",
       "      <th>499</th>\n",
       "      <td>Marla</td>\n",
       "      <td>Camaron.marla@hotmail.com</td>\n",
       "      <td>USA</td>\n",
       "      <td>1</td>\n",
       "      <td>47</td>\n",
       "      <td>61370.67766</td>\n",
       "      <td>9391.341628</td>\n",
       "      <td>462946.4924</td>\n",
       "      <td>45107.22566</td>\n",
       "    </tr>\n",
       "  </tbody>\n",
       "</table>\n",
       "</div>"
      ],
      "text/plain": [
       "    Customer Name                     Customer e-mail Country  Gender  Age  \\\n",
       "495        Walter                 ligula@Cumsociis.ca     USA       0   41   \n",
       "496         Vanna  Cum.sociis.natoque@Sedmolestie.edu     USA       1   38   \n",
       "497         Pearl       penatibus.et@massanonante.com     USA       1   54   \n",
       "498          Nell   Quisque.varius@arcuVivamussit.net     USA       1   59   \n",
       "499         Marla           Camaron.marla@hotmail.com     USA       1   47   \n",
       "\n",
       "     Annual Salary  Credit Card Debt    Net Worth  Car Purchase Amount  \n",
       "495    71942.40291       6995.902524  541670.1016          48901.44342  \n",
       "496    56039.49793      12301.456790  360419.0988          31491.41457  \n",
       "497    68888.77805      10611.606860  764531.3203          64147.28888  \n",
       "498    49811.99062      14013.034510  337826.6382          45442.15353  \n",
       "499    61370.67766       9391.341628  462946.4924          45107.22566  "
      ]
     },
     "execution_count": 6,
     "metadata": {},
     "output_type": "execute_result"
    }
   ],
   "source": [
    "data.tail()"
   ]
  },
  {
   "cell_type": "markdown",
   "metadata": {},
   "source": [
    "### 3. Find Shape of Our Dataset (Number of Rows And Number of Columns)"
   ]
  },
  {
   "cell_type": "code",
   "execution_count": 7,
   "metadata": {},
   "outputs": [
    {
     "data": {
      "text/plain": [
       "(500, 9)"
      ]
     },
     "execution_count": 7,
     "metadata": {},
     "output_type": "execute_result"
    }
   ],
   "source": [
    "data.shape"
   ]
  },
  {
   "cell_type": "code",
   "execution_count": 8,
   "metadata": {},
   "outputs": [
    {
     "name": "stdout",
     "output_type": "stream",
     "text": [
      "Number of Rows 500\n",
      "Number of Columns 9\n"
     ]
    }
   ],
   "source": [
    "print(\"Number of Rows\",data.shape[0])\n",
    "print(\"Number of Columns\",data.shape[1])"
   ]
  },
  {
   "cell_type": "markdown",
   "metadata": {},
   "source": [
    "### 4. Get Information About Our Dataset Like Total Number Rows, Total Number of Columns, Datatypes of Each Column And Memory Requirement"
   ]
  },
  {
   "cell_type": "code",
   "execution_count": 9,
   "metadata": {},
   "outputs": [
    {
     "name": "stdout",
     "output_type": "stream",
     "text": [
      "<class 'pandas.core.frame.DataFrame'>\n",
      "RangeIndex: 500 entries, 0 to 499\n",
      "Data columns (total 9 columns):\n",
      " #   Column               Non-Null Count  Dtype  \n",
      "---  ------               --------------  -----  \n",
      " 0   Customer Name        500 non-null    object \n",
      " 1   Customer e-mail      500 non-null    object \n",
      " 2   Country              500 non-null    object \n",
      " 3   Gender               500 non-null    int64  \n",
      " 4   Age                  500 non-null    int64  \n",
      " 5   Annual Salary        500 non-null    float64\n",
      " 6   Credit Card Debt     500 non-null    float64\n",
      " 7   Net Worth            500 non-null    float64\n",
      " 8   Car Purchase Amount  500 non-null    float64\n",
      "dtypes: float64(4), int64(2), object(3)\n",
      "memory usage: 35.3+ KB\n"
     ]
    }
   ],
   "source": [
    "data.info()"
   ]
  },
  {
   "cell_type": "markdown",
   "metadata": {},
   "source": [
    "### 5. Check Null Values In The Dataset"
   ]
  },
  {
   "cell_type": "code",
   "execution_count": 10,
   "metadata": {},
   "outputs": [
    {
     "data": {
      "text/plain": [
       "Customer Name          0\n",
       "Customer e-mail        0\n",
       "Country                0\n",
       "Gender                 0\n",
       "Age                    0\n",
       "Annual Salary          0\n",
       "Credit Card Debt       0\n",
       "Net Worth              0\n",
       "Car Purchase Amount    0\n",
       "dtype: int64"
      ]
     },
     "execution_count": 10,
     "metadata": {},
     "output_type": "execute_result"
    }
   ],
   "source": [
    "data.isnull().sum()"
   ]
  },
  {
   "cell_type": "markdown",
   "metadata": {},
   "source": [
    "### 6. Get Overall Statistics About The Dataset"
   ]
  },
  {
   "cell_type": "code",
   "execution_count": 11,
   "metadata": {},
   "outputs": [
    {
     "data": {
      "text/html": [
       "<div>\n",
       "<style scoped>\n",
       "    .dataframe tbody tr th:only-of-type {\n",
       "        vertical-align: middle;\n",
       "    }\n",
       "\n",
       "    .dataframe tbody tr th {\n",
       "        vertical-align: top;\n",
       "    }\n",
       "\n",
       "    .dataframe thead th {\n",
       "        text-align: right;\n",
       "    }\n",
       "</style>\n",
       "<table border=\"1\" class=\"dataframe\">\n",
       "  <thead>\n",
       "    <tr style=\"text-align: right;\">\n",
       "      <th></th>\n",
       "      <th>Gender</th>\n",
       "      <th>Age</th>\n",
       "      <th>Annual Salary</th>\n",
       "      <th>Credit Card Debt</th>\n",
       "      <th>Net Worth</th>\n",
       "      <th>Car Purchase Amount</th>\n",
       "    </tr>\n",
       "  </thead>\n",
       "  <tbody>\n",
       "    <tr>\n",
       "      <th>count</th>\n",
       "      <td>500.000000</td>\n",
       "      <td>500.000000</td>\n",
       "      <td>500.000000</td>\n",
       "      <td>500.000000</td>\n",
       "      <td>500.000000</td>\n",
       "      <td>500.000000</td>\n",
       "    </tr>\n",
       "    <tr>\n",
       "      <th>mean</th>\n",
       "      <td>0.506000</td>\n",
       "      <td>46.224000</td>\n",
       "      <td>62127.239608</td>\n",
       "      <td>9607.645049</td>\n",
       "      <td>431475.713625</td>\n",
       "      <td>44209.799218</td>\n",
       "    </tr>\n",
       "    <tr>\n",
       "      <th>std</th>\n",
       "      <td>0.500465</td>\n",
       "      <td>7.990339</td>\n",
       "      <td>11703.378228</td>\n",
       "      <td>3489.187973</td>\n",
       "      <td>173536.756340</td>\n",
       "      <td>10773.178744</td>\n",
       "    </tr>\n",
       "    <tr>\n",
       "      <th>min</th>\n",
       "      <td>0.000000</td>\n",
       "      <td>20.000000</td>\n",
       "      <td>20000.000000</td>\n",
       "      <td>100.000000</td>\n",
       "      <td>20000.000000</td>\n",
       "      <td>9000.000000</td>\n",
       "    </tr>\n",
       "    <tr>\n",
       "      <th>25%</th>\n",
       "      <td>0.000000</td>\n",
       "      <td>41.000000</td>\n",
       "      <td>54391.977195</td>\n",
       "      <td>7397.515792</td>\n",
       "      <td>299824.195900</td>\n",
       "      <td>37629.896040</td>\n",
       "    </tr>\n",
       "    <tr>\n",
       "      <th>50%</th>\n",
       "      <td>1.000000</td>\n",
       "      <td>46.000000</td>\n",
       "      <td>62915.497035</td>\n",
       "      <td>9655.035568</td>\n",
       "      <td>426750.120650</td>\n",
       "      <td>43997.783390</td>\n",
       "    </tr>\n",
       "    <tr>\n",
       "      <th>75%</th>\n",
       "      <td>1.000000</td>\n",
       "      <td>52.000000</td>\n",
       "      <td>70117.862005</td>\n",
       "      <td>11798.867488</td>\n",
       "      <td>557324.478725</td>\n",
       "      <td>51254.709517</td>\n",
       "    </tr>\n",
       "    <tr>\n",
       "      <th>max</th>\n",
       "      <td>1.000000</td>\n",
       "      <td>70.000000</td>\n",
       "      <td>100000.000000</td>\n",
       "      <td>20000.000000</td>\n",
       "      <td>1000000.000000</td>\n",
       "      <td>80000.000000</td>\n",
       "    </tr>\n",
       "  </tbody>\n",
       "</table>\n",
       "</div>"
      ],
      "text/plain": [
       "           Gender         Age  Annual Salary  Credit Card Debt  \\\n",
       "count  500.000000  500.000000     500.000000        500.000000   \n",
       "mean     0.506000   46.224000   62127.239608       9607.645049   \n",
       "std      0.500465    7.990339   11703.378228       3489.187973   \n",
       "min      0.000000   20.000000   20000.000000        100.000000   \n",
       "25%      0.000000   41.000000   54391.977195       7397.515792   \n",
       "50%      1.000000   46.000000   62915.497035       9655.035568   \n",
       "75%      1.000000   52.000000   70117.862005      11798.867488   \n",
       "max      1.000000   70.000000  100000.000000      20000.000000   \n",
       "\n",
       "            Net Worth  Car Purchase Amount  \n",
       "count      500.000000           500.000000  \n",
       "mean    431475.713625         44209.799218  \n",
       "std     173536.756340         10773.178744  \n",
       "min      20000.000000          9000.000000  \n",
       "25%     299824.195900         37629.896040  \n",
       "50%     426750.120650         43997.783390  \n",
       "75%     557324.478725         51254.709517  \n",
       "max    1000000.000000         80000.000000  "
      ]
     },
     "execution_count": 11,
     "metadata": {},
     "output_type": "execute_result"
    }
   ],
   "source": [
    "data.describe()"
   ]
  },
  {
   "cell_type": "markdown",
   "metadata": {},
   "source": [
    "### 7. Visualization"
   ]
  },
  {
   "cell_type": "code",
   "execution_count": 12,
   "metadata": {},
   "outputs": [],
   "source": [
    "import seaborn as sns"
   ]
  },
  {
   "cell_type": "code",
   "execution_count": 13,
   "metadata": {},
   "outputs": [
    {
     "data": {
      "text/plain": [
       "<seaborn.axisgrid.PairGrid at 0x10c910c8>"
      ]
     },
     "execution_count": 13,
     "metadata": {},
     "output_type": "execute_result"
    },
    {
     "data": {
      "image/png": "[encoded data removed]",
      "text/plain": [
       "<Figure size 1080x1080 with 42 Axes>"
      ]
     },
     "metadata": {
      "needs_background": "light"
     },
     "output_type": "display_data"
    }
   ],
   "source": [
    "sns.pairplot(data)"
   ]
  },
  {
   "cell_type": "markdown",
   "metadata": {},
   "source": [
    "### 8. Store Feature Matrix In X and Response(Target) In Vector y"
   ]
  },
  {
   "cell_type": "code",
   "execution_count": 14,
   "metadata": {},
   "outputs": [
    {
     "data": {
      "text/plain": [
       "Index(['Customer Name', 'Customer e-mail', 'Country', 'Gender', 'Age',\n",
       "       'Annual Salary', 'Credit Card Debt', 'Net Worth',\n",
       "       'Car Purchase Amount'],\n",
       "      dtype='object')"
      ]
     },
     "execution_count": 14,
     "metadata": {},
     "output_type": "execute_result"
    }
   ],
   "source": [
    "data.columns"
   ]
  },
  {
   "cell_type": "code",
   "execution_count": 15,
   "metadata": {},
   "outputs": [],
   "source": [
    "X = data.drop(['Customer Name','Customer e-mail','Country','Car Purchase Amount'],axis=1)"
   ]
  },
  {
   "cell_type": "code",
   "execution_count": 16,
   "metadata": {},
   "outputs": [],
   "source": [
    "y = data['Car Purchase Amount']"
   ]
  },
  {
   "cell_type": "code",
   "execution_count": 17,
   "metadata": {},
   "outputs": [
    {
     "data": {
      "text/plain": [
       "0      35321.45877\n",
       "1      45115.52566\n",
       "2      42925.70921\n",
       "3      67422.36313\n",
       "4      55915.46248\n",
       "          ...     \n",
       "495    48901.44342\n",
       "496    31491.41457\n",
       "497    64147.28888\n",
       "498    45442.15353\n",
       "499    45107.22566\n",
       "Name: Car Purchase Amount, Length: 500, dtype: float64"
      ]
     },
     "execution_count": 17,
     "metadata": {},
     "output_type": "execute_result"
    }
   ],
   "source": [
    "y"
   ]
  },
  {
   "cell_type": "markdown",
   "metadata": {},
   "source": [
    "### 9. Feature Scaling (Normalization)"
   ]
  },
  {
   "cell_type": "code",
   "execution_count": 18,
   "metadata": {},
   "outputs": [],
   "source": [
    "from sklearn.preprocessing import MinMaxScaler"
   ]
  },
  {
   "cell_type": "code",
   "execution_count": 19,
   "metadata": {},
   "outputs": [],
   "source": [
    "sc = MinMaxScaler()\n",
    "X_scaled = sc.fit_transform(X)"
   ]
  },
  {
   "cell_type": "code",
   "execution_count": 20,
   "metadata": {},
   "outputs": [
    {
     "data": {
      "text/plain": [
       "array([[0.        , 0.44      , 0.53515116, 0.57836085, 0.22342985],\n",
       "       [0.        , 0.42      , 0.58308616, 0.476028  , 0.52140195],\n",
       "       [1.        , 0.46      , 0.42248189, 0.55579674, 0.63108896],\n",
       "       ...,\n",
       "       [1.        , 0.68      , 0.61110973, 0.52822145, 0.75972584],\n",
       "       [1.        , 0.78      , 0.37264988, 0.69914746, 0.3243129 ],\n",
       "       [1.        , 0.54      , 0.51713347, 0.46690159, 0.45198622]])"
      ]
     },
     "execution_count": 20,
     "metadata": {},
     "output_type": "execute_result"
    }
   ],
   "source": [
    "X_scaled"
   ]
  },
  {
   "cell_type": "code",
   "execution_count": 21,
   "metadata": {},
   "outputs": [],
   "source": [
    "sc1 = MinMaxScaler()"
   ]
  },
  {
   "cell_type": "code",
   "execution_count": 22,
   "metadata": {},
   "outputs": [],
   "source": [
    "y_reshape= y.values.reshape(-1,1)"
   ]
  },
  {
   "cell_type": "code",
   "execution_count": 23,
   "metadata": {},
   "outputs": [],
   "source": [
    "y_scaled = sc1.fit_transform(y_reshape)"
   ]
  },
  {
   "cell_type": "code",
   "execution_count": 24,
   "metadata": {},
   "outputs": [
    {
     "data": {
      "text/plain": [
       "array([[0.37072477],\n",
       "       [0.50866938],\n",
       "       [0.47782689],\n",
       "       [0.82285018],\n",
       "       [0.66078116],\n",
       "       [0.67059152],\n",
       "       [0.28064374],\n",
       "       [0.54133778],\n",
       "       [0.54948752],\n",
       "       [0.4111198 ],\n",
       "       [0.70486638],\n",
       "       [0.46885649],\n",
       "       [0.27746526],\n",
       "       [0.56702642],\n",
       "       [0.57056385],\n",
       "       [0.61996151],\n",
       "       [0.46217916],\n",
       "       [0.49157341],\n",
       "       [0.50188722],\n",
       "       [0.64545808],\n",
       "       [0.59339372],\n",
       "       [0.48453965],\n",
       "       [0.53860366],\n",
       "       [0.53007738],\n",
       "       [0.50814651],\n",
       "       [0.49841668],\n",
       "       [0.3966416 ],\n",
       "       [0.56467566],\n",
       "       [0.6950749 ],\n",
       "       [0.49287831],\n",
       "       [0.12090943],\n",
       "       [0.50211776],\n",
       "       [0.80794216],\n",
       "       [0.62661214],\n",
       "       [0.43394857],\n",
       "       [0.60017103],\n",
       "       [0.42223485],\n",
       "       [0.01538345],\n",
       "       [0.37927499],\n",
       "       [0.64539707],\n",
       "       [0.51838974],\n",
       "       [0.45869677],\n",
       "       [0.26804521],\n",
       "       [0.2650104 ],\n",
       "       [0.84054134],\n",
       "       [0.84401542],\n",
       "       [0.35515157],\n",
       "       [0.406246  ],\n",
       "       [0.40680623],\n",
       "       [0.55963883],\n",
       "       [0.2561583 ],\n",
       "       [0.77096325],\n",
       "       [0.55305289],\n",
       "       [0.5264948 ],\n",
       "       [0.3236476 ],\n",
       "       [0.55070832],\n",
       "       [0.54057623],\n",
       "       [0.45669016],\n",
       "       [0.41053254],\n",
       "       [0.33433524],\n",
       "       [0.39926954],\n",
       "       [0.5420261 ],\n",
       "       [0.57366948],\n",
       "       [0.43793831],\n",
       "       [0.46897896],\n",
       "       [0.61908354],\n",
       "       [0.55076214],\n",
       "       [0.48846357],\n",
       "       [0.61560519],\n",
       "       [0.56891394],\n",
       "       [0.30761974],\n",
       "       [0.56863909],\n",
       "       [0.46343171],\n",
       "       [0.50787179],\n",
       "       [0.61959897],\n",
       "       [0.59095889],\n",
       "       [0.45573492],\n",
       "       [0.49908055],\n",
       "       [0.4155271 ],\n",
       "       [0.45382041],\n",
       "       [0.41407692],\n",
       "       [0.45713635],\n",
       "       [0.30133556],\n",
       "       [0.47019791],\n",
       "       [0.42256447],\n",
       "       [0.14863766],\n",
       "       [0.50939895],\n",
       "       [0.38056275],\n",
       "       [0.59067519],\n",
       "       [0.05486922],\n",
       "       [0.4219045 ],\n",
       "       [0.59466257],\n",
       "       [0.23904164],\n",
       "       [0.72775122],\n",
       "       [0.63486085],\n",
       "       [0.43668833],\n",
       "       [0.74075381],\n",
       "       [0.42962519],\n",
       "       [0.61231998],\n",
       "       [0.46743215],\n",
       "       [0.68227386],\n",
       "       [0.19270023],\n",
       "       [0.34705263],\n",
       "       [0.31747576],\n",
       "       [0.72480623],\n",
       "       [0.51744133],\n",
       "       [0.36343414],\n",
       "       [0.36116341],\n",
       "       [0.26178477],\n",
       "       [0.64750739],\n",
       "       [0.56538749],\n",
       "       [0.70197943],\n",
       "       [0.68037083],\n",
       "       [0.60481233],\n",
       "       [0.29916352],\n",
       "       [0.81860421],\n",
       "       [0.47053558],\n",
       "       [0.45706646],\n",
       "       [0.47313925],\n",
       "       [0.35945319],\n",
       "       [0.46779854],\n",
       "       [0.46357095],\n",
       "       [0.71008706],\n",
       "       [0.59721993],\n",
       "       [0.64444254],\n",
       "       [0.53723155],\n",
       "       [0.78016463],\n",
       "       [0.39792327],\n",
       "       [0.61500514],\n",
       "       [0.49297475],\n",
       "       [0.59931944],\n",
       "       [0.4118826 ],\n",
       "       [0.43333307],\n",
       "       [0.43771229],\n",
       "       [0.33988067],\n",
       "       [0.55806565],\n",
       "       [0.54497514],\n",
       "       [0.42831636],\n",
       "       [0.344062  ],\n",
       "       [0.33380674],\n",
       "       [0.75865395],\n",
       "       [0.28768775],\n",
       "       [0.49885366],\n",
       "       [0.3893741 ],\n",
       "       [0.62895125],\n",
       "       [0.52080458],\n",
       "       [0.41555485],\n",
       "       [0.54839351],\n",
       "       [0.72143981],\n",
       "       [0.42155708],\n",
       "       [0.26493265],\n",
       "       [0.54372318],\n",
       "       [0.46981253],\n",
       "       [0.31409216],\n",
       "       [0.46999496],\n",
       "       [0.32165106],\n",
       "       [0.24646921],\n",
       "       [0.41088501],\n",
       "       [0.42863953],\n",
       "       [0.40442699],\n",
       "       [0.67782275],\n",
       "       [0.52751195],\n",
       "       [0.49091635],\n",
       "       [0.65623527],\n",
       "       [0.47160596],\n",
       "       [0.44900269],\n",
       "       [0.16412978],\n",
       "       [0.37237754],\n",
       "       [0.38187033],\n",
       "       [0.41101838],\n",
       "       [0.45107076],\n",
       "       [0.26605566],\n",
       "       [0.48907732],\n",
       "       [0.68212351],\n",
       "       [0.45217002],\n",
       "       [0.56409653],\n",
       "       [0.45444407],\n",
       "       [0.78232624],\n",
       "       [0.28242388],\n",
       "       [0.3059129 ],\n",
       "       [0.41919878],\n",
       "       [0.42720002],\n",
       "       [0.33251345],\n",
       "       [0.69078257],\n",
       "       [0.63925743],\n",
       "       [0.38927052],\n",
       "       [0.42988917],\n",
       "       [0.47856826],\n",
       "       [0.73050372],\n",
       "       [0.52648517],\n",
       "       [0.67013948],\n",
       "       [0.47569515],\n",
       "       [0.40675569],\n",
       "       [0.50997782],\n",
       "       [0.665203  ],\n",
       "       [0.58387492],\n",
       "       [0.57353959],\n",
       "       [0.31967601],\n",
       "       [0.56647918],\n",
       "       [0.52378641],\n",
       "       [0.38150608],\n",
       "       [0.48259225],\n",
       "       [0.44592089],\n",
       "       [0.60117759],\n",
       "       [0.50035241],\n",
       "       [0.55660425],\n",
       "       [0.51838459],\n",
       "       [0.6457801 ],\n",
       "       [0.33068236],\n",
       "       [0.46773647],\n",
       "       [0.64966102],\n",
       "       [0.54907635],\n",
       "       [0.48459001],\n",
       "       [0.50109082],\n",
       "       [0.40485272],\n",
       "       [0.5465529 ],\n",
       "       [0.5048829 ],\n",
       "       [0.53018684],\n",
       "       [0.66991531],\n",
       "       [0.46018938],\n",
       "       [0.73406295],\n",
       "       [0.39864179],\n",
       "       [0.53369389],\n",
       "       [0.66841888],\n",
       "       [0.51422109],\n",
       "       [0.26233016],\n",
       "       [0.52661271],\n",
       "       [0.28171911],\n",
       "       [0.5965593 ],\n",
       "       [0.46494647],\n",
       "       [0.61485077],\n",
       "       [0.49905236],\n",
       "       [0.52189581],\n",
       "       [0.69345654],\n",
       "       [0.47873651],\n",
       "       [0.58735466],\n",
       "       [0.53534616],\n",
       "       [0.56901367],\n",
       "       [0.47883335],\n",
       "       [0.49908428],\n",
       "       [0.5257114 ],\n",
       "       [0.53305254],\n",
       "       [0.66900144],\n",
       "       [0.47568675],\n",
       "       [0.61005611],\n",
       "       [0.3540794 ],\n",
       "       [0.72905982],\n",
       "       [0.80505204],\n",
       "       [0.31289637],\n",
       "       [0.523032  ],\n",
       "       [0.67567861],\n",
       "       [0.2138602 ],\n",
       "       [0.56450168],\n",
       "       [0.39568902],\n",
       "       [0.4845291 ],\n",
       "       [0.28298776],\n",
       "       [0.55421359],\n",
       "       [0.34170423],\n",
       "       [0.45531219],\n",
       "       [0.56811431],\n",
       "       [0.5972613 ],\n",
       "       [0.31338011],\n",
       "       [0.48730944],\n",
       "       [0.55352142],\n",
       "       [0.63399262],\n",
       "       [0.41795296],\n",
       "       [0.39544824],\n",
       "       [0.40771621],\n",
       "       [0.45521229],\n",
       "       [0.81533714],\n",
       "       [0.04981603],\n",
       "       [0.43026944],\n",
       "       [0.61562087],\n",
       "       [0.6268025 ],\n",
       "       [0.60728039],\n",
       "       [0.41838955],\n",
       "       [0.54964825],\n",
       "       [0.71104101],\n",
       "       [0.37903726],\n",
       "       [0.45118709],\n",
       "       [0.60183344],\n",
       "       [0.62002621],\n",
       "       [0.33560612],\n",
       "       [0.28757249],\n",
       "       [0.6825565 ],\n",
       "       [0.58368485],\n",
       "       [0.45880771],\n",
       "       [0.52693631],\n",
       "       [0.54380447],\n",
       "       [0.8715253 ],\n",
       "       [0.65554063],\n",
       "       [0.63167261],\n",
       "       [0.4352791 ],\n",
       "       [0.50332973],\n",
       "       [0.5343264 ],\n",
       "       [0.27381426],\n",
       "       [0.41053523],\n",
       "       [0.47531745],\n",
       "       [0.2911385 ],\n",
       "       [0.76110147],\n",
       "       [0.76406707],\n",
       "       [0.46931782],\n",
       "       [0.49948317],\n",
       "       [0.81820046],\n",
       "       [0.18438195],\n",
       "       [0.43693203],\n",
       "       [0.66298048],\n",
       "       [0.56960734],\n",
       "       [0.47179899],\n",
       "       [0.39556023],\n",
       "       [0.60375334],\n",
       "       [0.37628608],\n",
       "       [0.43511174],\n",
       "       [0.37719946],\n",
       "       [0.47698891],\n",
       "       [1.        ],\n",
       "       [0.72573208],\n",
       "       [0.71491172],\n",
       "       [0.43107389],\n",
       "       [0.69917902],\n",
       "       [0.61949147],\n",
       "       [0.58685749],\n",
       "       [0.71302854],\n",
       "       [0.19197549],\n",
       "       [0.4526464 ],\n",
       "       [0.62671101],\n",
       "       [0.38794277],\n",
       "       [0.48597146],\n",
       "       [0.3119255 ],\n",
       "       [0.3172683 ],\n",
       "       [0.31103807],\n",
       "       [0.51220225],\n",
       "       [0.22891454],\n",
       "       [0.43505067],\n",
       "       [0.60902435],\n",
       "       [0.43537481],\n",
       "       [0.51912329],\n",
       "       [0.30740999],\n",
       "       [0.42849005],\n",
       "       [0.36167369],\n",
       "       [0.20447774],\n",
       "       [0.27793926],\n",
       "       [0.70558126],\n",
       "       [0.58012487],\n",
       "       [0.3754806 ],\n",
       "       [0.52673735],\n",
       "       [0.32804493],\n",
       "       [0.56449711],\n",
       "       [0.56829414],\n",
       "       [0.45672673],\n",
       "       [0.21439436],\n",
       "       [0.49893066],\n",
       "       [0.72380375],\n",
       "       [0.47597174],\n",
       "       [0.53430602],\n",
       "       [0.69953618],\n",
       "       [0.40905353],\n",
       "       [0.42634618],\n",
       "       [0.64234067],\n",
       "       [0.4237175 ],\n",
       "       [0.54907212],\n",
       "       [0.5222931 ],\n",
       "       [0.30935321],\n",
       "       [0.37643596],\n",
       "       [0.56429808],\n",
       "       [0.56275857],\n",
       "       [0.39694511],\n",
       "       [0.53113416],\n",
       "       [0.61816285],\n",
       "       [0.29231919],\n",
       "       [0.73184274],\n",
       "       [0.4362737 ],\n",
       "       [0.41613807],\n",
       "       [0.67273869],\n",
       "       [0.76168793],\n",
       "       [0.65775822],\n",
       "       [0.3854533 ],\n",
       "       [0.61236387],\n",
       "       [0.58164331],\n",
       "       [0.39802597],\n",
       "       [0.54529522],\n",
       "       [0.28930803],\n",
       "       [0.72629843],\n",
       "       [0.38204913],\n",
       "       [0.68033622],\n",
       "       [0.60453629],\n",
       "       [0.37815253],\n",
       "       [0.47470876],\n",
       "       [0.65035196],\n",
       "       [0.24788603],\n",
       "       [0.63371047],\n",
       "       [0.54888405],\n",
       "       [0.48791067],\n",
       "       [0.46027877],\n",
       "       [0.76253593],\n",
       "       [0.30644588],\n",
       "       [0.79707352],\n",
       "       [0.40664378],\n",
       "       [0.47773971],\n",
       "       [0.19154167],\n",
       "       [0.86759109],\n",
       "       [0.48228989],\n",
       "       [0.41040247],\n",
       "       [0.30168732],\n",
       "       [0.77280198],\n",
       "       [0.50863303],\n",
       "       [0.49805458],\n",
       "       [0.14824364],\n",
       "       [0.57734658],\n",
       "       [0.7427002 ],\n",
       "       [0.4615406 ],\n",
       "       [0.52679628],\n",
       "       [0.39967091],\n",
       "       [0.34882593],\n",
       "       [0.3051776 ],\n",
       "       [0.60642838],\n",
       "       [0.30614901],\n",
       "       [0.4287247 ],\n",
       "       [0.41091372],\n",
       "       [0.44492764],\n",
       "       [0.74688327],\n",
       "       [0.5558489 ],\n",
       "       [0.43795845],\n",
       "       [0.571387  ],\n",
       "       [0.31561446],\n",
       "       [0.54534475],\n",
       "       [0.37724541],\n",
       "       [0.47754279],\n",
       "       [0.55657526],\n",
       "       [0.51540401],\n",
       "       [0.32481193],\n",
       "       [0.32687852],\n",
       "       [0.37288737],\n",
       "       [0.28900791],\n",
       "       [0.6538108 ],\n",
       "       [0.46675557],\n",
       "       [0.58506904],\n",
       "       [0.36510463],\n",
       "       [0.49152498],\n",
       "       [0.42443705],\n",
       "       [0.45278122],\n",
       "       [0.21316327],\n",
       "       [0.4747199 ],\n",
       "       [0.42114943],\n",
       "       [0.27669569],\n",
       "       [0.60775236],\n",
       "       [0.81194719],\n",
       "       [0.47759537],\n",
       "       [0.56687473],\n",
       "       [0.25779114],\n",
       "       [0.54746234],\n",
       "       [0.71808681],\n",
       "       [0.51086565],\n",
       "       [0.        ],\n",
       "       [0.52129727],\n",
       "       [0.33756622],\n",
       "       [0.56035434],\n",
       "       [0.51865585],\n",
       "       [0.43805795],\n",
       "       [0.3726359 ],\n",
       "       [0.2895323 ],\n",
       "       [0.41187412],\n",
       "       [0.499023  ],\n",
       "       [0.59220313],\n",
       "       [0.61366712],\n",
       "       [0.73808769],\n",
       "       [0.27413582],\n",
       "       [0.26177748],\n",
       "       [0.54900684],\n",
       "       [0.26992761],\n",
       "       [0.85449963],\n",
       "       [0.55003734],\n",
       "       [0.39949626],\n",
       "       [0.50001154],\n",
       "       [0.36815842],\n",
       "       [0.6502447 ],\n",
       "       [0.55469987],\n",
       "       [0.37779655],\n",
       "       [0.38757338],\n",
       "       [0.62128001],\n",
       "       [0.62041473],\n",
       "       [0.17564949],\n",
       "       [0.50726309],\n",
       "       [0.65320953],\n",
       "       [0.6691568 ],\n",
       "       [0.54146119],\n",
       "       [0.45760058],\n",
       "       [0.33173992],\n",
       "       [0.46457217],\n",
       "       [0.7118085 ],\n",
       "       [0.4556686 ],\n",
       "       [0.61669253],\n",
       "       [0.71996731],\n",
       "       [0.54592485],\n",
       "       [0.77729956],\n",
       "       [0.56199216],\n",
       "       [0.31678049],\n",
       "       [0.77672238],\n",
       "       [0.51326977],\n",
       "       [0.50855247]])"
      ]
     },
     "execution_count": 24,
     "metadata": {},
     "output_type": "execute_result"
    }
   ],
   "source": [
    "y_scaled"
   ]
  },
  {
   "cell_type": "code",
   "execution_count": null,
   "metadata": {},
   "outputs": [],
   "source": []
  },
  {
   "cell_type": "code",
   "execution_count": null,
   "metadata": {},
   "outputs": [],
   "source": []
  },
  {
   "cell_type": "markdown",
   "metadata": {},
   "source": [
    "### 10. Splitting The Dataset Into The Training Set And Test Set"
   ]
  },
  {
   "cell_type": "code",
   "execution_count": 25,
   "metadata": {},
   "outputs": [],
   "source": [
    "from sklearn.model_selection import train_test_split"
   ]
  },
  {
   "cell_type": "code",
   "execution_count": 26,
   "metadata": {},
   "outputs": [],
   "source": [
    "X_train,X_test,y_train,y_test = train_test_split(X_scaled,y_scaled,test_size=0.20,random_state=42)"
   ]
  },
  {
   "cell_type": "markdown",
   "metadata": {},
   "source": [
    "### 11. Import The models"
   ]
  },
  {
   "cell_type": "code",
   "execution_count": 27,
   "metadata": {},
   "outputs": [
    {
     "data": {
      "text/html": [
       "<div>\n",
       "<style scoped>\n",
       "    .dataframe tbody tr th:only-of-type {\n",
       "        vertical-align: middle;\n",
       "    }\n",
       "\n",
       "    .dataframe tbody tr th {\n",
       "        vertical-align: top;\n",
       "    }\n",
       "\n",
       "    .dataframe thead th {\n",
       "        text-align: right;\n",
       "    }\n",
       "</style>\n",
       "<table border=\"1\" class=\"dataframe\">\n",
       "  <thead>\n",
       "    <tr style=\"text-align: right;\">\n",
       "      <th></th>\n",
       "      <th>Customer Name</th>\n",
       "      <th>Customer e-mail</th>\n",
       "      <th>Country</th>\n",
       "      <th>Gender</th>\n",
       "      <th>Age</th>\n",
       "      <th>Annual Salary</th>\n",
       "      <th>Credit Card Debt</th>\n",
       "      <th>Net Worth</th>\n",
       "      <th>Car Purchase Amount</th>\n",
       "    </tr>\n",
       "  </thead>\n",
       "  <tbody>\n",
       "    <tr>\n",
       "      <th>0</th>\n",
       "      <td>Martina Avila</td>\n",
       "      <td>cubilia.Curae.Phasellus@quisaccumsanconvallis.edu</td>\n",
       "      <td>USA</td>\n",
       "      <td>0</td>\n",
       "      <td>42</td>\n",
       "      <td>62812.09301</td>\n",
       "      <td>11609.380910</td>\n",
       "      <td>238961.2505</td>\n",
       "      <td>35321.45877</td>\n",
       "    </tr>\n",
       "    <tr>\n",
       "      <th>1</th>\n",
       "      <td>Harlan Barnes</td>\n",
       "      <td>eu.dolor@diam.co.uk</td>\n",
       "      <td>USA</td>\n",
       "      <td>0</td>\n",
       "      <td>41</td>\n",
       "      <td>66646.89292</td>\n",
       "      <td>9572.957136</td>\n",
       "      <td>530973.9078</td>\n",
       "      <td>45115.52566</td>\n",
       "    </tr>\n",
       "    <tr>\n",
       "      <th>2</th>\n",
       "      <td>Naomi Rodriquez</td>\n",
       "      <td>vulputate.mauris.sagittis@ametconsectetueradip...</td>\n",
       "      <td>USA</td>\n",
       "      <td>1</td>\n",
       "      <td>43</td>\n",
       "      <td>53798.55112</td>\n",
       "      <td>11160.355060</td>\n",
       "      <td>638467.1773</td>\n",
       "      <td>42925.70921</td>\n",
       "    </tr>\n",
       "    <tr>\n",
       "      <th>3</th>\n",
       "      <td>Jade Cunningham</td>\n",
       "      <td>malesuada@dignissim.com</td>\n",
       "      <td>USA</td>\n",
       "      <td>1</td>\n",
       "      <td>58</td>\n",
       "      <td>79370.03798</td>\n",
       "      <td>14426.164850</td>\n",
       "      <td>548599.0524</td>\n",
       "      <td>67422.36313</td>\n",
       "    </tr>\n",
       "    <tr>\n",
       "      <th>4</th>\n",
       "      <td>Cedric Leach</td>\n",
       "      <td>felis.ullamcorper.viverra@egetmollislectus.net</td>\n",
       "      <td>USA</td>\n",
       "      <td>1</td>\n",
       "      <td>57</td>\n",
       "      <td>59729.15130</td>\n",
       "      <td>5358.712177</td>\n",
       "      <td>560304.0671</td>\n",
       "      <td>55915.46248</td>\n",
       "    </tr>\n",
       "  </tbody>\n",
       "</table>\n",
       "</div>"
      ],
      "text/plain": [
       "     Customer Name                                    Customer e-mail Country  \\\n",
       "0    Martina Avila  cubilia.Curae.Phasellus@quisaccumsanconvallis.edu     USA   \n",
       "1    Harlan Barnes                                eu.dolor@diam.co.uk     USA   \n",
       "2  Naomi Rodriquez  vulputate.mauris.sagittis@ametconsectetueradip...     USA   \n",
       "3  Jade Cunningham                            malesuada@dignissim.com     USA   \n",
       "4     Cedric Leach     felis.ullamcorper.viverra@egetmollislectus.net     USA   \n",
       "\n",
       "   Gender  Age  Annual Salary  Credit Card Debt    Net Worth  \\\n",
       "0       0   42    62812.09301      11609.380910  238961.2505   \n",
       "1       0   41    66646.89292       9572.957136  530973.9078   \n",
       "2       1   43    53798.55112      11160.355060  638467.1773   \n",
       "3       1   58    79370.03798      14426.164850  548599.0524   \n",
       "4       1   57    59729.15130       5358.712177  560304.0671   \n",
       "\n",
       "   Car Purchase Amount  \n",
       "0          35321.45877  \n",
       "1          45115.52566  \n",
       "2          42925.70921  \n",
       "3          67422.36313  \n",
       "4          55915.46248  "
      ]
     },
     "execution_count": 27,
     "metadata": {},
     "output_type": "execute_result"
    }
   ],
   "source": [
    "data.head()"
   ]
  },
  {
   "cell_type": "code",
   "execution_count": 28,
   "metadata": {},
   "outputs": [],
   "source": [
    "from sklearn.linear_model import LinearRegression\n",
    "from sklearn.svm import SVR\n",
    "from sklearn.ensemble import RandomForestRegressor\n",
    "from sklearn.ensemble import GradientBoostingRegressor\n",
    "from xgboost import XGBRegressor"
   ]
  },
  {
   "cell_type": "markdown",
   "metadata": {},
   "source": [
    "### 12. Model Training"
   ]
  },
  {
   "cell_type": "code",
   "execution_count": 29,
   "metadata": {},
   "outputs": [
    {
     "data": {
      "text/plain": [
       "XGBRegressor(base_score=0.5, booster='gbtree', colsample_bylevel=1,\n",
       "             colsample_bynode=1, colsample_bytree=1, gamma=0, gpu_id=-1,\n",
       "             importance_type='gain', interaction_constraints='',\n",
       "             learning_rate=0.300000012, max_delta_step=0, max_depth=6,\n",
       "             min_child_weight=1, missing=nan, monotone_constraints='()',\n",
       "             n_estimators=100, n_jobs=4, num_parallel_tree=1, random_state=0,\n",
       "             reg_alpha=0, reg_lambda=1, scale_pos_weight=1, subsample=1,\n",
       "             tree_method='exact', validate_parameters=1, verbosity=None)"
      ]
     },
     "execution_count": 29,
     "metadata": {},
     "output_type": "execute_result"
    }
   ],
   "source": [
    "lr = LinearRegression()\n",
    "lr.fit(X_train,y_train)\n",
    "\n",
    "svm = SVR()\n",
    "svm.fit(X_train,y_train)\n",
    "\n",
    "rf = RandomForestRegressor()\n",
    "rf.fit(X_train,y_train)\n",
    "\n",
    "\n",
    "gbr = GradientBoostingRegressor()\n",
    "gbr.fit(X_train,y_train)\n",
    "\n",
    "xg = XGBRegressor()\n",
    "xg.fit(X_train,y_train)"
   ]
  },
  {
   "cell_type": "markdown",
   "metadata": {},
   "source": [
    "### ANN"
   ]
  },
  {
   "cell_type": "markdown",
   "metadata": {},
   "source": [
    "![title](ANN_car.png)"
   ]
  },
  {
   "cell_type": "markdown",
   "metadata": {},
   "source": [
    "### 13. Building The ANN"
   ]
  },
  {
   "cell_type": "code",
   "execution_count": 30,
   "metadata": {},
   "outputs": [
    {
     "name": "stderr",
     "output_type": "stream",
     "text": [
      "Using TensorFlow backend.\n"
     ]
    }
   ],
   "source": [
    "import tensorflow.keras\n",
    "from keras.models import Sequential\n",
    "from keras.layers import Dense"
   ]
  },
  {
   "cell_type": "markdown",
   "metadata": {},
   "source": [
    "### 13.1 Initialize The ANN"
   ]
  },
  {
   "cell_type": "code",
   "execution_count": 31,
   "metadata": {},
   "outputs": [],
   "source": [
    "ann = Sequential()"
   ]
  },
  {
   "cell_type": "markdown",
   "metadata": {},
   "source": [
    "### 13.2 Adding input layer and first hidden layer"
   ]
  },
  {
   "cell_type": "code",
   "execution_count": 32,
   "metadata": {},
   "outputs": [],
   "source": [
    "ann.add(Dense(25,input_dim=5,activation='relu'))"
   ]
  },
  {
   "cell_type": "markdown",
   "metadata": {},
   "source": [
    "### 13.3 Adding Second hidden layer"
   ]
  },
  {
   "cell_type": "code",
   "execution_count": 33,
   "metadata": {},
   "outputs": [],
   "source": [
    "ann.add(Dense(25,activation='relu'))"
   ]
  },
  {
   "cell_type": "markdown",
   "metadata": {},
   "source": [
    "### 13.4 Adding the output layer"
   ]
  },
  {
   "cell_type": "code",
   "execution_count": 34,
   "metadata": {},
   "outputs": [],
   "source": [
    "ann.add(Dense(1,activation='linear'))"
   ]
  },
  {
   "cell_type": "markdown",
   "metadata": {},
   "source": [
    "### 13.5 Training The ANN"
   ]
  },
  {
   "cell_type": "code",
   "execution_count": 35,
   "metadata": {},
   "outputs": [
    {
     "name": "stdout",
     "output_type": "stream",
     "text": [
      "Model: \"sequential_1\"\n",
      "_________________________________________________________________\n",
      "Layer (type)                 Output Shape              Param #   \n",
      "=================================================================\n",
      "dense_1 (Dense)              (None, 25)                150       \n",
      "_________________________________________________________________\n",
      "dense_2 (Dense)              (None, 25)                650       \n",
      "_________________________________________________________________\n",
      "dense_3 (Dense)              (None, 1)                 26        \n",
      "=================================================================\n",
      "Total params: 826\n",
      "Trainable params: 826\n",
      "Non-trainable params: 0\n",
      "_________________________________________________________________\n"
     ]
    }
   ],
   "source": [
    "ann.summary()"
   ]
  },
  {
   "cell_type": "code",
   "execution_count": 36,
   "metadata": {},
   "outputs": [],
   "source": [
    "ann.compile(optimizer='adam',loss='mean_squared_error')"
   ]
  },
  {
   "cell_type": "code",
   "execution_count": 37,
   "metadata": {},
   "outputs": [
    {
     "name": "stdout",
     "output_type": "stream",
     "text": [
      "WARNING:tensorflow:From C:\\ProgramData\\Anaconda3\\lib\\site-packages\\keras\\backend\\tensorflow_backend.py:422: The name tf.global_variables is deprecated. Please use tf.compat.v1.global_variables instead.\n",
      "\n",
      "Train on 320 samples, validate on 80 samples\n",
      "Epoch 1/100\n",
      "320/320 [==============================] - 0s 813us/step - loss: 0.1226 - val_loss: 0.0574\n",
      "Epoch 2/100\n",
      "320/320 [==============================] - 0s 63us/step - loss: 0.0415 - val_loss: 0.0169\n",
      "Epoch 3/100\n",
      "320/320 [==============================] - 0s 97us/step - loss: 0.0158 - val_loss: 0.0234\n",
      "Epoch 4/100\n",
      "320/320 [==============================] - 0s 106us/step - loss: 0.0191 - val_loss: 0.0246\n",
      "Epoch 5/100\n",
      "320/320 [==============================] - 0s 100us/step - loss: 0.0154 - val_loss: 0.0133\n",
      "Epoch 6/100\n",
      "320/320 [==============================] - 0s 72us/step - loss: 0.0106 - val_loss: 0.0093\n",
      "Epoch 7/100\n",
      "320/320 [==============================] - 0s 91us/step - loss: 0.0094 - val_loss: 0.0084\n",
      "Epoch 8/100\n",
      "320/320 [==============================] - 0s 81us/step - loss: 0.0079 - val_loss: 0.0085\n",
      "Epoch 9/100\n",
      "320/320 [==============================] - 0s 97us/step - loss: 0.0070 - val_loss: 0.0079\n",
      "Epoch 10/100\n",
      "320/320 [==============================] - 0s 94us/step - loss: 0.0063 - val_loss: 0.0069\n",
      "Epoch 11/100\n",
      "320/320 [==============================] - 0s 91us/step - loss: 0.0057 - val_loss: 0.0063\n",
      "Epoch 12/100\n",
      "320/320 [==============================] - 0s 91us/step - loss: 0.0052 - val_loss: 0.0057\n",
      "Epoch 13/100\n",
      "320/320 [==============================] - 0s 81us/step - loss: 0.0046 - val_loss: 0.0051\n",
      "Epoch 14/100\n",
      "320/320 [==============================] - 0s 88us/step - loss: 0.0042 - val_loss: 0.0045\n",
      "Epoch 15/100\n",
      "320/320 [==============================] - 0s 72us/step - loss: 0.0038 - val_loss: 0.0040\n",
      "Epoch 16/100\n",
      "320/320 [==============================] - 0s 84us/step - loss: 0.0035 - val_loss: 0.0036\n",
      "Epoch 17/100\n",
      "320/320 [==============================] - 0s 84us/step - loss: 0.0031 - val_loss: 0.0032\n",
      "Epoch 18/100\n",
      "320/320 [==============================] - 0s 78us/step - loss: 0.0028 - val_loss: 0.0028\n",
      "Epoch 19/100\n",
      "320/320 [==============================] - 0s 91us/step - loss: 0.0025 - val_loss: 0.0025\n",
      "Epoch 20/100\n",
      "320/320 [==============================] - 0s 91us/step - loss: 0.0023 - val_loss: 0.0022\n",
      "Epoch 21/100\n",
      "320/320 [==============================] - 0s 91us/step - loss: 0.0021 - val_loss: 0.0019\n",
      "Epoch 22/100\n",
      "320/320 [==============================] - 0s 91us/step - loss: 0.0019 - val_loss: 0.0018\n",
      "Epoch 23/100\n",
      "320/320 [==============================] - 0s 81us/step - loss: 0.0016 - val_loss: 0.0015\n",
      "Epoch 24/100\n",
      "320/320 [==============================] - 0s 81us/step - loss: 0.0015 - val_loss: 0.0014\n",
      "Epoch 25/100\n",
      "320/320 [==============================] - 0s 78us/step - loss: 0.0013 - val_loss: 0.0011\n",
      "Epoch 26/100\n",
      "320/320 [==============================] - 0s 91us/step - loss: 0.0012 - val_loss: 0.0010\n",
      "Epoch 27/100\n",
      "320/320 [==============================] - 0s 72us/step - loss: 0.0011 - val_loss: 9.3122e-04\n",
      "Epoch 28/100\n",
      "320/320 [==============================] - 0s 81us/step - loss: 0.0010 - val_loss: 8.4213e-04\n",
      "Epoch 29/100\n",
      "320/320 [==============================] - 0s 88us/step - loss: 9.0393e-04 - val_loss: 7.3497e-04\n",
      "Epoch 30/100\n",
      "320/320 [==============================] - 0s 94us/step - loss: 8.3629e-04 - val_loss: 6.6493e-04\n",
      "Epoch 31/100\n",
      "320/320 [==============================] - 0s 81us/step - loss: 7.6954e-04 - val_loss: 6.0452e-04\n",
      "Epoch 32/100\n",
      "320/320 [==============================] - 0s 88us/step - loss: 7.0824e-04 - val_loss: 5.7455e-04\n",
      "Epoch 33/100\n",
      "320/320 [==============================] - 0s 75us/step - loss: 6.6546e-04 - val_loss: 5.2296e-04\n",
      "Epoch 34/100\n",
      "320/320 [==============================] - 0s 91us/step - loss: 6.2492e-04 - val_loss: 4.8945e-04\n",
      "Epoch 35/100\n",
      "320/320 [==============================] - 0s 91us/step - loss: 5.8489e-04 - val_loss: 4.2381e-04\n",
      "Epoch 36/100\n",
      "320/320 [==============================] - 0s 78us/step - loss: 5.2126e-04 - val_loss: 4.3255e-04\n",
      "Epoch 37/100\n",
      "320/320 [==============================] - 0s 84us/step - loss: 4.8135e-04 - val_loss: 3.6065e-04\n",
      "Epoch 38/100\n",
      "320/320 [==============================] - 0s 100us/step - loss: 4.5924e-04 - val_loss: 3.8801e-04\n",
      "Epoch 39/100\n",
      "320/320 [==============================] - 0s 75us/step - loss: 4.1923e-04 - val_loss: 3.2204e-04\n",
      "Epoch 40/100\n",
      "320/320 [==============================] - 0s 88us/step - loss: 3.9452e-04 - val_loss: 3.2411e-04\n",
      "Epoch 41/100\n",
      "320/320 [==============================] - 0s 81us/step - loss: 3.6813e-04 - val_loss: 3.1441e-04\n",
      "Epoch 42/100\n",
      "320/320 [==============================] - 0s 91us/step - loss: 3.4324e-04 - val_loss: 2.7713e-04\n",
      "Epoch 43/100\n",
      "320/320 [==============================] - 0s 81us/step - loss: 3.3675e-04 - val_loss: 3.1123e-04\n",
      "Epoch 44/100\n",
      "320/320 [==============================] - 0s 75us/step - loss: 3.2332e-04 - val_loss: 2.5736e-04\n",
      "Epoch 45/100\n",
      "320/320 [==============================] - 0s 72us/step - loss: 2.8596e-04 - val_loss: 2.3768e-04\n",
      "Epoch 46/100\n",
      "320/320 [==============================] - 0s 72us/step - loss: 2.6552e-04 - val_loss: 2.4273e-04\n",
      "Epoch 47/100\n",
      "320/320 [==============================] - 0s 81us/step - loss: 2.4907e-04 - val_loss: 2.2198e-04\n",
      "Epoch 48/100\n",
      "320/320 [==============================] - 0s 75us/step - loss: 2.3506e-04 - val_loss: 2.1483e-04\n",
      "Epoch 49/100\n",
      "320/320 [==============================] - 0s 75us/step - loss: 2.4190e-04 - val_loss: 2.5596e-04\n",
      "Epoch 50/100\n",
      "320/320 [==============================] - 0s 75us/step - loss: 2.2234e-04 - val_loss: 1.9639e-04\n",
      "Epoch 51/100\n",
      "320/320 [==============================] - 0s 69us/step - loss: 2.1004e-04 - val_loss: 1.9279e-04\n",
      "Epoch 52/100\n",
      "320/320 [==============================] - 0s 75us/step - loss: 1.9473e-04 - val_loss: 1.9319e-04\n",
      "Epoch 53/100\n",
      "320/320 [==============================] - 0s 75us/step - loss: 1.8910e-04 - val_loss: 1.8581e-04\n",
      "Epoch 54/100\n",
      "320/320 [==============================] - 0s 75us/step - loss: 1.9521e-04 - val_loss: 1.9101e-04\n",
      "Epoch 55/100\n",
      "320/320 [==============================] - 0s 84us/step - loss: 1.7773e-04 - val_loss: 1.8188e-04\n",
      "Epoch 56/100\n",
      "320/320 [==============================] - 0s 72us/step - loss: 1.7259e-04 - val_loss: 1.8230e-04\n",
      "Epoch 57/100\n",
      "320/320 [==============================] - 0s 75us/step - loss: 1.6674e-04 - val_loss: 1.7748e-04\n",
      "Epoch 58/100\n",
      "320/320 [==============================] - 0s 69us/step - loss: 1.6583e-04 - val_loss: 1.9718e-04\n",
      "Epoch 59/100\n",
      "320/320 [==============================] - 0s 84us/step - loss: 1.6981e-04 - val_loss: 1.7743e-04\n",
      "Epoch 60/100\n",
      "320/320 [==============================] - 0s 78us/step - loss: 1.5130e-04 - val_loss: 1.6592e-04\n",
      "Epoch 61/100\n",
      "320/320 [==============================] - 0s 72us/step - loss: 1.4225e-04 - val_loss: 1.5716e-04\n",
      "Epoch 62/100\n",
      "320/320 [==============================] - 0s 66us/step - loss: 1.3644e-04 - val_loss: 1.5182e-04\n",
      "Epoch 63/100\n",
      "320/320 [==============================] - 0s 94us/step - loss: 1.3038e-04 - val_loss: 1.4899e-04\n",
      "Epoch 64/100\n",
      "320/320 [==============================] - 0s 72us/step - loss: 1.2548e-04 - val_loss: 1.4771e-04\n",
      "Epoch 65/100\n",
      "320/320 [==============================] - 0s 75us/step - loss: 1.2203e-04 - val_loss: 1.4321e-04\n",
      "Epoch 66/100\n",
      "320/320 [==============================] - 0s 72us/step - loss: 1.1683e-04 - val_loss: 1.3888e-04\n",
      "Epoch 67/100\n",
      "320/320 [==============================] - 0s 113us/step - loss: 1.1497e-04 - val_loss: 1.3375e-04\n",
      "Epoch 68/100\n",
      "320/320 [==============================] - 0s 69us/step - loss: 1.0941e-04 - val_loss: 1.3300e-04\n",
      "Epoch 69/100\n",
      "320/320 [==============================] - 0s 66us/step - loss: 1.0618e-04 - val_loss: 1.2957e-04\n",
      "Epoch 70/100\n",
      "320/320 [==============================] - 0s 72us/step - loss: 1.0384e-04 - val_loss: 1.3253e-04\n",
      "Epoch 71/100\n",
      "320/320 [==============================] - 0s 72us/step - loss: 1.0192e-04 - val_loss: 1.2354e-04\n",
      "Epoch 72/100\n",
      "320/320 [==============================] - 0s 63us/step - loss: 9.8381e-05 - val_loss: 1.2477e-04\n",
      "Epoch 73/100\n",
      "320/320 [==============================] - 0s 78us/step - loss: 9.8607e-05 - val_loss: 1.2379e-04\n",
      "Epoch 74/100\n",
      "320/320 [==============================] - 0s 109us/step - loss: 9.4196e-05 - val_loss: 1.1634e-04\n",
      "Epoch 75/100\n",
      "320/320 [==============================] - 0s 84us/step - loss: 8.8159e-05 - val_loss: 1.1109e-04\n",
      "Epoch 76/100\n",
      "320/320 [==============================] - 0s 75us/step - loss: 8.6685e-05 - val_loss: 1.1482e-04\n",
      "Epoch 77/100\n",
      "320/320 [==============================] - 0s 63us/step - loss: 8.6432e-05 - val_loss: 1.1322e-04\n",
      "Epoch 78/100\n",
      "320/320 [==============================] - 0s 78us/step - loss: 8.1858e-05 - val_loss: 1.1003e-04\n",
      "Epoch 79/100\n",
      "320/320 [==============================] - 0s 69us/step - loss: 7.8445e-05 - val_loss: 1.1010e-04\n",
      "Epoch 80/100\n",
      "320/320 [==============================] - 0s 72us/step - loss: 7.6031e-05 - val_loss: 1.0408e-04\n",
      "Epoch 81/100\n",
      "320/320 [==============================] - 0s 75us/step - loss: 7.3716e-05 - val_loss: 1.0366e-04\n",
      "Epoch 82/100\n",
      "320/320 [==============================] - 0s 66us/step - loss: 7.2188e-05 - val_loss: 1.0610e-04\n",
      "Epoch 83/100\n",
      "320/320 [==============================] - 0s 84us/step - loss: 7.0368e-05 - val_loss: 1.0231e-04\n",
      "Epoch 84/100\n",
      "320/320 [==============================] - 0s 53us/step - loss: 6.9242e-05 - val_loss: 1.0172e-04\n",
      "Epoch 85/100\n",
      "320/320 [==============================] - 0s 47us/step - loss: 6.6162e-05 - val_loss: 9.7217e-05\n",
      "Epoch 86/100\n",
      "320/320 [==============================] - 0s 53us/step - loss: 6.5127e-05 - val_loss: 9.9754e-05\n",
      "Epoch 87/100\n",
      "320/320 [==============================] - 0s 53us/step - loss: 6.2135e-05 - val_loss: 1.0141e-04\n",
      "Epoch 88/100\n",
      "320/320 [==============================] - 0s 53us/step - loss: 6.2572e-05 - val_loss: 9.5621e-05\n",
      "Epoch 89/100\n",
      "320/320 [==============================] - 0s 56us/step - loss: 6.3918e-05 - val_loss: 9.7039e-05\n",
      "Epoch 90/100\n",
      "320/320 [==============================] - ETA: 0s - loss: 5.2579e-0 - 0s 91us/step - loss: 6.5129e-05 - val_loss: 9.3437e-05\n",
      "Epoch 91/100\n",
      "320/320 [==============================] - 0s 75us/step - loss: 6.0315e-05 - val_loss: 9.4169e-05\n",
      "Epoch 92/100\n",
      "320/320 [==============================] - 0s 88us/step - loss: 5.8273e-05 - val_loss: 8.6107e-05\n",
      "Epoch 93/100\n",
      "320/320 [==============================] - 0s 81us/step - loss: 5.6166e-05 - val_loss: 9.1644e-05\n",
      "Epoch 94/100\n",
      "320/320 [==============================] - 0s 84us/step - loss: 5.7454e-05 - val_loss: 8.9333e-05\n",
      "Epoch 95/100\n",
      "320/320 [==============================] - 0s 72us/step - loss: 5.5649e-05 - val_loss: 8.7123e-05\n",
      "Epoch 96/100\n",
      "320/320 [==============================] - 0s 66us/step - loss: 5.4011e-05 - val_loss: 9.6216e-05\n",
      "Epoch 97/100\n",
      "320/320 [==============================] - 0s 81us/step - loss: 5.4555e-05 - val_loss: 8.5772e-05\n",
      "Epoch 98/100\n",
      "320/320 [==============================] - 0s 78us/step - loss: 5.0719e-05 - val_loss: 8.4543e-05\n",
      "Epoch 99/100\n",
      "320/320 [==============================] - 0s 75us/step - loss: 4.9666e-05 - val_loss: 8.2332e-05\n",
      "Epoch 100/100\n",
      "320/320 [==============================] - 0s 88us/step - loss: 4.9124e-05 - val_loss: 8.3572e-05\n"
     ]
    },
    {
     "data": {
      "text/plain": [
       "<keras.callbacks.callbacks.History at 0x1f1c2788>"
      ]
     },
     "execution_count": 37,
     "metadata": {},
     "output_type": "execute_result"
    }
   ],
   "source": [
    "ann.fit(X_train,y_train,epochs=100,batch_size=50,verbose=1,validation_split=0.2)"
   ]
  },
  {
   "cell_type": "markdown",
   "metadata": {},
   "source": [
    "### 14. Prediction on Test Data"
   ]
  },
  {
   "cell_type": "code",
   "execution_count": 38,
   "metadata": {},
   "outputs": [],
   "source": [
    "y_pred1 = lr.predict(X_test)\n",
    "y_pred2 = svm.predict(X_test)\n",
    "y_pred3 = rf.predict(X_test)\n",
    "y_pred4 = gbr.predict(X_test)\n",
    "y_pred5 = xg.predict(X_test)\n",
    "y_pred6 = ann.predict(X_test)"
   ]
  },
  {
   "cell_type": "markdown",
   "metadata": {},
   "source": [
    "### 15. Evaluating the Algorithm"
   ]
  },
  {
   "cell_type": "code",
   "execution_count": 39,
   "metadata": {},
   "outputs": [],
   "source": [
    "from sklearn import metrics"
   ]
  },
  {
   "cell_type": "code",
   "execution_count": 40,
   "metadata": {},
   "outputs": [],
   "source": [
    "score1 = metrics.r2_score(y_test,y_pred1)\n",
    "score2 = metrics.r2_score(y_test,y_pred2)\n",
    "score3 = metrics.r2_score(y_test,y_pred3)\n",
    "score4 = metrics.r2_score(y_test,y_pred4)\n",
    "score5 = metrics.r2_score(y_test,y_pred5)\n",
    "score6 = metrics.r2_score(y_test,y_pred6)"
   ]
  },
  {
   "cell_type": "code",
   "execution_count": 41,
   "metadata": {},
   "outputs": [
    {
     "name": "stdout",
     "output_type": "stream",
     "text": [
      "0.9994234310992762 0.9547066777872099 0.9535675486435091 0.9744025716695657 0.9497563859782069 0.997357966334302\n"
     ]
    }
   ],
   "source": [
    "print(score1,score2,score3,score4,score5,score6)"
   ]
  },
  {
   "cell_type": "code",
   "execution_count": 42,
   "metadata": {},
   "outputs": [],
   "source": [
    "final_data = pd.DataFrame({'Models':['LR','SVR','RF','GBR','XG','ANN'],\n",
    "              'R2_SCORE':[score1,score2,score3,score4,score5,score6]})"
   ]
  },
  {
   "cell_type": "code",
   "execution_count": 43,
   "metadata": {},
   "outputs": [
    {
     "data": {
      "text/html": [
       "<div>\n",
       "<style scoped>\n",
       "    .dataframe tbody tr th:only-of-type {\n",
       "        vertical-align: middle;\n",
       "    }\n",
       "\n",
       "    .dataframe tbody tr th {\n",
       "        vertical-align: top;\n",
       "    }\n",
       "\n",
       "    .dataframe thead th {\n",
       "        text-align: right;\n",
       "    }\n",
       "</style>\n",
       "<table border=\"1\" class=\"dataframe\">\n",
       "  <thead>\n",
       "    <tr style=\"text-align: right;\">\n",
       "      <th></th>\n",
       "      <th>Models</th>\n",
       "      <th>R2_SCORE</th>\n",
       "    </tr>\n",
       "  </thead>\n",
       "  <tbody>\n",
       "    <tr>\n",
       "      <th>0</th>\n",
       "      <td>LR</td>\n",
       "      <td>0.999423</td>\n",
       "    </tr>\n",
       "    <tr>\n",
       "      <th>1</th>\n",
       "      <td>SVR</td>\n",
       "      <td>0.954707</td>\n",
       "    </tr>\n",
       "    <tr>\n",
       "      <th>2</th>\n",
       "      <td>RF</td>\n",
       "      <td>0.953568</td>\n",
       "    </tr>\n",
       "    <tr>\n",
       "      <th>3</th>\n",
       "      <td>GBR</td>\n",
       "      <td>0.974403</td>\n",
       "    </tr>\n",
       "    <tr>\n",
       "      <th>4</th>\n",
       "      <td>XG</td>\n",
       "      <td>0.949756</td>\n",
       "    </tr>\n",
       "    <tr>\n",
       "      <th>5</th>\n",
       "      <td>ANN</td>\n",
       "      <td>0.997358</td>\n",
       "    </tr>\n",
       "  </tbody>\n",
       "</table>\n",
       "</div>"
      ],
      "text/plain": [
       "  Models  R2_SCORE\n",
       "0     LR  0.999423\n",
       "1    SVR  0.954707\n",
       "2     RF  0.953568\n",
       "3    GBR  0.974403\n",
       "4     XG  0.949756\n",
       "5    ANN  0.997358"
      ]
     },
     "execution_count": 43,
     "metadata": {},
     "output_type": "execute_result"
    }
   ],
   "source": [
    "final_data"
   ]
  },
  {
   "cell_type": "code",
   "execution_count": 44,
   "metadata": {},
   "outputs": [],
   "source": [
    "import seaborn as sns"
   ]
  },
  {
   "cell_type": "code",
   "execution_count": 45,
   "metadata": {},
   "outputs": [
    {
     "data": {
      "text/plain": [
       "<AxesSubplot:xlabel='Models', ylabel='R2_SCORE'>"
      ]
     },
     "execution_count": 45,
     "metadata": {},
     "output_type": "execute_result"
    },
    {
     "data": {
      "image/png": "[encoded data removed]",
      "text/plain": [
       "<Figure size 432x288 with 1 Axes>"
      ]
     },
     "metadata": {
      "needs_background": "light"
     },
     "output_type": "display_data"
    }
   ],
   "source": [
    "sns.barplot(final_data['Models'],final_data['R2_SCORE'])"
   ]
  },
  {
   "cell_type": "code",
   "execution_count": null,
   "metadata": {},
   "outputs": [],
   "source": []
  },
  {
   "cell_type": "markdown",
   "metadata": {},
   "source": [
    "### 16. Save The Model"
   ]
  },
  {
   "cell_type": "code",
   "execution_count": 46,
   "metadata": {},
   "outputs": [],
   "source": [
    "import tensorflow.keras\n",
    "from keras.models import Sequential\n",
    "from keras.layers import Dense"
   ]
  },
  {
   "cell_type": "code",
   "execution_count": 47,
   "metadata": {},
   "outputs": [],
   "source": [
    "ann = Sequential()"
   ]
  },
  {
   "cell_type": "code",
   "execution_count": 48,
   "metadata": {},
   "outputs": [],
   "source": [
    "ann.add(Dense(25,input_dim=5,activation='relu'))\n",
    "ann.add(Dense(25,activation='relu'))\n",
    "ann.add(Dense(1,activation='linear'))"
   ]
  },
  {
   "cell_type": "code",
   "execution_count": 49,
   "metadata": {},
   "outputs": [
    {
     "name": "stdout",
     "output_type": "stream",
     "text": [
      "Epoch 1/100\n",
      "500/500 [==============================] - 0s 432us/step - loss: 0.3559\n",
      "Epoch 2/100\n",
      "500/500 [==============================] - 0s 58us/step - loss: 0.1572\n",
      "Epoch 3/100\n",
      "500/500 [==============================] - 0s 82us/step - loss: 0.0555\n",
      "Epoch 4/100\n",
      "500/500 [==============================] - 0s 74us/step - loss: 0.0172\n",
      "Epoch 5/100\n",
      "500/500 [==============================] - 0s 62us/step - loss: 0.0159\n",
      "Epoch 6/100\n",
      "500/500 [==============================] - 0s 74us/step - loss: 0.0136\n",
      "Epoch 7/100\n",
      "500/500 [==============================] - 0s 70us/step - loss: 0.0113\n",
      "Epoch 8/100\n",
      "500/500 [==============================] - 0s 72us/step - loss: 0.0108\n",
      "Epoch 9/100\n",
      "500/500 [==============================] - 0s 58us/step - loss: 0.0101\n",
      "Epoch 10/100\n",
      "500/500 [==============================] - 0s 70us/step - loss: 0.0095\n",
      "Epoch 11/100\n",
      "500/500 [==============================] - 0s 66us/step - loss: 0.0090\n",
      "Epoch 12/100\n",
      "500/500 [==============================] - 0s 62us/step - loss: 0.0085\n",
      "Epoch 13/100\n",
      "500/500 [==============================] - 0s 74us/step - loss: 0.0081\n",
      "Epoch 14/100\n",
      "500/500 [==============================] - 0s 72us/step - loss: 0.0077\n",
      "Epoch 15/100\n",
      "500/500 [==============================] - 0s 64us/step - loss: 0.0073\n",
      "Epoch 16/100\n",
      "500/500 [==============================] - 0s 72us/step - loss: 0.0069\n",
      "Epoch 17/100\n",
      "500/500 [==============================] - 0s 72us/step - loss: 0.0065\n",
      "Epoch 18/100\n",
      "500/500 [==============================] - 0s 60us/step - loss: 0.0060\n",
      "Epoch 19/100\n",
      "500/500 [==============================] - 0s 68us/step - loss: 0.0056\n",
      "Epoch 20/100\n",
      "500/500 [==============================] - 0s 64us/step - loss: 0.0052\n",
      "Epoch 21/100\n",
      "500/500 [==============================] - 0s 68us/step - loss: 0.0049\n",
      "Epoch 22/100\n",
      "500/500 [==============================] - 0s 68us/step - loss: 0.0045\n",
      "Epoch 23/100\n",
      "500/500 [==============================] - 0s 62us/step - loss: 0.0042\n",
      "Epoch 24/100\n",
      "500/500 [==============================] - 0s 80us/step - loss: 0.0039\n",
      "Epoch 25/100\n",
      "500/500 [==============================] - 0s 76us/step - loss: 0.0036\n",
      "Epoch 26/100\n",
      "500/500 [==============================] - 0s 66us/step - loss: 0.0033\n",
      "Epoch 27/100\n",
      "500/500 [==============================] - 0s 70us/step - loss: 0.0030\n",
      "Epoch 28/100\n",
      "500/500 [==============================] - 0s 70us/step - loss: 0.0028\n",
      "Epoch 29/100\n",
      "500/500 [==============================] - 0s 64us/step - loss: 0.0026\n",
      "Epoch 30/100\n",
      "500/500 [==============================] - 0s 64us/step - loss: 0.0024\n",
      "Epoch 31/100\n",
      "500/500 [==============================] - 0s 64us/step - loss: 0.0022\n",
      "Epoch 32/100\n",
      "500/500 [==============================] - 0s 66us/step - loss: 0.0020\n",
      "Epoch 33/100\n",
      "500/500 [==============================] - 0s 62us/step - loss: 0.0019\n",
      "Epoch 34/100\n",
      "500/500 [==============================] - 0s 64us/step - loss: 0.0017\n",
      "Epoch 35/100\n",
      "500/500 [==============================] - 0s 68us/step - loss: 0.0016\n",
      "Epoch 36/100\n",
      "500/500 [==============================] - 0s 56us/step - loss: 0.0014\n",
      "Epoch 37/100\n",
      "500/500 [==============================] - 0s 78us/step - loss: 0.0013\n",
      "Epoch 38/100\n",
      "500/500 [==============================] - 0s 50us/step - loss: 0.0012\n",
      "Epoch 39/100\n",
      "500/500 [==============================] - 0s 68us/step - loss: 0.0011\n",
      "Epoch 40/100\n",
      "500/500 [==============================] - 0s 72us/step - loss: 0.0010\n",
      "Epoch 41/100\n",
      "500/500 [==============================] - 0s 68us/step - loss: 9.5923e-04\n",
      "Epoch 42/100\n",
      "500/500 [==============================] - 0s 60us/step - loss: 8.9678e-04\n",
      "Epoch 43/100\n",
      "500/500 [==============================] - 0s 64us/step - loss: 8.2078e-04\n",
      "Epoch 44/100\n",
      "500/500 [==============================] - 0s 52us/step - loss: 7.5757e-04\n",
      "Epoch 45/100\n",
      "500/500 [==============================] - 0s 72us/step - loss: 7.1198e-04\n",
      "Epoch 46/100\n",
      "500/500 [==============================] - 0s 52us/step - loss: 6.5695e-04\n",
      "Epoch 47/100\n",
      "500/500 [==============================] - 0s 68us/step - loss: 6.1028e-04\n",
      "Epoch 48/100\n",
      "500/500 [==============================] - 0s 60us/step - loss: 5.6919e-04\n",
      "Epoch 49/100\n",
      "500/500 [==============================] - 0s 64us/step - loss: 5.2545e-04\n",
      "Epoch 50/100\n",
      "500/500 [==============================] - 0s 60us/step - loss: 4.9242e-04\n",
      "Epoch 51/100\n",
      "500/500 [==============================] - 0s 60us/step - loss: 4.6392e-04\n",
      "Epoch 52/100\n",
      "500/500 [==============================] - 0s 72us/step - loss: 4.2822e-04\n",
      "Epoch 53/100\n",
      "500/500 [==============================] - 0s 68us/step - loss: 4.0328e-04\n",
      "Epoch 54/100\n",
      "500/500 [==============================] - 0s 66us/step - loss: 3.8014e-04\n",
      "Epoch 55/100\n",
      "500/500 [==============================] - 0s 58us/step - loss: 3.5609e-04\n",
      "Epoch 56/100\n",
      "500/500 [==============================] - 0s 56us/step - loss: 3.3310e-04\n",
      "Epoch 57/100\n",
      "500/500 [==============================] - 0s 74us/step - loss: 3.1552e-04\n",
      "Epoch 58/100\n",
      "500/500 [==============================] - 0s 64us/step - loss: 2.9761e-04\n",
      "Epoch 59/100\n",
      "500/500 [==============================] - 0s 56us/step - loss: 2.8145e-04\n",
      "Epoch 60/100\n",
      "500/500 [==============================] - 0s 54us/step - loss: 2.6477e-04\n",
      "Epoch 61/100\n",
      "500/500 [==============================] - 0s 60us/step - loss: 2.5278e-04\n",
      "Epoch 62/100\n",
      "500/500 [==============================] - 0s 52us/step - loss: 2.3822e-04\n",
      "Epoch 63/100\n",
      "500/500 [==============================] - 0s 56us/step - loss: 2.2684e-04\n",
      "Epoch 64/100\n",
      "500/500 [==============================] - 0s 60us/step - loss: 2.1718e-04\n",
      "Epoch 65/100\n",
      "500/500 [==============================] - 0s 54us/step - loss: 2.1131e-04\n",
      "Epoch 66/100\n",
      "500/500 [==============================] - 0s 50us/step - loss: 1.9866e-04\n",
      "Epoch 67/100\n",
      "500/500 [==============================] - 0s 50us/step - loss: 1.9009e-04\n",
      "Epoch 68/100\n",
      "500/500 [==============================] - 0s 52us/step - loss: 1.8810e-04\n",
      "Epoch 69/100\n",
      "500/500 [==============================] - 0s 50us/step - loss: 1.7319e-04\n",
      "Epoch 70/100\n",
      "500/500 [==============================] - 0s 56us/step - loss: 1.6650e-04\n",
      "Epoch 71/100\n",
      "500/500 [==============================] - 0s 56us/step - loss: 1.6062e-04\n",
      "Epoch 72/100\n",
      "500/500 [==============================] - 0s 62us/step - loss: 1.5536e-04\n",
      "Epoch 73/100\n",
      "500/500 [==============================] - 0s 54us/step - loss: 1.4991e-04\n",
      "Epoch 74/100\n",
      "500/500 [==============================] - 0s 54us/step - loss: 1.4812e-04\n",
      "Epoch 75/100\n",
      "500/500 [==============================] - 0s 52us/step - loss: 1.4044e-04\n",
      "Epoch 76/100\n",
      "500/500 [==============================] - 0s 52us/step - loss: 1.3449e-04\n",
      "Epoch 77/100\n",
      "500/500 [==============================] - 0s 56us/step - loss: 1.3253e-04\n",
      "Epoch 78/100\n",
      "500/500 [==============================] - 0s 56us/step - loss: 1.2724e-04\n",
      "Epoch 79/100\n",
      "500/500 [==============================] - 0s 54us/step - loss: 1.2537e-04\n",
      "Epoch 80/100\n",
      "500/500 [==============================] - 0s 52us/step - loss: 1.2008e-04\n",
      "Epoch 81/100\n",
      "500/500 [==============================] - 0s 56us/step - loss: 1.1646e-04\n",
      "Epoch 82/100\n",
      "500/500 [==============================] - 0s 58us/step - loss: 1.1184e-04\n",
      "Epoch 83/100\n",
      "500/500 [==============================] - 0s 52us/step - loss: 1.1072e-04\n",
      "Epoch 84/100\n",
      "500/500 [==============================] - 0s 50us/step - loss: 1.0811e-04\n",
      "Epoch 85/100\n",
      "500/500 [==============================] - 0s 52us/step - loss: 1.0884e-04\n",
      "Epoch 86/100\n",
      "500/500 [==============================] - 0s 56us/step - loss: 1.0492e-04\n",
      "Epoch 87/100\n",
      "500/500 [==============================] - 0s 56us/step - loss: 9.9775e-05\n",
      "Epoch 88/100\n",
      "500/500 [==============================] - 0s 50us/step - loss: 9.9236e-05\n",
      "Epoch 89/100\n",
      "500/500 [==============================] - 0s 60us/step - loss: 9.3529e-05\n",
      "Epoch 90/100\n",
      "500/500 [==============================] - 0s 60us/step - loss: 9.1986e-05\n",
      "Epoch 91/100\n",
      "500/500 [==============================] - 0s 52us/step - loss: 8.8451e-05\n",
      "Epoch 92/100\n",
      "500/500 [==============================] - 0s 54us/step - loss: 8.5769e-05\n",
      "Epoch 93/100\n",
      "500/500 [==============================] - 0s 54us/step - loss: 8.5231e-05\n",
      "Epoch 94/100\n",
      "500/500 [==============================] - 0s 50us/step - loss: 8.2052e-05\n",
      "Epoch 95/100\n",
      "500/500 [==============================] - 0s 58us/step - loss: 7.9727e-05\n",
      "Epoch 96/100\n",
      "500/500 [==============================] - 0s 50us/step - loss: 7.6806e-05\n",
      "Epoch 97/100\n",
      "500/500 [==============================] - 0s 50us/step - loss: 7.4965e-05\n",
      "Epoch 98/100\n",
      "500/500 [==============================] - 0s 52us/step - loss: 7.5139e-05\n",
      "Epoch 99/100\n",
      "500/500 [==============================] - 0s 56us/step - loss: 7.2930e-05\n",
      "Epoch 100/100\n",
      "500/500 [==============================] - 0s 54us/step - loss: 6.9703e-05\n"
     ]
    },
    {
     "data": {
      "text/plain": [
       "<keras.callbacks.callbacks.History at 0x1ffccdc8>"
      ]
     },
     "execution_count": 49,
     "metadata": {},
     "output_type": "execute_result"
    }
   ],
   "source": [
    "ann.compile(optimizer='adam',loss='mean_squared_error')\n",
    "ann.fit(X_scaled,y_scaled,epochs=100,batch_size=50,verbose=1)"
   ]
  },
  {
   "cell_type": "code",
   "execution_count": 50,
   "metadata": {},
   "outputs": [],
   "source": [
    "import joblib"
   ]
  },
  {
   "cell_type": "code",
   "execution_count": 51,
   "metadata": {},
   "outputs": [
    {
     "data": {
      "text/plain": [
       "['car_model']"
      ]
     },
     "execution_count": 51,
     "metadata": {},
     "output_type": "execute_result"
    }
   ],
   "source": [
    "joblib.dump(ann,'car_model')"
   ]
  },
  {
   "cell_type": "code",
   "execution_count": 52,
   "metadata": {},
   "outputs": [],
   "source": [
    "model = joblib.load('car_model')"
   ]
  },
  {
   "cell_type": "markdown",
   "metadata": {},
   "source": [
    "### 17. Prediction on New Data"
   ]
  },
  {
   "cell_type": "code",
   "execution_count": 59,
   "metadata": {},
   "outputs": [],
   "source": [
    "import numpy as np"
   ]
  },
  {
   "cell_type": "code",
   "execution_count": 60,
   "metadata": {},
   "outputs": [
    {
     "data": {
      "text/html": [
       "<div>\n",
       "<style scoped>\n",
       "    .dataframe tbody tr th:only-of-type {\n",
       "        vertical-align: middle;\n",
       "    }\n",
       "\n",
       "    .dataframe tbody tr th {\n",
       "        vertical-align: top;\n",
       "    }\n",
       "\n",
       "    .dataframe thead th {\n",
       "        text-align: right;\n",
       "    }\n",
       "</style>\n",
       "<table border=\"1\" class=\"dataframe\">\n",
       "  <thead>\n",
       "    <tr style=\"text-align: right;\">\n",
       "      <th></th>\n",
       "      <th>Customer Name</th>\n",
       "      <th>Customer e-mail</th>\n",
       "      <th>Country</th>\n",
       "      <th>Gender</th>\n",
       "      <th>Age</th>\n",
       "      <th>Annual Salary</th>\n",
       "      <th>Credit Card Debt</th>\n",
       "      <th>Net Worth</th>\n",
       "      <th>Car Purchase Amount</th>\n",
       "    </tr>\n",
       "  </thead>\n",
       "  <tbody>\n",
       "    <tr>\n",
       "      <th>0</th>\n",
       "      <td>Martina Avila</td>\n",
       "      <td>cubilia.Curae.Phasellus@quisaccumsanconvallis.edu</td>\n",
       "      <td>USA</td>\n",
       "      <td>0</td>\n",
       "      <td>42</td>\n",
       "      <td>62812.09301</td>\n",
       "      <td>11609.38091</td>\n",
       "      <td>238961.2505</td>\n",
       "      <td>35321.45877</td>\n",
       "    </tr>\n",
       "  </tbody>\n",
       "</table>\n",
       "</div>"
      ],
      "text/plain": [
       "   Customer Name                                    Customer e-mail Country  \\\n",
       "0  Martina Avila  cubilia.Curae.Phasellus@quisaccumsanconvallis.edu     USA   \n",
       "\n",
       "   Gender  Age  Annual Salary  Credit Card Debt    Net Worth  \\\n",
       "0       0   42    62812.09301       11609.38091  238961.2505   \n",
       "\n",
       "   Car Purchase Amount  \n",
       "0          35321.45877  "
      ]
     },
     "execution_count": 60,
     "metadata": {},
     "output_type": "execute_result"
    }
   ],
   "source": [
    "data.head(1)"
   ]
  },
  {
   "cell_type": "code",
   "execution_count": 61,
   "metadata": {},
   "outputs": [],
   "source": [
    "X_test1=sc.transform(np.array([[0,42,62812.09301,11609.38091,238961.2505]]))"
   ]
  },
  {
   "cell_type": "code",
   "execution_count": 62,
   "metadata": {},
   "outputs": [
    {
     "data": {
      "text/plain": [
       "array([[0.        , 0.44      , 0.53515116, 0.57836085, 0.22342985]])"
      ]
     },
     "execution_count": 62,
     "metadata": {},
     "output_type": "execute_result"
    }
   ],
   "source": [
    "X_test1"
   ]
  },
  {
   "cell_type": "code",
   "execution_count": 63,
   "metadata": {},
   "outputs": [],
   "source": [
    "pred = ann.predict(X_test1)"
   ]
  },
  {
   "cell_type": "code",
   "execution_count": 65,
   "metadata": {},
   "outputs": [
    {
     "data": {
      "text/plain": [
       "array([[35533.664]], dtype=float32)"
      ]
     },
     "execution_count": 65,
     "metadata": {},
     "output_type": "execute_result"
    }
   ],
   "source": [
    "sc1.inverse_transform(pred)"
   ]
  },
  {
   "cell_type": "code",
   "execution_count": null,
   "metadata": {},
   "outputs": [],
   "source": [
    "35321.45877"
   ]
  },
  {
   "cell_type": "markdown",
   "metadata": {},
   "source": [
    "### 18. GUI"
   ]
  },
  {
   "cell_type": "code",
   "execution_count": 71,
   "metadata": {},
   "outputs": [],
   "source": [
    "import numpy as np\n",
    "from tkinter import *\n",
    "from sklearn.preprocessing import StandardScaler\n",
    "import joblib"
   ]
  },
  {
   "cell_type": "code",
   "execution_count": 72,
   "metadata": {},
   "outputs": [
    {
     "name": "stdout",
     "output_type": "stream",
     "text": [
      "Car Purchase amount 35533.664\n"
     ]
    }
   ],
   "source": [
    "def show_entry_fields():\n",
    "    p1=float(e1.get())\n",
    "    p2=float(e2.get())\n",
    "    p3=float(e3.get())\n",
    "    p4=float(e4.get())\n",
    "    p5=float(e5.get())\n",
    "    \n",
    "    model = joblib.load('car_model')\n",
    "    result=model.predict(sc.transform(np.array([[p1,p2,p3,p4,p5]])))\n",
    "    Label(master, text=\"Car Purchase amount\").grid(row=8)\n",
    "    Label(master, text=sc1.inverse_transform(result)).grid(row=10)\n",
    "    print(\"Car Purchase amount\", sc1.inverse_transform(result)[0][0])\n",
    "    \n",
    "master = Tk()\n",
    "master.title(\"Car Purchase Amount Predictions Using Machine Learning\")\n",
    "\n",
    "\n",
    "label = Label(master, text = \"Car Purchase Amount Predictions Using ML\"\n",
    "                          , bg = \"black\", fg = \"white\"). \\\n",
    "                               grid(row=0,columnspan=2)\n",
    "\n",
    "\n",
    "Label(master, text=\"Gender\").grid(row=1)\n",
    "Label(master, text=\"Age\").grid(row=2)\n",
    "Label(master, text=\"Annual Salary\").grid(row=3)\n",
    "Label(master, text=\"Credit Card Debt\").grid(row=4)\n",
    "Label(master, text=\"Net Worth\").grid(row=5)\n",
    "\n",
    "\n",
    "e1 = Entry(master)\n",
    "e2 = Entry(master)\n",
    "e3 = Entry(master)\n",
    "e4 = Entry(master)\n",
    "e5 = Entry(master)\n",
    "\n",
    "e1.grid(row=1, column=1)\n",
    "e2.grid(row=2, column=1)\n",
    "e3.grid(row=3, column=1)\n",
    "e4.grid(row=4, column=1)\n",
    "e5.grid(row=5, column=1)\n",
    "\n",
    "\n",
    "Button(master, text='Predict', command=show_entry_fields).grid()\n",
    "\n",
    "mainloop()"
   ]
  },
  {
   "cell_type": "markdown",
   "metadata": {},
   "source": [
    "### 19. ANN Visualizer"
   ]
  },
  {
   "cell_type": "code",
   "execution_count": null,
   "metadata": {},
   "outputs": [],
   "source": [
    "# pip3 install ann_visualizer\n",
    "# pip install graphviz"
   ]
  },
  {
   "cell_type": "code",
   "execution_count": 73,
   "metadata": {},
   "outputs": [],
   "source": [
    "from ann_visualizer.visualize import ann_viz;"
   ]
  },
  {
   "cell_type": "code",
   "execution_count": 75,
   "metadata": {},
   "outputs": [],
   "source": [
    "ann_viz(ann,title=\"ANN\")"
   ]
  },
  {
   "cell_type": "code",
   "execution_count": null,
   "metadata": {},
   "outputs": [],
   "source": []
  }
 ],
 "metadata": {
  "kernelspec": {
   "display_name": "Python 3",
   "language": "python",
   "name": "python3"
  },
  "language_info": {
   "codemirror_mode": {
    "name": "ipython",
    "version": 3
   },
   "file_extension": ".py",
   "mimetype": "text/x-python",
   "name": "python",
   "nbconvert_exporter": "python",
   "pygments_lexer": "ipython3",
   "version": "3.7.9"
  }
 },
 "nbformat": 4,
 "nbformat_minor": 4
}
