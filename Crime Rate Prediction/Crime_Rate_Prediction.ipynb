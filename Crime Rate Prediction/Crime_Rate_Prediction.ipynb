{
  "cells": [
    {
      "cell_type": "code",
      "execution_count": null,
      "metadata": {
        "colab": {
          "base_uri": "https://localhost:8080/"
        },
        "id": "_e56oVQOMZyV",
        "outputId": "4ed2a46a-97d1-4749-9612-7c541e9648d1"
      },
      "outputs": [
        {
          "output_type": "stream",
          "name": "stdout",
          "text": [
            "Looking in indexes: https://pypi.org/simple, https://us-python.pkg.dev/colab-wheels/public/simple/\n",
            "Collecting pystan~=2.14\n",
            "  Downloading pystan-2.19.1.1-cp37-cp37m-manylinux1_x86_64.whl (67.3 MB)\n",
            "\u001b[K     |████████████████████████████████| 67.3 MB 88 kB/s \n",
            "\u001b[?25hRequirement already satisfied: Cython!=0.25.1,>=0.22 in /usr/local/lib/python3.7/dist-packages (from pystan~=2.14) (0.29.32)\n",
            "Requirement already satisfied: numpy>=1.7 in /usr/local/lib/python3.7/dist-packages (from pystan~=2.14) (1.21.6)\n",
            "Installing collected packages: pystan\n",
            "  Attempting uninstall: pystan\n",
            "    Found existing installation: pystan 3.3.0\n",
            "    Uninstalling pystan-3.3.0:\n",
            "      Successfully uninstalled pystan-3.3.0\n",
            "Successfully installed pystan-2.19.1.1\n",
            "Looking in indexes: https://pypi.org/simple, https://us-python.pkg.dev/colab-wheels/public/simple/\n",
            "Collecting fbprophet\n",
            "  Downloading fbprophet-0.7.1.tar.gz (64 kB)\n",
            "\u001b[K     |████████████████████████████████| 64 kB 2.0 MB/s \n",
            "\u001b[?25hRequirement already satisfied: Cython>=0.22 in /usr/local/lib/python3.7/dist-packages (from fbprophet) (0.29.32)\n",
            "Collecting cmdstanpy==0.9.5\n",
            "  Downloading cmdstanpy-0.9.5-py3-none-any.whl (37 kB)\n",
            "Requirement already satisfied: pystan>=2.14 in /usr/local/lib/python3.7/dist-packages (from fbprophet) (2.19.1.1)\n",
            "Requirement already satisfied: numpy>=1.15.4 in /usr/local/lib/python3.7/dist-packages (from fbprophet) (1.21.6)\n",
            "Requirement already satisfied: pandas>=1.0.4 in /usr/local/lib/python3.7/dist-packages (from fbprophet) (1.3.5)\n",
            "Requirement already satisfied: matplotlib>=2.0.0 in /usr/local/lib/python3.7/dist-packages (from fbprophet) (3.2.2)\n",
            "Requirement already satisfied: LunarCalendar>=0.0.9 in /usr/local/lib/python3.7/dist-packages (from fbprophet) (0.0.9)\n",
            "Requirement already satisfied: convertdate>=2.1.2 in /usr/local/lib/python3.7/dist-packages (from fbprophet) (2.4.0)\n",
            "Requirement already satisfied: holidays>=0.10.2 in /usr/local/lib/python3.7/dist-packages (from fbprophet) (0.14.2)\n",
            "Requirement already satisfied: setuptools-git>=1.2 in /usr/local/lib/python3.7/dist-packages (from fbprophet) (1.2)\n",
            "Requirement already satisfied: python-dateutil>=2.8.0 in /usr/local/lib/python3.7/dist-packages (from fbprophet) (2.8.2)\n",
            "Requirement already satisfied: tqdm>=4.36.1 in /usr/local/lib/python3.7/dist-packages (from fbprophet) (4.64.0)\n",
            "Requirement already satisfied: pymeeus<=1,>=0.3.13 in /usr/local/lib/python3.7/dist-packages (from convertdate>=2.1.2->fbprophet) (0.5.11)\n",
            "Requirement already satisfied: hijri-converter in /usr/local/lib/python3.7/dist-packages (from holidays>=0.10.2->fbprophet) (2.2.4)\n",
            "Requirement already satisfied: korean-lunar-calendar in /usr/local/lib/python3.7/dist-packages (from holidays>=0.10.2->fbprophet) (0.2.1)\n",
            "Requirement already satisfied: ephem>=3.7.5.3 in /usr/local/lib/python3.7/dist-packages (from LunarCalendar>=0.0.9->fbprophet) (4.1.3)\n",
            "Requirement already satisfied: pytz in /usr/local/lib/python3.7/dist-packages (from LunarCalendar>=0.0.9->fbprophet) (2022.2.1)\n",
            "Requirement already satisfied: cycler>=0.10 in /usr/local/lib/python3.7/dist-packages (from matplotlib>=2.0.0->fbprophet) (0.11.0)\n",
            "Requirement already satisfied: kiwisolver>=1.0.1 in /usr/local/lib/python3.7/dist-packages (from matplotlib>=2.0.0->fbprophet) (1.4.4)\n",
            "Requirement already satisfied: pyparsing!=2.0.4,!=2.1.2,!=2.1.6,>=2.0.1 in /usr/local/lib/python3.7/dist-packages (from matplotlib>=2.0.0->fbprophet) (3.0.9)\n",
            "Requirement already satisfied: typing-extensions in /usr/local/lib/python3.7/dist-packages (from kiwisolver>=1.0.1->matplotlib>=2.0.0->fbprophet) (4.1.1)\n",
            "Requirement already satisfied: six>=1.5 in /usr/local/lib/python3.7/dist-packages (from python-dateutil>=2.8.0->fbprophet) (1.15.0)\n",
            "Building wheels for collected packages: fbprophet\n",
            "  Building wheel for fbprophet (setup.py) ... \u001b[?25l\u001b[?25hdone\n",
            "  Created wheel for fbprophet: filename=fbprophet-0.7.1-py3-none-any.whl size=6639035 sha256=079b7d22010e6edb9b110e37d46a2268efdc293d4497ddda0f7a4b1606c4bfe2\n",
            "  Stored in directory: /root/.cache/pip/wheels/cd/a1/12/db63ff624de492fe6cccf676091a0860fdde2ffde4bc3280e2\n",
            "Successfully built fbprophet\n",
            "Installing collected packages: cmdstanpy, fbprophet\n",
            "  Attempting uninstall: cmdstanpy\n",
            "    Found existing installation: cmdstanpy 1.0.4\n",
            "    Uninstalling cmdstanpy-1.0.4:\n",
            "      Successfully uninstalled cmdstanpy-1.0.4\n",
            "\u001b[31mERROR: pip's dependency resolver does not currently take into account all the packages that are installed. This behaviour is the source of the following dependency conflicts.\n",
            "prophet 1.1 requires cmdstanpy>=1.0.1, but you have cmdstanpy 0.9.5 which is incompatible.\u001b[0m\n",
            "Successfully installed cmdstanpy-0.9.5 fbprophet-0.7.1\n"
          ]
        }
      ],
      "source": [
        "!pip install pystan~=2.14\n",
        "!pip install fbprophet"
      ]
    },
    {
      "cell_type": "code",
      "execution_count": null,
      "metadata": {
        "id": "gWCC1SFuE_6z"
      },
      "outputs": [],
      "source": [
        "import pandas as pd\n",
        "import matplotlib.pyplot as plt\n",
        "import seaborn as sns\n",
        "from fbprophet import Prophet"
      ]
    },
    {
      "cell_type": "code",
      "execution_count": null,
      "metadata": {
        "colab": {
          "base_uri": "https://localhost:8080/"
        },
        "id": "Nka71bfXIn9F",
        "outputId": "bb2732ca-362e-499c-e302-bf886e243314"
      },
      "outputs": [
        {
          "output_type": "stream",
          "name": "stderr",
          "text": [
            "/usr/local/lib/python3.7/dist-packages/IPython/core/interactiveshell.py:3326: FutureWarning: The error_bad_lines argument has been deprecated and will be removed in a future version.\n",
            "\n",
            "\n",
            "  exec(code_obj, self.user_global_ns, self.user_ns)\n",
            "b'Skipping line 533719: expected 23 fields, saw 24\\n'\n",
            "b'Skipping line 1149094: expected 23 fields, saw 41\\n'\n"
          ]
        }
      ],
      "source": [
        "data1 = pd.read_csv(\"/content/drive/MyDrive/Crime Datasets/Chicago_Crimes_2005_to_2007.csv\",error_bad_lines=False)\n",
        "data2 = pd.read_csv(\"/content/drive/MyDrive/Crime Datasets/Chicago_Crimes_2008_to_2011.csv\",error_bad_lines=False)\n",
        "data3 = pd.read_csv(\"/content/drive/MyDrive/Crime Datasets/Chicago_Crimes_2012_to_2017.csv\",error_bad_lines=False)"
      ]
    },
    {
      "cell_type": "code",
      "execution_count": null,
      "metadata": {
        "id": "imtH7V84WWzw"
      },
      "outputs": [],
      "source": [
        "data = pd.concat([data1,data2,data3])"
      ]
    },
    {
      "cell_type": "markdown",
      "metadata": {
        "id": "eRBmJ9d3XQOb"
      },
      "source": [
        "    ID: Unique identifier for the crime incident.\n",
        "    Case Number: Records Division Number assigned to the incident.\n",
        "    Date: Date when the incident occurred.\n",
        "    Block: Block address of the incident.\n",
        "    IUCR: The Illinois Uniform Crime Reporting code.\n",
        "    Primary Type: The primary description of the crime according to the IUCR code.\n",
        "    Description: Secondary description of the incident.\n",
        "    Location Description: Description of the location where the incident occurred.\n",
        "    Arrest: True or False if the convict was arrested.\n",
        "    Domestic: True or False if the incident was domestic-related.\n",
        "    Beat: A beat is the smallest police geographic area — each beat has a dedicated police beat car.\n",
        "    District: District where the incident occurred.\n",
        "    Ward: The City Council district where the incident occurred.\n",
        "    Community Area: Chicago has 77 community areas.\n",
        "    FBI Code: Crime classification according to FBI’s National Incident-Based Reporting System (NIBRS).\n",
        "    X Coordinate: The x coordinate of the incident.\n",
        "    Y Coordinate: The y coordinate of the incident.\n",
        "    Year: Year the incident occurred.\n",
        "    Updated On: Date and time the record was last updated.\n",
        "    Latitude: The latitude of the incident.\n",
        "    Longitude: The longitude of the incident.\n",
        "    Location: The location of the incident"
      ]
    },
    {
      "cell_type": "markdown",
      "metadata": {
        "id": "rFoedafnJfEp"
      },
      "source": [
        "**1. Display Top 5 Rows of The Dataset**"
      ]
    },
    {
      "cell_type": "code",
      "execution_count": null,
      "metadata": {
        "id": "u4b8pjC3JrCt",
        "colab": {
          "base_uri": "https://localhost:8080/",
          "height": 490
        },
        "outputId": "08973bf9-528c-4de0-9cf1-4258eba6e7b6"
      },
      "outputs": [
        {
          "output_type": "execute_result",
          "data": {
            "text/plain": [
              "   Unnamed: 0       ID Case Number                    Date  \\\n",
              "0           0  4673626    HM274058  04/02/2006 01:00:00 PM   \n",
              "1           1  4673627    HM202199  02/26/2006 01:40:48 PM   \n",
              "2           2  4673628    HM113861  01/08/2006 11:16:00 PM   \n",
              "3           4  4673629    HM274049  04/05/2006 06:45:00 PM   \n",
              "4           5  4673630    HM187120  02/17/2006 09:03:14 PM   \n",
              "\n",
              "                 Block  IUCR   Primary Type                   Description  \\\n",
              "0    055XX N MANGO AVE  2825  OTHER OFFENSE       HARASSMENT BY TELEPHONE   \n",
              "1   065XX S RHODES AVE  2017      NARCOTICS            MANU/DELIVER:CRACK   \n",
              "2      013XX E 69TH ST  051A        ASSAULT           AGGRAVATED: HANDGUN   \n",
              "3  061XX W NEWPORT AVE  0460        BATTERY                        SIMPLE   \n",
              "4      037XX W 60TH ST  1811      NARCOTICS  POSS: CANNABIS 30GMS OR LESS   \n",
              "\n",
              "  Location Description  Arrest  ...  Ward  Community Area  FBI Code  \\\n",
              "0            RESIDENCE   False  ...  45.0            11.0        26   \n",
              "1             SIDEWALK    True  ...  20.0            42.0        18   \n",
              "2                OTHER   False  ...   5.0            69.0       04A   \n",
              "3            RESIDENCE   False  ...  38.0            17.0       08B   \n",
              "4                ALLEY    True  ...  13.0            65.0        18   \n",
              "\n",
              "   X Coordinate  Y Coordinate  Year              Updated On   Latitude  \\\n",
              "0     1136872.0     1936499.0  2006  04/15/2016 08:55:02 AM  41.981913   \n",
              "1     1181027.0     1861693.0  2006  04/15/2016 08:55:02 AM  41.775733   \n",
              "2     1186023.0     1859609.0  2006  04/15/2016 08:55:02 AM  41.769897   \n",
              "3     1134772.0     1922299.0  2006  04/15/2016 08:55:02 AM  41.942984   \n",
              "4     1152412.0     1864560.0  2006  04/15/2016 08:55:02 AM  41.784211   \n",
              "\n",
              "   Longitude                       Location  \n",
              "0 -87.771996  (41.981912692, -87.771996382)  \n",
              "1 -87.611920  (41.775732538, -87.611919814)  \n",
              "2 -87.593671  (41.769897392, -87.593670899)  \n",
              "3 -87.780057  (41.942984005, -87.780056951)  \n",
              "4 -87.716745   (41.784210853, -87.71674491)  \n",
              "\n",
              "[5 rows x 23 columns]"
            ],
            "text/html": [
              "\n",
              "  <div id=\"df-ff5f749f-04a5-462a-a050-b49a08ec0e42\">\n",
              "    <div class=\"colab-df-container\">\n",
              "      <div>\n",
              "<style scoped>\n",
              "    .dataframe tbody tr th:only-of-type {\n",
              "        vertical-align: middle;\n",
              "    }\n",
              "\n",
              "    .dataframe tbody tr th {\n",
              "        vertical-align: top;\n",
              "    }\n",
              "\n",
              "    .dataframe thead th {\n",
              "        text-align: right;\n",
              "    }\n",
              "</style>\n",
              "<table border=\"1\" class=\"dataframe\">\n",
              "  <thead>\n",
              "    <tr style=\"text-align: right;\">\n",
              "      <th></th>\n",
              "      <th>Unnamed: 0</th>\n",
              "      <th>ID</th>\n",
              "      <th>Case Number</th>\n",
              "      <th>Date</th>\n",
              "      <th>Block</th>\n",
              "      <th>IUCR</th>\n",
              "      <th>Primary Type</th>\n",
              "      <th>Description</th>\n",
              "      <th>Location Description</th>\n",
              "      <th>Arrest</th>\n",
              "      <th>...</th>\n",
              "      <th>Ward</th>\n",
              "      <th>Community Area</th>\n",
              "      <th>FBI Code</th>\n",
              "      <th>X Coordinate</th>\n",
              "      <th>Y Coordinate</th>\n",
              "      <th>Year</th>\n",
              "      <th>Updated On</th>\n",
              "      <th>Latitude</th>\n",
              "      <th>Longitude</th>\n",
              "      <th>Location</th>\n",
              "    </tr>\n",
              "  </thead>\n",
              "  <tbody>\n",
              "    <tr>\n",
              "      <th>0</th>\n",
              "      <td>0</td>\n",
              "      <td>4673626</td>\n",
              "      <td>HM274058</td>\n",
              "      <td>04/02/2006 01:00:00 PM</td>\n",
              "      <td>055XX N MANGO AVE</td>\n",
              "      <td>2825</td>\n",
              "      <td>OTHER OFFENSE</td>\n",
              "      <td>HARASSMENT BY TELEPHONE</td>\n",
              "      <td>RESIDENCE</td>\n",
              "      <td>False</td>\n",
              "      <td>...</td>\n",
              "      <td>45.0</td>\n",
              "      <td>11.0</td>\n",
              "      <td>26</td>\n",
              "      <td>1136872.0</td>\n",
              "      <td>1936499.0</td>\n",
              "      <td>2006</td>\n",
              "      <td>04/15/2016 08:55:02 AM</td>\n",
              "      <td>41.981913</td>\n",
              "      <td>-87.771996</td>\n",
              "      <td>(41.981912692, -87.771996382)</td>\n",
              "    </tr>\n",
              "    <tr>\n",
              "      <th>1</th>\n",
              "      <td>1</td>\n",
              "      <td>4673627</td>\n",
              "      <td>HM202199</td>\n",
              "      <td>02/26/2006 01:40:48 PM</td>\n",
              "      <td>065XX S RHODES AVE</td>\n",
              "      <td>2017</td>\n",
              "      <td>NARCOTICS</td>\n",
              "      <td>MANU/DELIVER:CRACK</td>\n",
              "      <td>SIDEWALK</td>\n",
              "      <td>True</td>\n",
              "      <td>...</td>\n",
              "      <td>20.0</td>\n",
              "      <td>42.0</td>\n",
              "      <td>18</td>\n",
              "      <td>1181027.0</td>\n",
              "      <td>1861693.0</td>\n",
              "      <td>2006</td>\n",
              "      <td>04/15/2016 08:55:02 AM</td>\n",
              "      <td>41.775733</td>\n",
              "      <td>-87.611920</td>\n",
              "      <td>(41.775732538, -87.611919814)</td>\n",
              "    </tr>\n",
              "    <tr>\n",
              "      <th>2</th>\n",
              "      <td>2</td>\n",
              "      <td>4673628</td>\n",
              "      <td>HM113861</td>\n",
              "      <td>01/08/2006 11:16:00 PM</td>\n",
              "      <td>013XX E 69TH ST</td>\n",
              "      <td>051A</td>\n",
              "      <td>ASSAULT</td>\n",
              "      <td>AGGRAVATED: HANDGUN</td>\n",
              "      <td>OTHER</td>\n",
              "      <td>False</td>\n",
              "      <td>...</td>\n",
              "      <td>5.0</td>\n",
              "      <td>69.0</td>\n",
              "      <td>04A</td>\n",
              "      <td>1186023.0</td>\n",
              "      <td>1859609.0</td>\n",
              "      <td>2006</td>\n",
              "      <td>04/15/2016 08:55:02 AM</td>\n",
              "      <td>41.769897</td>\n",
              "      <td>-87.593671</td>\n",
              "      <td>(41.769897392, -87.593670899)</td>\n",
              "    </tr>\n",
              "    <tr>\n",
              "      <th>3</th>\n",
              "      <td>4</td>\n",
              "      <td>4673629</td>\n",
              "      <td>HM274049</td>\n",
              "      <td>04/05/2006 06:45:00 PM</td>\n",
              "      <td>061XX W NEWPORT AVE</td>\n",
              "      <td>0460</td>\n",
              "      <td>BATTERY</td>\n",
              "      <td>SIMPLE</td>\n",
              "      <td>RESIDENCE</td>\n",
              "      <td>False</td>\n",
              "      <td>...</td>\n",
              "      <td>38.0</td>\n",
              "      <td>17.0</td>\n",
              "      <td>08B</td>\n",
              "      <td>1134772.0</td>\n",
              "      <td>1922299.0</td>\n",
              "      <td>2006</td>\n",
              "      <td>04/15/2016 08:55:02 AM</td>\n",
              "      <td>41.942984</td>\n",
              "      <td>-87.780057</td>\n",
              "      <td>(41.942984005, -87.780056951)</td>\n",
              "    </tr>\n",
              "    <tr>\n",
              "      <th>4</th>\n",
              "      <td>5</td>\n",
              "      <td>4673630</td>\n",
              "      <td>HM187120</td>\n",
              "      <td>02/17/2006 09:03:14 PM</td>\n",
              "      <td>037XX W 60TH ST</td>\n",
              "      <td>1811</td>\n",
              "      <td>NARCOTICS</td>\n",
              "      <td>POSS: CANNABIS 30GMS OR LESS</td>\n",
              "      <td>ALLEY</td>\n",
              "      <td>True</td>\n",
              "      <td>...</td>\n",
              "      <td>13.0</td>\n",
              "      <td>65.0</td>\n",
              "      <td>18</td>\n",
              "      <td>1152412.0</td>\n",
              "      <td>1864560.0</td>\n",
              "      <td>2006</td>\n",
              "      <td>04/15/2016 08:55:02 AM</td>\n",
              "      <td>41.784211</td>\n",
              "      <td>-87.716745</td>\n",
              "      <td>(41.784210853, -87.71674491)</td>\n",
              "    </tr>\n",
              "  </tbody>\n",
              "</table>\n",
              "<p>5 rows × 23 columns</p>\n",
              "</div>\n",
              "      <button class=\"colab-df-convert\" onclick=\"convertToInteractive('df-ff5f749f-04a5-462a-a050-b49a08ec0e42')\"\n",
              "              title=\"Convert this dataframe to an interactive table.\"\n",
              "              style=\"display:none;\">\n",
              "        \n",
              "  <svg xmlns=\"http://www.w3.org/2000/svg\" height=\"24px\"viewBox=\"0 0 24 24\"\n",
              "       width=\"24px\">\n",
              "    <path d=\"M0 0h24v24H0V0z\" fill=\"none\"/>\n",
              "    <path d=\"M18.56 5.44l.94 2.06.94-2.06 2.06-.94-2.06-.94-.94-2.06-.94 2.06-2.06.94zm-11 1L8.5 8.5l.94-2.06 2.06-.94-2.06-.94L8.5 2.5l-.94 2.06-2.06.94zm10 10l.94 2.06.94-2.06 2.06-.94-2.06-.94-.94-2.06-.94 2.06-2.06.94z\"/><path d=\"M17.41 7.96l-1.37-1.37c-.4-.4-.92-.59-1.43-.59-.52 0-1.04.2-1.43.59L10.3 9.45l-7.72 7.72c-.78.78-.78 2.05 0 2.83L4 21.41c.39.39.9.59 1.41.59.51 0 1.02-.2 1.41-.59l7.78-7.78 2.81-2.81c.8-.78.8-2.07 0-2.86zM5.41 20L4 18.59l7.72-7.72 1.47 1.35L5.41 20z\"/>\n",
              "  </svg>\n",
              "      </button>\n",
              "      \n",
              "  <style>\n",
              "    .colab-df-container {\n",
              "      display:flex;\n",
              "      flex-wrap:wrap;\n",
              "      gap: 12px;\n",
              "    }\n",
              "\n",
              "    .colab-df-convert {\n",
              "      background-color: #E8F0FE;\n",
              "      border: none;\n",
              "      border-radius: 50%;\n",
              "      cursor: pointer;\n",
              "      display: none;\n",
              "      fill: #1967D2;\n",
              "      height: 32px;\n",
              "      padding: 0 0 0 0;\n",
              "      width: 32px;\n",
              "    }\n",
              "\n",
              "    .colab-df-convert:hover {\n",
              "      background-color: #E2EBFA;\n",
              "      box-shadow: 0px 1px 2px rgba(60, 64, 67, 0.3), 0px 1px 3px 1px rgba(60, 64, 67, 0.15);\n",
              "      fill: #174EA6;\n",
              "    }\n",
              "\n",
              "    [theme=dark] .colab-df-convert {\n",
              "      background-color: #3B4455;\n",
              "      fill: #D2E3FC;\n",
              "    }\n",
              "\n",
              "    [theme=dark] .colab-df-convert:hover {\n",
              "      background-color: #434B5C;\n",
              "      box-shadow: 0px 1px 3px 1px rgba(0, 0, 0, 0.15);\n",
              "      filter: drop-shadow(0px 1px 2px rgba(0, 0, 0, 0.3));\n",
              "      fill: #FFFFFF;\n",
              "    }\n",
              "  </style>\n",
              "\n",
              "      <script>\n",
              "        const buttonEl =\n",
              "          document.querySelector('#df-ff5f749f-04a5-462a-a050-b49a08ec0e42 button.colab-df-convert');\n",
              "        buttonEl.style.display =\n",
              "          google.colab.kernel.accessAllowed ? 'block' : 'none';\n",
              "\n",
              "        async function convertToInteractive(key) {\n",
              "          const element = document.querySelector('#df-ff5f749f-04a5-462a-a050-b49a08ec0e42');\n",
              "          const dataTable =\n",
              "            await google.colab.kernel.invokeFunction('convertToInteractive',\n",
              "                                                     [key], {});\n",
              "          if (!dataTable) return;\n",
              "\n",
              "          const docLinkHtml = 'Like what you see? Visit the ' +\n",
              "            '<a target=\"_blank\" href=https://colab.research.google.com/notebooks/data_table.ipynb>data table notebook</a>'\n",
              "            + ' to learn more about interactive tables.';\n",
              "          element.innerHTML = '';\n",
              "          dataTable['output_type'] = 'display_data';\n",
              "          await google.colab.output.renderOutput(dataTable, element);\n",
              "          const docLink = document.createElement('div');\n",
              "          docLink.innerHTML = docLinkHtml;\n",
              "          element.appendChild(docLink);\n",
              "        }\n",
              "      </script>\n",
              "    </div>\n",
              "  </div>\n",
              "  "
            ]
          },
          "metadata": {},
          "execution_count": 7
        }
      ],
      "source": [
        "data.head()"
      ]
    },
    {
      "cell_type": "markdown",
      "metadata": {
        "id": "AfwRDG9cKCBt"
      },
      "source": [
        "**2. Check Last 5 Rows of The Dataset**"
      ]
    },
    {
      "cell_type": "code",
      "execution_count": null,
      "metadata": {
        "id": "eKhvSvpaKGMm",
        "colab": {
          "base_uri": "https://localhost:8080/",
          "height": 490
        },
        "outputId": "0172169a-4ce9-4396-cf83-cf68e4f9b72f"
      },
      "outputs": [
        {
          "output_type": "execute_result",
          "data": {
            "text/plain": [
              "         Unnamed: 0        ID Case Number                    Date  \\\n",
              "1456709     6250330  10508679    HZ250507  05/03/2016 11:33:00 PM   \n",
              "1456710     6251089  10508680    HZ250491  05/03/2016 11:30:00 PM   \n",
              "1456711     6251349  10508681    HZ250479  05/03/2016 12:15:00 AM   \n",
              "1456712     6253257  10508690    HZ250370  05/03/2016 09:07:00 PM   \n",
              "1456713     6253474  10508692    HZ250517  05/03/2016 11:38:00 PM   \n",
              "\n",
              "                        Block  IUCR     Primary Type              Description  \\\n",
              "1456709       026XX W 23RD PL  0486          BATTERY  DOMESTIC BATTERY SIMPLE   \n",
              "1456710   073XX S HARVARD AVE  1310  CRIMINAL DAMAGE              TO PROPERTY   \n",
              "1456711       024XX W 63RD ST  041A          BATTERY      AGGRAVATED: HANDGUN   \n",
              "1456712  082XX S EXCHANGE AVE  0486          BATTERY  DOMESTIC BATTERY SIMPLE   \n",
              "1456713       001XX E 75TH ST  5007    OTHER OFFENSE  OTHER WEAPONS VIOLATION   \n",
              "\n",
              "                   Location Description  Arrest  ...  Ward  Community Area  \\\n",
              "1456709                       APARTMENT    True  ...  28.0            30.0   \n",
              "1456710                       APARTMENT    True  ...  17.0            69.0   \n",
              "1456711                        SIDEWALK   False  ...  15.0            66.0   \n",
              "1456712                        SIDEWALK   False  ...   7.0            46.0   \n",
              "1456713  PARKING LOT/GARAGE(NON.RESID.)    True  ...   6.0            69.0   \n",
              "\n",
              "         FBI Code  X Coordinate  Y Coordinate  Year              Updated On  \\\n",
              "1456709       08B     1159105.0     1888300.0  2016  05/10/2016 03:56:50 PM   \n",
              "1456710        14     1175230.0     1856183.0  2016  05/10/2016 03:56:50 PM   \n",
              "1456711       04B     1161027.0     1862810.0  2016  05/10/2016 03:56:50 PM   \n",
              "1456712       08B     1197261.0     1850727.0  2016  05/10/2016 03:56:50 PM   \n",
              "1456713        26     1178696.0     1855324.0  2016  05/10/2016 03:56:50 PM   \n",
              "\n",
              "          Latitude  Longitude                       Location  \n",
              "1456709  41.849222 -87.691556   (41.849222028, -87.69155551)  \n",
              "1456710  41.760744 -87.633335   (41.760743949, -87.63333531)  \n",
              "1456711  41.779235 -87.685207  (41.779234743, -87.685207125)  \n",
              "1456712  41.745252 -87.552773  (41.745251975, -87.552773464)  \n",
              "1456713  41.758309 -87.620658   (41.75830866, -87.620658418)  \n",
              "\n",
              "[5 rows x 23 columns]"
            ],
            "text/html": [
              "\n",
              "  <div id=\"df-2c5947eb-9932-49b9-96b3-a4e54fc91871\">\n",
              "    <div class=\"colab-df-container\">\n",
              "      <div>\n",
              "<style scoped>\n",
              "    .dataframe tbody tr th:only-of-type {\n",
              "        vertical-align: middle;\n",
              "    }\n",
              "\n",
              "    .dataframe tbody tr th {\n",
              "        vertical-align: top;\n",
              "    }\n",
              "\n",
              "    .dataframe thead th {\n",
              "        text-align: right;\n",
              "    }\n",
              "</style>\n",
              "<table border=\"1\" class=\"dataframe\">\n",
              "  <thead>\n",
              "    <tr style=\"text-align: right;\">\n",
              "      <th></th>\n",
              "      <th>Unnamed: 0</th>\n",
              "      <th>ID</th>\n",
              "      <th>Case Number</th>\n",
              "      <th>Date</th>\n",
              "      <th>Block</th>\n",
              "      <th>IUCR</th>\n",
              "      <th>Primary Type</th>\n",
              "      <th>Description</th>\n",
              "      <th>Location Description</th>\n",
              "      <th>Arrest</th>\n",
              "      <th>...</th>\n",
              "      <th>Ward</th>\n",
              "      <th>Community Area</th>\n",
              "      <th>FBI Code</th>\n",
              "      <th>X Coordinate</th>\n",
              "      <th>Y Coordinate</th>\n",
              "      <th>Year</th>\n",
              "      <th>Updated On</th>\n",
              "      <th>Latitude</th>\n",
              "      <th>Longitude</th>\n",
              "      <th>Location</th>\n",
              "    </tr>\n",
              "  </thead>\n",
              "  <tbody>\n",
              "    <tr>\n",
              "      <th>1456709</th>\n",
              "      <td>6250330</td>\n",
              "      <td>10508679</td>\n",
              "      <td>HZ250507</td>\n",
              "      <td>05/03/2016 11:33:00 PM</td>\n",
              "      <td>026XX W 23RD PL</td>\n",
              "      <td>0486</td>\n",
              "      <td>BATTERY</td>\n",
              "      <td>DOMESTIC BATTERY SIMPLE</td>\n",
              "      <td>APARTMENT</td>\n",
              "      <td>True</td>\n",
              "      <td>...</td>\n",
              "      <td>28.0</td>\n",
              "      <td>30.0</td>\n",
              "      <td>08B</td>\n",
              "      <td>1159105.0</td>\n",
              "      <td>1888300.0</td>\n",
              "      <td>2016</td>\n",
              "      <td>05/10/2016 03:56:50 PM</td>\n",
              "      <td>41.849222</td>\n",
              "      <td>-87.691556</td>\n",
              "      <td>(41.849222028, -87.69155551)</td>\n",
              "    </tr>\n",
              "    <tr>\n",
              "      <th>1456710</th>\n",
              "      <td>6251089</td>\n",
              "      <td>10508680</td>\n",
              "      <td>HZ250491</td>\n",
              "      <td>05/03/2016 11:30:00 PM</td>\n",
              "      <td>073XX S HARVARD AVE</td>\n",
              "      <td>1310</td>\n",
              "      <td>CRIMINAL DAMAGE</td>\n",
              "      <td>TO PROPERTY</td>\n",
              "      <td>APARTMENT</td>\n",
              "      <td>True</td>\n",
              "      <td>...</td>\n",
              "      <td>17.0</td>\n",
              "      <td>69.0</td>\n",
              "      <td>14</td>\n",
              "      <td>1175230.0</td>\n",
              "      <td>1856183.0</td>\n",
              "      <td>2016</td>\n",
              "      <td>05/10/2016 03:56:50 PM</td>\n",
              "      <td>41.760744</td>\n",
              "      <td>-87.633335</td>\n",
              "      <td>(41.760743949, -87.63333531)</td>\n",
              "    </tr>\n",
              "    <tr>\n",
              "      <th>1456711</th>\n",
              "      <td>6251349</td>\n",
              "      <td>10508681</td>\n",
              "      <td>HZ250479</td>\n",
              "      <td>05/03/2016 12:15:00 AM</td>\n",
              "      <td>024XX W 63RD ST</td>\n",
              "      <td>041A</td>\n",
              "      <td>BATTERY</td>\n",
              "      <td>AGGRAVATED: HANDGUN</td>\n",
              "      <td>SIDEWALK</td>\n",
              "      <td>False</td>\n",
              "      <td>...</td>\n",
              "      <td>15.0</td>\n",
              "      <td>66.0</td>\n",
              "      <td>04B</td>\n",
              "      <td>1161027.0</td>\n",
              "      <td>1862810.0</td>\n",
              "      <td>2016</td>\n",
              "      <td>05/10/2016 03:56:50 PM</td>\n",
              "      <td>41.779235</td>\n",
              "      <td>-87.685207</td>\n",
              "      <td>(41.779234743, -87.685207125)</td>\n",
              "    </tr>\n",
              "    <tr>\n",
              "      <th>1456712</th>\n",
              "      <td>6253257</td>\n",
              "      <td>10508690</td>\n",
              "      <td>HZ250370</td>\n",
              "      <td>05/03/2016 09:07:00 PM</td>\n",
              "      <td>082XX S EXCHANGE AVE</td>\n",
              "      <td>0486</td>\n",
              "      <td>BATTERY</td>\n",
              "      <td>DOMESTIC BATTERY SIMPLE</td>\n",
              "      <td>SIDEWALK</td>\n",
              "      <td>False</td>\n",
              "      <td>...</td>\n",
              "      <td>7.0</td>\n",
              "      <td>46.0</td>\n",
              "      <td>08B</td>\n",
              "      <td>1197261.0</td>\n",
              "      <td>1850727.0</td>\n",
              "      <td>2016</td>\n",
              "      <td>05/10/2016 03:56:50 PM</td>\n",
              "      <td>41.745252</td>\n",
              "      <td>-87.552773</td>\n",
              "      <td>(41.745251975, -87.552773464)</td>\n",
              "    </tr>\n",
              "    <tr>\n",
              "      <th>1456713</th>\n",
              "      <td>6253474</td>\n",
              "      <td>10508692</td>\n",
              "      <td>HZ250517</td>\n",
              "      <td>05/03/2016 11:38:00 PM</td>\n",
              "      <td>001XX E 75TH ST</td>\n",
              "      <td>5007</td>\n",
              "      <td>OTHER OFFENSE</td>\n",
              "      <td>OTHER WEAPONS VIOLATION</td>\n",
              "      <td>PARKING LOT/GARAGE(NON.RESID.)</td>\n",
              "      <td>True</td>\n",
              "      <td>...</td>\n",
              "      <td>6.0</td>\n",
              "      <td>69.0</td>\n",
              "      <td>26</td>\n",
              "      <td>1178696.0</td>\n",
              "      <td>1855324.0</td>\n",
              "      <td>2016</td>\n",
              "      <td>05/10/2016 03:56:50 PM</td>\n",
              "      <td>41.758309</td>\n",
              "      <td>-87.620658</td>\n",
              "      <td>(41.75830866, -87.620658418)</td>\n",
              "    </tr>\n",
              "  </tbody>\n",
              "</table>\n",
              "<p>5 rows × 23 columns</p>\n",
              "</div>\n",
              "      <button class=\"colab-df-convert\" onclick=\"convertToInteractive('df-2c5947eb-9932-49b9-96b3-a4e54fc91871')\"\n",
              "              title=\"Convert this dataframe to an interactive table.\"\n",
              "              style=\"display:none;\">\n",
              "        \n",
              "  <svg xmlns=\"http://www.w3.org/2000/svg\" height=\"24px\"viewBox=\"0 0 24 24\"\n",
              "       width=\"24px\">\n",
              "    <path d=\"M0 0h24v24H0V0z\" fill=\"none\"/>\n",
              "    <path d=\"M18.56 5.44l.94 2.06.94-2.06 2.06-.94-2.06-.94-.94-2.06-.94 2.06-2.06.94zm-11 1L8.5 8.5l.94-2.06 2.06-.94-2.06-.94L8.5 2.5l-.94 2.06-2.06.94zm10 10l.94 2.06.94-2.06 2.06-.94-2.06-.94-.94-2.06-.94 2.06-2.06.94z\"/><path d=\"M17.41 7.96l-1.37-1.37c-.4-.4-.92-.59-1.43-.59-.52 0-1.04.2-1.43.59L10.3 9.45l-7.72 7.72c-.78.78-.78 2.05 0 2.83L4 21.41c.39.39.9.59 1.41.59.51 0 1.02-.2 1.41-.59l7.78-7.78 2.81-2.81c.8-.78.8-2.07 0-2.86zM5.41 20L4 18.59l7.72-7.72 1.47 1.35L5.41 20z\"/>\n",
              "  </svg>\n",
              "      </button>\n",
              "      \n",
              "  <style>\n",
              "    .colab-df-container {\n",
              "      display:flex;\n",
              "      flex-wrap:wrap;\n",
              "      gap: 12px;\n",
              "    }\n",
              "\n",
              "    .colab-df-convert {\n",
              "      background-color: #E8F0FE;\n",
              "      border: none;\n",
              "      border-radius: 50%;\n",
              "      cursor: pointer;\n",
              "      display: none;\n",
              "      fill: #1967D2;\n",
              "      height: 32px;\n",
              "      padding: 0 0 0 0;\n",
              "      width: 32px;\n",
              "    }\n",
              "\n",
              "    .colab-df-convert:hover {\n",
              "      background-color: #E2EBFA;\n",
              "      box-shadow: 0px 1px 2px rgba(60, 64, 67, 0.3), 0px 1px 3px 1px rgba(60, 64, 67, 0.15);\n",
              "      fill: #174EA6;\n",
              "    }\n",
              "\n",
              "    [theme=dark] .colab-df-convert {\n",
              "      background-color: #3B4455;\n",
              "      fill: #D2E3FC;\n",
              "    }\n",
              "\n",
              "    [theme=dark] .colab-df-convert:hover {\n",
              "      background-color: #434B5C;\n",
              "      box-shadow: 0px 1px 3px 1px rgba(0, 0, 0, 0.15);\n",
              "      filter: drop-shadow(0px 1px 2px rgba(0, 0, 0, 0.3));\n",
              "      fill: #FFFFFF;\n",
              "    }\n",
              "  </style>\n",
              "\n",
              "      <script>\n",
              "        const buttonEl =\n",
              "          document.querySelector('#df-2c5947eb-9932-49b9-96b3-a4e54fc91871 button.colab-df-convert');\n",
              "        buttonEl.style.display =\n",
              "          google.colab.kernel.accessAllowed ? 'block' : 'none';\n",
              "\n",
              "        async function convertToInteractive(key) {\n",
              "          const element = document.querySelector('#df-2c5947eb-9932-49b9-96b3-a4e54fc91871');\n",
              "          const dataTable =\n",
              "            await google.colab.kernel.invokeFunction('convertToInteractive',\n",
              "                                                     [key], {});\n",
              "          if (!dataTable) return;\n",
              "\n",
              "          const docLinkHtml = 'Like what you see? Visit the ' +\n",
              "            '<a target=\"_blank\" href=https://colab.research.google.com/notebooks/data_table.ipynb>data table notebook</a>'\n",
              "            + ' to learn more about interactive tables.';\n",
              "          element.innerHTML = '';\n",
              "          dataTable['output_type'] = 'display_data';\n",
              "          await google.colab.output.renderOutput(dataTable, element);\n",
              "          const docLink = document.createElement('div');\n",
              "          docLink.innerHTML = docLinkHtml;\n",
              "          element.appendChild(docLink);\n",
              "        }\n",
              "      </script>\n",
              "    </div>\n",
              "  </div>\n",
              "  "
            ]
          },
          "metadata": {},
          "execution_count": 8
        }
      ],
      "source": [
        "data.tail()"
      ]
    },
    {
      "cell_type": "markdown",
      "metadata": {
        "id": "jVXD-IkdKUs1"
      },
      "source": [
        "**3. Find Shape of Our Dataset (Number of Rows And Number of Columns)**"
      ]
    },
    {
      "cell_type": "code",
      "execution_count": null,
      "metadata": {
        "id": "1VojrZ-rKWk6",
        "colab": {
          "base_uri": "https://localhost:8080/"
        },
        "outputId": "cda5d922-24af-4f07-c8ec-b7a29ab3fdc6"
      },
      "outputs": [
        {
          "output_type": "execute_result",
          "data": {
            "text/plain": [
              "(6017767, 23)"
            ]
          },
          "metadata": {},
          "execution_count": 9
        }
      ],
      "source": [
        "data.shape"
      ]
    },
    {
      "cell_type": "code",
      "execution_count": null,
      "metadata": {
        "id": "al3jQNBqKXYL",
        "colab": {
          "base_uri": "https://localhost:8080/"
        },
        "outputId": "2255b118-9916-48b8-cda3-657308d90daf"
      },
      "outputs": [
        {
          "output_type": "stream",
          "name": "stdout",
          "text": [
            "Number of Rows 6017767\n",
            "Number of Columns 23\n"
          ]
        }
      ],
      "source": [
        "print(\"Number of Rows\",data.shape[0])\n",
        "print(\"Number of Columns\",data.shape[1])"
      ]
    },
    {
      "cell_type": "markdown",
      "metadata": {
        "id": "-yPDoxtHKgUE"
      },
      "source": [
        "**4. Get Information About Our Dataset Like Total Number Rows, Total Number of Columns, Datatypes of Each Column And Memory Requirement**"
      ]
    },
    {
      "cell_type": "code",
      "execution_count": null,
      "metadata": {
        "id": "DyshUrkTKiV0",
        "colab": {
          "base_uri": "https://localhost:8080/"
        },
        "outputId": "d3713ee8-ddab-4c23-bc35-a8aed81c49e6"
      },
      "outputs": [
        {
          "output_type": "stream",
          "name": "stdout",
          "text": [
            "<class 'pandas.core.frame.DataFrame'>\n",
            "Int64Index: 6017767 entries, 0 to 1456713\n",
            "Data columns (total 23 columns):\n",
            " #   Column                Dtype  \n",
            "---  ------                -----  \n",
            " 0   Unnamed: 0            int64  \n",
            " 1   ID                    int64  \n",
            " 2   Case Number           object \n",
            " 3   Date                  object \n",
            " 4   Block                 object \n",
            " 5   IUCR                  object \n",
            " 6   Primary Type          object \n",
            " 7   Description           object \n",
            " 8   Location Description  object \n",
            " 9   Arrest                bool   \n",
            " 10  Domestic              bool   \n",
            " 11  Beat                  int64  \n",
            " 12  District              float64\n",
            " 13  Ward                  float64\n",
            " 14  Community Area        float64\n",
            " 15  FBI Code              object \n",
            " 16  X Coordinate          float64\n",
            " 17  Y Coordinate          float64\n",
            " 18  Year                  int64  \n",
            " 19  Updated On            object \n",
            " 20  Latitude              float64\n",
            " 21  Longitude             float64\n",
            " 22  Location              object \n",
            "dtypes: bool(2), float64(7), int64(4), object(10)\n",
            "memory usage: 1021.5+ MB\n"
          ]
        }
      ],
      "source": [
        "data.info()"
      ]
    },
    {
      "cell_type": "markdown",
      "metadata": {
        "id": "2gqNCDnaKr90"
      },
      "source": [
        "**5. Check Null Values In The Dataset**"
      ]
    },
    {
      "cell_type": "code",
      "execution_count": null,
      "metadata": {
        "id": "ecg7bWkEKvP3",
        "colab": {
          "base_uri": "https://localhost:8080/"
        },
        "outputId": "972ee708-d65f-46d8-d51c-f1dacdea8513"
      },
      "outputs": [
        {
          "output_type": "execute_result",
          "data": {
            "text/plain": [
              "Unnamed: 0                  0\n",
              "ID                          0\n",
              "Case Number                 7\n",
              "Date                        0\n",
              "Block                       0\n",
              "IUCR                        0\n",
              "Primary Type                0\n",
              "Description                 0\n",
              "Location Description     1974\n",
              "Arrest                      0\n",
              "Domestic                    0\n",
              "Beat                        0\n",
              "District                   89\n",
              "Ward                       92\n",
              "Community Area           1844\n",
              "FBI Code                    0\n",
              "X Coordinate            74882\n",
              "Y Coordinate            74882\n",
              "Year                        0\n",
              "Updated On                  0\n",
              "Latitude                74882\n",
              "Longitude               74882\n",
              "Location                74882\n",
              "dtype: int64"
            ]
          },
          "metadata": {},
          "execution_count": 12
        }
      ],
      "source": [
        "data.isnull().sum()"
      ]
    },
    {
      "cell_type": "markdown",
      "metadata": {
        "id": "rPiZy96ZLJpi"
      },
      "source": [
        "**6. Select Only The Necessary Columns**"
      ]
    },
    {
      "cell_type": "code",
      "execution_count": null,
      "metadata": {
        "id": "3TE_n7Lwv7H5",
        "colab": {
          "base_uri": "https://localhost:8080/"
        },
        "outputId": "5694aa46-fd13-43a8-bcb4-9b384de9b5d5"
      },
      "outputs": [
        {
          "output_type": "execute_result",
          "data": {
            "text/plain": [
              "Index(['Unnamed: 0', 'ID', 'Case Number', 'Date', 'Block', 'IUCR',\n",
              "       'Primary Type', 'Description', 'Location Description', 'Arrest',\n",
              "       'Domestic', 'Beat', 'District', 'Ward', 'Community Area', 'FBI Code',\n",
              "       'X Coordinate', 'Y Coordinate', 'Year', 'Updated On', 'Latitude',\n",
              "       'Longitude', 'Location'],\n",
              "      dtype='object')"
            ]
          },
          "metadata": {},
          "execution_count": 13
        }
      ],
      "source": [
        "data.columns"
      ]
    },
    {
      "cell_type": "code",
      "execution_count": null,
      "metadata": {
        "id": "nfwzf_pcLNvH"
      },
      "outputs": [],
      "source": [
        "df = data[['ID','Date','Primary Type','Location Description','Arrest','Domestic']]"
      ]
    },
    {
      "cell_type": "code",
      "execution_count": null,
      "metadata": {
        "id": "XF3lRrKfLZFt",
        "colab": {
          "base_uri": "https://localhost:8080/",
          "height": 206
        },
        "outputId": "2396b9dd-7912-4723-cc94-5a2490ce3b56"
      },
      "outputs": [
        {
          "output_type": "execute_result",
          "data": {
            "text/plain": [
              "        ID                    Date   Primary Type Location Description  \\\n",
              "0  4673626  04/02/2006 01:00:00 PM  OTHER OFFENSE            RESIDENCE   \n",
              "1  4673627  02/26/2006 01:40:48 PM      NARCOTICS             SIDEWALK   \n",
              "2  4673628  01/08/2006 11:16:00 PM        ASSAULT                OTHER   \n",
              "3  4673629  04/05/2006 06:45:00 PM        BATTERY            RESIDENCE   \n",
              "4  4673630  02/17/2006 09:03:14 PM      NARCOTICS                ALLEY   \n",
              "\n",
              "   Arrest  Domestic  \n",
              "0   False     False  \n",
              "1    True     False  \n",
              "2   False     False  \n",
              "3   False     False  \n",
              "4    True     False  "
            ],
            "text/html": [
              "\n",
              "  <div id=\"df-f4f7f4c4-24e9-4eba-94d4-24c1e443d13c\">\n",
              "    <div class=\"colab-df-container\">\n",
              "      <div>\n",
              "<style scoped>\n",
              "    .dataframe tbody tr th:only-of-type {\n",
              "        vertical-align: middle;\n",
              "    }\n",
              "\n",
              "    .dataframe tbody tr th {\n",
              "        vertical-align: top;\n",
              "    }\n",
              "\n",
              "    .dataframe thead th {\n",
              "        text-align: right;\n",
              "    }\n",
              "</style>\n",
              "<table border=\"1\" class=\"dataframe\">\n",
              "  <thead>\n",
              "    <tr style=\"text-align: right;\">\n",
              "      <th></th>\n",
              "      <th>ID</th>\n",
              "      <th>Date</th>\n",
              "      <th>Primary Type</th>\n",
              "      <th>Location Description</th>\n",
              "      <th>Arrest</th>\n",
              "      <th>Domestic</th>\n",
              "    </tr>\n",
              "  </thead>\n",
              "  <tbody>\n",
              "    <tr>\n",
              "      <th>0</th>\n",
              "      <td>4673626</td>\n",
              "      <td>04/02/2006 01:00:00 PM</td>\n",
              "      <td>OTHER OFFENSE</td>\n",
              "      <td>RESIDENCE</td>\n",
              "      <td>False</td>\n",
              "      <td>False</td>\n",
              "    </tr>\n",
              "    <tr>\n",
              "      <th>1</th>\n",
              "      <td>4673627</td>\n",
              "      <td>02/26/2006 01:40:48 PM</td>\n",
              "      <td>NARCOTICS</td>\n",
              "      <td>SIDEWALK</td>\n",
              "      <td>True</td>\n",
              "      <td>False</td>\n",
              "    </tr>\n",
              "    <tr>\n",
              "      <th>2</th>\n",
              "      <td>4673628</td>\n",
              "      <td>01/08/2006 11:16:00 PM</td>\n",
              "      <td>ASSAULT</td>\n",
              "      <td>OTHER</td>\n",
              "      <td>False</td>\n",
              "      <td>False</td>\n",
              "    </tr>\n",
              "    <tr>\n",
              "      <th>3</th>\n",
              "      <td>4673629</td>\n",
              "      <td>04/05/2006 06:45:00 PM</td>\n",
              "      <td>BATTERY</td>\n",
              "      <td>RESIDENCE</td>\n",
              "      <td>False</td>\n",
              "      <td>False</td>\n",
              "    </tr>\n",
              "    <tr>\n",
              "      <th>4</th>\n",
              "      <td>4673630</td>\n",
              "      <td>02/17/2006 09:03:14 PM</td>\n",
              "      <td>NARCOTICS</td>\n",
              "      <td>ALLEY</td>\n",
              "      <td>True</td>\n",
              "      <td>False</td>\n",
              "    </tr>\n",
              "  </tbody>\n",
              "</table>\n",
              "</div>\n",
              "      <button class=\"colab-df-convert\" onclick=\"convertToInteractive('df-f4f7f4c4-24e9-4eba-94d4-24c1e443d13c')\"\n",
              "              title=\"Convert this dataframe to an interactive table.\"\n",
              "              style=\"display:none;\">\n",
              "        \n",
              "  <svg xmlns=\"http://www.w3.org/2000/svg\" height=\"24px\"viewBox=\"0 0 24 24\"\n",
              "       width=\"24px\">\n",
              "    <path d=\"M0 0h24v24H0V0z\" fill=\"none\"/>\n",
              "    <path d=\"M18.56 5.44l.94 2.06.94-2.06 2.06-.94-2.06-.94-.94-2.06-.94 2.06-2.06.94zm-11 1L8.5 8.5l.94-2.06 2.06-.94-2.06-.94L8.5 2.5l-.94 2.06-2.06.94zm10 10l.94 2.06.94-2.06 2.06-.94-2.06-.94-.94-2.06-.94 2.06-2.06.94z\"/><path d=\"M17.41 7.96l-1.37-1.37c-.4-.4-.92-.59-1.43-.59-.52 0-1.04.2-1.43.59L10.3 9.45l-7.72 7.72c-.78.78-.78 2.05 0 2.83L4 21.41c.39.39.9.59 1.41.59.51 0 1.02-.2 1.41-.59l7.78-7.78 2.81-2.81c.8-.78.8-2.07 0-2.86zM5.41 20L4 18.59l7.72-7.72 1.47 1.35L5.41 20z\"/>\n",
              "  </svg>\n",
              "      </button>\n",
              "      \n",
              "  <style>\n",
              "    .colab-df-container {\n",
              "      display:flex;\n",
              "      flex-wrap:wrap;\n",
              "      gap: 12px;\n",
              "    }\n",
              "\n",
              "    .colab-df-convert {\n",
              "      background-color: #E8F0FE;\n",
              "      border: none;\n",
              "      border-radius: 50%;\n",
              "      cursor: pointer;\n",
              "      display: none;\n",
              "      fill: #1967D2;\n",
              "      height: 32px;\n",
              "      padding: 0 0 0 0;\n",
              "      width: 32px;\n",
              "    }\n",
              "\n",
              "    .colab-df-convert:hover {\n",
              "      background-color: #E2EBFA;\n",
              "      box-shadow: 0px 1px 2px rgba(60, 64, 67, 0.3), 0px 1px 3px 1px rgba(60, 64, 67, 0.15);\n",
              "      fill: #174EA6;\n",
              "    }\n",
              "\n",
              "    [theme=dark] .colab-df-convert {\n",
              "      background-color: #3B4455;\n",
              "      fill: #D2E3FC;\n",
              "    }\n",
              "\n",
              "    [theme=dark] .colab-df-convert:hover {\n",
              "      background-color: #434B5C;\n",
              "      box-shadow: 0px 1px 3px 1px rgba(0, 0, 0, 0.15);\n",
              "      filter: drop-shadow(0px 1px 2px rgba(0, 0, 0, 0.3));\n",
              "      fill: #FFFFFF;\n",
              "    }\n",
              "  </style>\n",
              "\n",
              "      <script>\n",
              "        const buttonEl =\n",
              "          document.querySelector('#df-f4f7f4c4-24e9-4eba-94d4-24c1e443d13c button.colab-df-convert');\n",
              "        buttonEl.style.display =\n",
              "          google.colab.kernel.accessAllowed ? 'block' : 'none';\n",
              "\n",
              "        async function convertToInteractive(key) {\n",
              "          const element = document.querySelector('#df-f4f7f4c4-24e9-4eba-94d4-24c1e443d13c');\n",
              "          const dataTable =\n",
              "            await google.colab.kernel.invokeFunction('convertToInteractive',\n",
              "                                                     [key], {});\n",
              "          if (!dataTable) return;\n",
              "\n",
              "          const docLinkHtml = 'Like what you see? Visit the ' +\n",
              "            '<a target=\"_blank\" href=https://colab.research.google.com/notebooks/data_table.ipynb>data table notebook</a>'\n",
              "            + ' to learn more about interactive tables.';\n",
              "          element.innerHTML = '';\n",
              "          dataTable['output_type'] = 'display_data';\n",
              "          await google.colab.output.renderOutput(dataTable, element);\n",
              "          const docLink = document.createElement('div');\n",
              "          docLink.innerHTML = docLinkHtml;\n",
              "          element.appendChild(docLink);\n",
              "        }\n",
              "      </script>\n",
              "    </div>\n",
              "  </div>\n",
              "  "
            ]
          },
          "metadata": {},
          "execution_count": 15
        }
      ],
      "source": [
        "df.head()"
      ]
    },
    {
      "cell_type": "markdown",
      "metadata": {
        "id": "yeQQOwKeLg2n"
      },
      "source": [
        "**7.Check Null Values In The Dataset**"
      ]
    },
    {
      "cell_type": "code",
      "execution_count": null,
      "metadata": {
        "id": "osN2Oq5dLjtq",
        "colab": {
          "base_uri": "https://localhost:8080/"
        },
        "outputId": "33abaaa8-121d-4cda-88c3-511dd3de10c8"
      },
      "outputs": [
        {
          "output_type": "execute_result",
          "data": {
            "text/plain": [
              "ID                         0\n",
              "Date                       0\n",
              "Primary Type               0\n",
              "Location Description    1974\n",
              "Arrest                     0\n",
              "Domestic                   0\n",
              "dtype: int64"
            ]
          },
          "metadata": {},
          "execution_count": 16
        }
      ],
      "source": [
        "df.isnull().sum()"
      ]
    },
    {
      "cell_type": "code",
      "execution_count": null,
      "metadata": {
        "id": "wGQyOfAJLnFu"
      },
      "outputs": [],
      "source": [
        "df = df.dropna()"
      ]
    },
    {
      "cell_type": "code",
      "execution_count": null,
      "metadata": {
        "id": "bSRdaC0ZMYdf",
        "colab": {
          "base_uri": "https://localhost:8080/"
        },
        "outputId": "1381db18-6369-433c-ea6c-9e20d4280011"
      },
      "outputs": [
        {
          "output_type": "execute_result",
          "data": {
            "text/plain": [
              "ID                      0\n",
              "Date                    0\n",
              "Primary Type            0\n",
              "Location Description    0\n",
              "Arrest                  0\n",
              "Domestic                0\n",
              "dtype: int64"
            ]
          },
          "metadata": {},
          "execution_count": 18
        }
      ],
      "source": [
        "df.isnull().sum()"
      ]
    },
    {
      "cell_type": "code",
      "execution_count": null,
      "metadata": {
        "id": "-gbpxKGTzQIX",
        "colab": {
          "base_uri": "https://localhost:8080/"
        },
        "outputId": "40018a68-a6e9-4688-9b41-3ce163624040"
      },
      "outputs": [
        {
          "output_type": "stream",
          "name": "stdout",
          "text": [
            "<class 'pandas.core.frame.DataFrame'>\n",
            "Int64Index: 6015793 entries, 0 to 1456713\n",
            "Data columns (total 6 columns):\n",
            " #   Column                Dtype \n",
            "---  ------                ----- \n",
            " 0   ID                    int64 \n",
            " 1   Date                  object\n",
            " 2   Primary Type          object\n",
            " 3   Location Description  object\n",
            " 4   Arrest                bool  \n",
            " 5   Domestic              bool  \n",
            "dtypes: bool(2), int64(1), object(3)\n",
            "memory usage: 241.0+ MB\n"
          ]
        }
      ],
      "source": [
        "df.info()"
      ]
    },
    {
      "cell_type": "code",
      "execution_count": null,
      "metadata": {
        "id": "ybPvQtXALscX"
      },
      "outputs": [],
      "source": [
        "df.Date = pd.to_datetime(df.Date,format = '%m/%d/%Y %I:%M:%S %p')"
      ]
    },
    {
      "cell_type": "code",
      "execution_count": null,
      "metadata": {
        "id": "TSIZvmqBMbRF",
        "colab": {
          "base_uri": "https://localhost:8080/"
        },
        "outputId": "9b50fd7a-4d4a-4ed9-800d-001b017de46d"
      },
      "outputs": [
        {
          "output_type": "stream",
          "name": "stdout",
          "text": [
            "<class 'pandas.core.frame.DataFrame'>\n",
            "Int64Index: 6015793 entries, 0 to 1456713\n",
            "Data columns (total 6 columns):\n",
            " #   Column                Dtype         \n",
            "---  ------                -----         \n",
            " 0   ID                    int64         \n",
            " 1   Date                  datetime64[ns]\n",
            " 2   Primary Type          object        \n",
            " 3   Location Description  object        \n",
            " 4   Arrest                bool          \n",
            " 5   Domestic              bool          \n",
            "dtypes: bool(2), datetime64[ns](1), int64(1), object(2)\n",
            "memory usage: 241.0+ MB\n"
          ]
        }
      ],
      "source": [
        "df.info()"
      ]
    },
    {
      "cell_type": "markdown",
      "metadata": {
        "id": "HALyswL7OmlN"
      },
      "source": [
        "**8. Find The Top 10 Primary Crime Types**"
      ]
    },
    {
      "cell_type": "code",
      "execution_count": null,
      "metadata": {
        "id": "esqmyRXAOuHk",
        "colab": {
          "base_uri": "https://localhost:8080/"
        },
        "outputId": "f1ed158d-ad8b-4444-fb13-e707583d7b6e"
      },
      "outputs": [
        {
          "output_type": "execute_result",
          "data": {
            "text/plain": [
              "Index(['ID', 'Date', 'Primary Type', 'Location Description', 'Arrest',\n",
              "       'Domestic'],\n",
              "      dtype='object')"
            ]
          },
          "metadata": {},
          "execution_count": 23
        }
      ],
      "source": [
        "df.columns"
      ]
    },
    {
      "cell_type": "code",
      "execution_count": null,
      "metadata": {
        "id": "yCPPo3boOv3y",
        "colab": {
          "base_uri": "https://localhost:8080/"
        },
        "outputId": "43528270-59c9-4a12-89e9-17a187e1d8e6"
      },
      "outputs": [
        {
          "output_type": "execute_result",
          "data": {
            "text/plain": [
              "THEFT                  1244395\n",
              "BATTERY                1079174\n",
              "CRIMINAL DAMAGE         702696\n",
              "NARCOTICS               674829\n",
              "BURGLARY                369053\n",
              "OTHER OFFENSE           368168\n",
              "ASSAULT                 360242\n",
              "MOTOR VEHICLE THEFT     271624\n",
              "ROBBERY                 229463\n",
              "DECEPTIVE PRACTICE      223947\n",
              "Name: Primary Type, dtype: int64"
            ]
          },
          "metadata": {},
          "execution_count": 24
        }
      ],
      "source": [
        "df['Primary Type'].value_counts().head(10)"
      ]
    },
    {
      "cell_type": "code",
      "execution_count": null,
      "metadata": {
        "id": "Jwvs_KvcPsCb"
      },
      "outputs": [],
      "source": []
    },
    {
      "cell_type": "markdown",
      "metadata": {
        "id": "j70I_sUHPuNZ"
      },
      "source": [
        "**9 .How Many Criminals Are Arrested Having Primary Crime type is Theft?** "
      ]
    },
    {
      "cell_type": "code",
      "execution_count": null,
      "metadata": {
        "id": "Uy4BqyzPP9IK",
        "colab": {
          "base_uri": "https://localhost:8080/"
        },
        "outputId": "5044828b-a42a-41ae-fe21-c74464bd55ac"
      },
      "outputs": [
        {
          "output_type": "execute_result",
          "data": {
            "text/plain": [
              "False    1103085\n",
              "True      141310\n",
              "Name: Arrest, dtype: int64"
            ]
          },
          "metadata": {},
          "execution_count": 27
        }
      ],
      "source": [
        "df[df['Primary Type']==\"THEFT\"]['Arrest'].value_counts()"
      ]
    },
    {
      "cell_type": "code",
      "execution_count": null,
      "metadata": {
        "id": "1FtIWgSwP_6o"
      },
      "outputs": [],
      "source": []
    },
    {
      "cell_type": "markdown",
      "metadata": {
        "id": "TCYHIlSJPOzd"
      },
      "source": [
        "**10. Find The Top 10 Crime Location Descriptions**"
      ]
    },
    {
      "cell_type": "code",
      "execution_count": null,
      "metadata": {
        "id": "Av1usAlQPXMb",
        "colab": {
          "base_uri": "https://localhost:8080/"
        },
        "outputId": "ae3f110d-d592-45a4-f544-272caf07193c"
      },
      "outputs": [
        {
          "output_type": "execute_result",
          "data": {
            "text/plain": [
              "Index(['ID', 'Date', 'Primary Type', 'Location Description', 'Arrest',\n",
              "       'Domestic'],\n",
              "      dtype='object')"
            ]
          },
          "metadata": {},
          "execution_count": 28
        }
      ],
      "source": [
        "df.columns"
      ]
    },
    {
      "cell_type": "code",
      "execution_count": null,
      "metadata": {
        "id": "prBVSnivPYtG",
        "colab": {
          "base_uri": "https://localhost:8080/"
        },
        "outputId": "5e529297-2856-4f40-dfe8-2814d33dda01"
      },
      "outputs": [
        {
          "output_type": "execute_result",
          "data": {
            "text/plain": [
              "STREET                            1517724\n",
              "RESIDENCE                          991977\n",
              "SIDEWALK                           674793\n",
              "APARTMENT                          668298\n",
              "OTHER                              216154\n",
              "PARKING LOT/GARAGE(NON.RESID.)     166331\n",
              "ALLEY                              137094\n",
              "SCHOOL, PUBLIC, BUILDING           128852\n",
              "RESIDENCE-GARAGE                   119619\n",
              "VEHICLE NON-COMMERCIAL             107554\n",
              "Name: Location Description, dtype: int64"
            ]
          },
          "metadata": {},
          "execution_count": 29
        }
      ],
      "source": [
        "df['Location Description'].value_counts().head(10)"
      ]
    },
    {
      "cell_type": "markdown",
      "metadata": {
        "id": "LFiG_L3RRGB3"
      },
      "source": [
        "**11 .How Many of Are Arrested Having Location Type is STREET** "
      ]
    },
    {
      "cell_type": "code",
      "execution_count": null,
      "metadata": {
        "id": "IQe828oNRQCs",
        "colab": {
          "base_uri": "https://localhost:8080/"
        },
        "outputId": "b77d2642-3335-423e-f4c4-0f9e5f7d7b8e"
      },
      "outputs": [
        {
          "output_type": "execute_result",
          "data": {
            "text/plain": [
              "False    1093718\n",
              "True      424006\n",
              "Name: Arrest, dtype: int64"
            ]
          },
          "metadata": {},
          "execution_count": 33
        }
      ],
      "source": [
        "df[df['Location Description']==\"STREET\"]['Arrest'].value_counts()"
      ]
    },
    {
      "cell_type": "code",
      "execution_count": null,
      "metadata": {
        "id": "-Ies18ObRVrW"
      },
      "outputs": [],
      "source": [
        "df.index = pd.DatetimeIndex(df.Date)"
      ]
    },
    {
      "cell_type": "code",
      "execution_count": null,
      "metadata": {
        "id": "WQyQSVktzmen",
        "colab": {
          "base_uri": "https://localhost:8080/",
          "height": 455
        },
        "outputId": "58466179-4fd2-44c2-9100-a17fe9998427"
      },
      "outputs": [
        {
          "output_type": "execute_result",
          "data": {
            "text/plain": [
              "                           ID                Date     Primary Type  \\\n",
              "Date                                                                 \n",
              "2006-04-02 13:00:00   4673626 2006-04-02 13:00:00    OTHER OFFENSE   \n",
              "2006-02-26 13:40:48   4673627 2006-02-26 13:40:48        NARCOTICS   \n",
              "2006-01-08 23:16:00   4673628 2006-01-08 23:16:00          ASSAULT   \n",
              "2006-04-05 18:45:00   4673629 2006-04-05 18:45:00          BATTERY   \n",
              "2006-02-17 21:03:14   4673630 2006-02-17 21:03:14        NARCOTICS   \n",
              "...                       ...                 ...              ...   \n",
              "2016-05-03 23:33:00  10508679 2016-05-03 23:33:00          BATTERY   \n",
              "2016-05-03 23:30:00  10508680 2016-05-03 23:30:00  CRIMINAL DAMAGE   \n",
              "2016-05-03 00:15:00  10508681 2016-05-03 00:15:00          BATTERY   \n",
              "2016-05-03 21:07:00  10508690 2016-05-03 21:07:00          BATTERY   \n",
              "2016-05-03 23:38:00  10508692 2016-05-03 23:38:00    OTHER OFFENSE   \n",
              "\n",
              "                               Location Description  Arrest  Domestic  \n",
              "Date                                                                   \n",
              "2006-04-02 13:00:00                       RESIDENCE   False     False  \n",
              "2006-02-26 13:40:48                        SIDEWALK    True     False  \n",
              "2006-01-08 23:16:00                           OTHER   False     False  \n",
              "2006-04-05 18:45:00                       RESIDENCE   False     False  \n",
              "2006-02-17 21:03:14                           ALLEY    True     False  \n",
              "...                                             ...     ...       ...  \n",
              "2016-05-03 23:33:00                       APARTMENT    True      True  \n",
              "2016-05-03 23:30:00                       APARTMENT    True      True  \n",
              "2016-05-03 00:15:00                        SIDEWALK   False     False  \n",
              "2016-05-03 21:07:00                        SIDEWALK   False      True  \n",
              "2016-05-03 23:38:00  PARKING LOT/GARAGE(NON.RESID.)    True     False  \n",
              "\n",
              "[6015793 rows x 6 columns]"
            ],
            "text/html": [
              "\n",
              "  <div id=\"df-a0259cdf-9c28-4602-a2f8-047c16439a66\">\n",
              "    <div class=\"colab-df-container\">\n",
              "      <div>\n",
              "<style scoped>\n",
              "    .dataframe tbody tr th:only-of-type {\n",
              "        vertical-align: middle;\n",
              "    }\n",
              "\n",
              "    .dataframe tbody tr th {\n",
              "        vertical-align: top;\n",
              "    }\n",
              "\n",
              "    .dataframe thead th {\n",
              "        text-align: right;\n",
              "    }\n",
              "</style>\n",
              "<table border=\"1\" class=\"dataframe\">\n",
              "  <thead>\n",
              "    <tr style=\"text-align: right;\">\n",
              "      <th></th>\n",
              "      <th>ID</th>\n",
              "      <th>Date</th>\n",
              "      <th>Primary Type</th>\n",
              "      <th>Location Description</th>\n",
              "      <th>Arrest</th>\n",
              "      <th>Domestic</th>\n",
              "    </tr>\n",
              "    <tr>\n",
              "      <th>Date</th>\n",
              "      <th></th>\n",
              "      <th></th>\n",
              "      <th></th>\n",
              "      <th></th>\n",
              "      <th></th>\n",
              "      <th></th>\n",
              "    </tr>\n",
              "  </thead>\n",
              "  <tbody>\n",
              "    <tr>\n",
              "      <th>2006-04-02 13:00:00</th>\n",
              "      <td>4673626</td>\n",
              "      <td>2006-04-02 13:00:00</td>\n",
              "      <td>OTHER OFFENSE</td>\n",
              "      <td>RESIDENCE</td>\n",
              "      <td>False</td>\n",
              "      <td>False</td>\n",
              "    </tr>\n",
              "    <tr>\n",
              "      <th>2006-02-26 13:40:48</th>\n",
              "      <td>4673627</td>\n",
              "      <td>2006-02-26 13:40:48</td>\n",
              "      <td>NARCOTICS</td>\n",
              "      <td>SIDEWALK</td>\n",
              "      <td>True</td>\n",
              "      <td>False</td>\n",
              "    </tr>\n",
              "    <tr>\n",
              "      <th>2006-01-08 23:16:00</th>\n",
              "      <td>4673628</td>\n",
              "      <td>2006-01-08 23:16:00</td>\n",
              "      <td>ASSAULT</td>\n",
              "      <td>OTHER</td>\n",
              "      <td>False</td>\n",
              "      <td>False</td>\n",
              "    </tr>\n",
              "    <tr>\n",
              "      <th>2006-04-05 18:45:00</th>\n",
              "      <td>4673629</td>\n",
              "      <td>2006-04-05 18:45:00</td>\n",
              "      <td>BATTERY</td>\n",
              "      <td>RESIDENCE</td>\n",
              "      <td>False</td>\n",
              "      <td>False</td>\n",
              "    </tr>\n",
              "    <tr>\n",
              "      <th>2006-02-17 21:03:14</th>\n",
              "      <td>4673630</td>\n",
              "      <td>2006-02-17 21:03:14</td>\n",
              "      <td>NARCOTICS</td>\n",
              "      <td>ALLEY</td>\n",
              "      <td>True</td>\n",
              "      <td>False</td>\n",
              "    </tr>\n",
              "    <tr>\n",
              "      <th>...</th>\n",
              "      <td>...</td>\n",
              "      <td>...</td>\n",
              "      <td>...</td>\n",
              "      <td>...</td>\n",
              "      <td>...</td>\n",
              "      <td>...</td>\n",
              "    </tr>\n",
              "    <tr>\n",
              "      <th>2016-05-03 23:33:00</th>\n",
              "      <td>10508679</td>\n",
              "      <td>2016-05-03 23:33:00</td>\n",
              "      <td>BATTERY</td>\n",
              "      <td>APARTMENT</td>\n",
              "      <td>True</td>\n",
              "      <td>True</td>\n",
              "    </tr>\n",
              "    <tr>\n",
              "      <th>2016-05-03 23:30:00</th>\n",
              "      <td>10508680</td>\n",
              "      <td>2016-05-03 23:30:00</td>\n",
              "      <td>CRIMINAL DAMAGE</td>\n",
              "      <td>APARTMENT</td>\n",
              "      <td>True</td>\n",
              "      <td>True</td>\n",
              "    </tr>\n",
              "    <tr>\n",
              "      <th>2016-05-03 00:15:00</th>\n",
              "      <td>10508681</td>\n",
              "      <td>2016-05-03 00:15:00</td>\n",
              "      <td>BATTERY</td>\n",
              "      <td>SIDEWALK</td>\n",
              "      <td>False</td>\n",
              "      <td>False</td>\n",
              "    </tr>\n",
              "    <tr>\n",
              "      <th>2016-05-03 21:07:00</th>\n",
              "      <td>10508690</td>\n",
              "      <td>2016-05-03 21:07:00</td>\n",
              "      <td>BATTERY</td>\n",
              "      <td>SIDEWALK</td>\n",
              "      <td>False</td>\n",
              "      <td>True</td>\n",
              "    </tr>\n",
              "    <tr>\n",
              "      <th>2016-05-03 23:38:00</th>\n",
              "      <td>10508692</td>\n",
              "      <td>2016-05-03 23:38:00</td>\n",
              "      <td>OTHER OFFENSE</td>\n",
              "      <td>PARKING LOT/GARAGE(NON.RESID.)</td>\n",
              "      <td>True</td>\n",
              "      <td>False</td>\n",
              "    </tr>\n",
              "  </tbody>\n",
              "</table>\n",
              "<p>6015793 rows × 6 columns</p>\n",
              "</div>\n",
              "      <button class=\"colab-df-convert\" onclick=\"convertToInteractive('df-a0259cdf-9c28-4602-a2f8-047c16439a66')\"\n",
              "              title=\"Convert this dataframe to an interactive table.\"\n",
              "              style=\"display:none;\">\n",
              "        \n",
              "  <svg xmlns=\"http://www.w3.org/2000/svg\" height=\"24px\"viewBox=\"0 0 24 24\"\n",
              "       width=\"24px\">\n",
              "    <path d=\"M0 0h24v24H0V0z\" fill=\"none\"/>\n",
              "    <path d=\"M18.56 5.44l.94 2.06.94-2.06 2.06-.94-2.06-.94-.94-2.06-.94 2.06-2.06.94zm-11 1L8.5 8.5l.94-2.06 2.06-.94-2.06-.94L8.5 2.5l-.94 2.06-2.06.94zm10 10l.94 2.06.94-2.06 2.06-.94-2.06-.94-.94-2.06-.94 2.06-2.06.94z\"/><path d=\"M17.41 7.96l-1.37-1.37c-.4-.4-.92-.59-1.43-.59-.52 0-1.04.2-1.43.59L10.3 9.45l-7.72 7.72c-.78.78-.78 2.05 0 2.83L4 21.41c.39.39.9.59 1.41.59.51 0 1.02-.2 1.41-.59l7.78-7.78 2.81-2.81c.8-.78.8-2.07 0-2.86zM5.41 20L4 18.59l7.72-7.72 1.47 1.35L5.41 20z\"/>\n",
              "  </svg>\n",
              "      </button>\n",
              "      \n",
              "  <style>\n",
              "    .colab-df-container {\n",
              "      display:flex;\n",
              "      flex-wrap:wrap;\n",
              "      gap: 12px;\n",
              "    }\n",
              "\n",
              "    .colab-df-convert {\n",
              "      background-color: #E8F0FE;\n",
              "      border: none;\n",
              "      border-radius: 50%;\n",
              "      cursor: pointer;\n",
              "      display: none;\n",
              "      fill: #1967D2;\n",
              "      height: 32px;\n",
              "      padding: 0 0 0 0;\n",
              "      width: 32px;\n",
              "    }\n",
              "\n",
              "    .colab-df-convert:hover {\n",
              "      background-color: #E2EBFA;\n",
              "      box-shadow: 0px 1px 2px rgba(60, 64, 67, 0.3), 0px 1px 3px 1px rgba(60, 64, 67, 0.15);\n",
              "      fill: #174EA6;\n",
              "    }\n",
              "\n",
              "    [theme=dark] .colab-df-convert {\n",
              "      background-color: #3B4455;\n",
              "      fill: #D2E3FC;\n",
              "    }\n",
              "\n",
              "    [theme=dark] .colab-df-convert:hover {\n",
              "      background-color: #434B5C;\n",
              "      box-shadow: 0px 1px 3px 1px rgba(0, 0, 0, 0.15);\n",
              "      filter: drop-shadow(0px 1px 2px rgba(0, 0, 0, 0.3));\n",
              "      fill: #FFFFFF;\n",
              "    }\n",
              "  </style>\n",
              "\n",
              "      <script>\n",
              "        const buttonEl =\n",
              "          document.querySelector('#df-a0259cdf-9c28-4602-a2f8-047c16439a66 button.colab-df-convert');\n",
              "        buttonEl.style.display =\n",
              "          google.colab.kernel.accessAllowed ? 'block' : 'none';\n",
              "\n",
              "        async function convertToInteractive(key) {\n",
              "          const element = document.querySelector('#df-a0259cdf-9c28-4602-a2f8-047c16439a66');\n",
              "          const dataTable =\n",
              "            await google.colab.kernel.invokeFunction('convertToInteractive',\n",
              "                                                     [key], {});\n",
              "          if (!dataTable) return;\n",
              "\n",
              "          const docLinkHtml = 'Like what you see? Visit the ' +\n",
              "            '<a target=\"_blank\" href=https://colab.research.google.com/notebooks/data_table.ipynb>data table notebook</a>'\n",
              "            + ' to learn more about interactive tables.';\n",
              "          element.innerHTML = '';\n",
              "          dataTable['output_type'] = 'display_data';\n",
              "          await google.colab.output.renderOutput(dataTable, element);\n",
              "          const docLink = document.createElement('div');\n",
              "          docLink.innerHTML = docLinkHtml;\n",
              "          element.appendChild(docLink);\n",
              "        }\n",
              "      </script>\n",
              "    </div>\n",
              "  </div>\n",
              "  "
            ]
          },
          "metadata": {},
          "execution_count": 36
        }
      ],
      "source": [
        "df"
      ]
    },
    {
      "cell_type": "code",
      "execution_count": null,
      "metadata": {
        "id": "1dRmAF0_STeB",
        "colab": {
          "base_uri": "https://localhost:8080/",
          "height": 313
        },
        "outputId": "8939fc33-3bc9-4ed6-9b42-341bb08b961d"
      },
      "outputs": [
        {
          "output_type": "execute_result",
          "data": {
            "text/plain": [
              "Text(0, 0.5, 'Number of Crimes')"
            ]
          },
          "metadata": {},
          "execution_count": 38
        },
        {
          "output_type": "display_data",
          "data": {
            "text/plain": [
              "<Figure size 432x288 with 1 Axes>"
            ],
            "image/png": "[encoded data removed]"
          },
          "metadata": {
            "needs_background": "light"
          }
        }
      ],
      "source": [
        "plt.plot(df.resample('Y').size())\n",
        "plt.title(\"Crime Count Per Year\")\n",
        "plt.xlabel(\"Years\")\n",
        "plt.ylabel(\"Number of Crimes\")"
      ]
    },
    {
      "cell_type": "code",
      "execution_count": null,
      "metadata": {
        "id": "cB5QdMOISbab",
        "colab": {
          "base_uri": "https://localhost:8080/",
          "height": 313
        },
        "outputId": "ef0e286b-0a89-4658-c2e4-c461fa6aeddb"
      },
      "outputs": [
        {
          "output_type": "execute_result",
          "data": {
            "text/plain": [
              "Text(0, 0.5, 'Number of Crimes')"
            ]
          },
          "metadata": {},
          "execution_count": 39
        },
        {
          "output_type": "display_data",
          "data": {
            "text/plain": [
              "<Figure size 432x288 with 1 Axes>"
            ],
            "image/png": "[encoded data removed]"
          },
          "metadata": {
            "needs_background": "light"
          }
        }
      ],
      "source": [
        "plt.plot(df.resample('M').size())\n",
        "plt.title(\"Crime Count Per Year\")\n",
        "plt.xlabel(\"Years\")\n",
        "plt.ylabel(\"Number of Crimes\")"
      ]
    },
    {
      "cell_type": "code",
      "execution_count": null,
      "metadata": {
        "id": "c-lITvWYh_u3"
      },
      "outputs": [],
      "source": []
    },
    {
      "cell_type": "markdown",
      "metadata": {
        "id": "W9uNFSWxiBC-"
      },
      "source": [
        "**Preparing The data**"
      ]
    },
    {
      "cell_type": "code",
      "execution_count": null,
      "metadata": {
        "id": "xzoPGpQdckOo"
      },
      "outputs": [],
      "source": [
        "df_prophet = pd.DataFrame(df.resample('M').size().reset_index())"
      ]
    },
    {
      "cell_type": "code",
      "execution_count": null,
      "metadata": {
        "id": "OZgzCDL2d_nu"
      },
      "outputs": [],
      "source": [
        "df_prophet.columns =['Date','Crime Count']"
      ]
    },
    {
      "cell_type": "code",
      "source": [
        "df_prophet"
      ],
      "metadata": {
        "colab": {
          "base_uri": "https://localhost:8080/",
          "height": 423
        },
        "id": "Hbqq51S_KJ1R",
        "outputId": "b9c7abbd-6ab8-491f-92d9-81fcf249a312"
      },
      "execution_count": null,
      "outputs": [
        {
          "output_type": "execute_result",
          "data": {
            "text/plain": [
              "          Date  Crime Count\n",
              "0   2005-01-31        33983\n",
              "1   2005-02-28        32042\n",
              "2   2005-03-31        36968\n",
              "3   2005-04-30        38963\n",
              "4   2005-05-31        40570\n",
              "..         ...          ...\n",
              "140 2016-09-30        23176\n",
              "141 2016-10-31        23243\n",
              "142 2016-11-30        21077\n",
              "143 2016-12-31        19517\n",
              "144 2017-01-31        11329\n",
              "\n",
              "[145 rows x 2 columns]"
            ],
            "text/html": [
              "\n",
              "  <div id=\"df-33f4d610-ee9c-463b-b513-a9df3563db1c\">\n",
              "    <div class=\"colab-df-container\">\n",
              "      <div>\n",
              "<style scoped>\n",
              "    .dataframe tbody tr th:only-of-type {\n",
              "        vertical-align: middle;\n",
              "    }\n",
              "\n",
              "    .dataframe tbody tr th {\n",
              "        vertical-align: top;\n",
              "    }\n",
              "\n",
              "    .dataframe thead th {\n",
              "        text-align: right;\n",
              "    }\n",
              "</style>\n",
              "<table border=\"1\" class=\"dataframe\">\n",
              "  <thead>\n",
              "    <tr style=\"text-align: right;\">\n",
              "      <th></th>\n",
              "      <th>Date</th>\n",
              "      <th>Crime Count</th>\n",
              "    </tr>\n",
              "  </thead>\n",
              "  <tbody>\n",
              "    <tr>\n",
              "      <th>0</th>\n",
              "      <td>2005-01-31</td>\n",
              "      <td>33983</td>\n",
              "    </tr>\n",
              "    <tr>\n",
              "      <th>1</th>\n",
              "      <td>2005-02-28</td>\n",
              "      <td>32042</td>\n",
              "    </tr>\n",
              "    <tr>\n",
              "      <th>2</th>\n",
              "      <td>2005-03-31</td>\n",
              "      <td>36968</td>\n",
              "    </tr>\n",
              "    <tr>\n",
              "      <th>3</th>\n",
              "      <td>2005-04-30</td>\n",
              "      <td>38963</td>\n",
              "    </tr>\n",
              "    <tr>\n",
              "      <th>4</th>\n",
              "      <td>2005-05-31</td>\n",
              "      <td>40570</td>\n",
              "    </tr>\n",
              "    <tr>\n",
              "      <th>...</th>\n",
              "      <td>...</td>\n",
              "      <td>...</td>\n",
              "    </tr>\n",
              "    <tr>\n",
              "      <th>140</th>\n",
              "      <td>2016-09-30</td>\n",
              "      <td>23176</td>\n",
              "    </tr>\n",
              "    <tr>\n",
              "      <th>141</th>\n",
              "      <td>2016-10-31</td>\n",
              "      <td>23243</td>\n",
              "    </tr>\n",
              "    <tr>\n",
              "      <th>142</th>\n",
              "      <td>2016-11-30</td>\n",
              "      <td>21077</td>\n",
              "    </tr>\n",
              "    <tr>\n",
              "      <th>143</th>\n",
              "      <td>2016-12-31</td>\n",
              "      <td>19517</td>\n",
              "    </tr>\n",
              "    <tr>\n",
              "      <th>144</th>\n",
              "      <td>2017-01-31</td>\n",
              "      <td>11329</td>\n",
              "    </tr>\n",
              "  </tbody>\n",
              "</table>\n",
              "<p>145 rows × 2 columns</p>\n",
              "</div>\n",
              "      <button class=\"colab-df-convert\" onclick=\"convertToInteractive('df-33f4d610-ee9c-463b-b513-a9df3563db1c')\"\n",
              "              title=\"Convert this dataframe to an interactive table.\"\n",
              "              style=\"display:none;\">\n",
              "        \n",
              "  <svg xmlns=\"http://www.w3.org/2000/svg\" height=\"24px\"viewBox=\"0 0 24 24\"\n",
              "       width=\"24px\">\n",
              "    <path d=\"M0 0h24v24H0V0z\" fill=\"none\"/>\n",
              "    <path d=\"M18.56 5.44l.94 2.06.94-2.06 2.06-.94-2.06-.94-.94-2.06-.94 2.06-2.06.94zm-11 1L8.5 8.5l.94-2.06 2.06-.94-2.06-.94L8.5 2.5l-.94 2.06-2.06.94zm10 10l.94 2.06.94-2.06 2.06-.94-2.06-.94-.94-2.06-.94 2.06-2.06.94z\"/><path d=\"M17.41 7.96l-1.37-1.37c-.4-.4-.92-.59-1.43-.59-.52 0-1.04.2-1.43.59L10.3 9.45l-7.72 7.72c-.78.78-.78 2.05 0 2.83L4 21.41c.39.39.9.59 1.41.59.51 0 1.02-.2 1.41-.59l7.78-7.78 2.81-2.81c.8-.78.8-2.07 0-2.86zM5.41 20L4 18.59l7.72-7.72 1.47 1.35L5.41 20z\"/>\n",
              "  </svg>\n",
              "      </button>\n",
              "      \n",
              "  <style>\n",
              "    .colab-df-container {\n",
              "      display:flex;\n",
              "      flex-wrap:wrap;\n",
              "      gap: 12px;\n",
              "    }\n",
              "\n",
              "    .colab-df-convert {\n",
              "      background-color: #E8F0FE;\n",
              "      border: none;\n",
              "      border-radius: 50%;\n",
              "      cursor: pointer;\n",
              "      display: none;\n",
              "      fill: #1967D2;\n",
              "      height: 32px;\n",
              "      padding: 0 0 0 0;\n",
              "      width: 32px;\n",
              "    }\n",
              "\n",
              "    .colab-df-convert:hover {\n",
              "      background-color: #E2EBFA;\n",
              "      box-shadow: 0px 1px 2px rgba(60, 64, 67, 0.3), 0px 1px 3px 1px rgba(60, 64, 67, 0.15);\n",
              "      fill: #174EA6;\n",
              "    }\n",
              "\n",
              "    [theme=dark] .colab-df-convert {\n",
              "      background-color: #3B4455;\n",
              "      fill: #D2E3FC;\n",
              "    }\n",
              "\n",
              "    [theme=dark] .colab-df-convert:hover {\n",
              "      background-color: #434B5C;\n",
              "      box-shadow: 0px 1px 3px 1px rgba(0, 0, 0, 0.15);\n",
              "      filter: drop-shadow(0px 1px 2px rgba(0, 0, 0, 0.3));\n",
              "      fill: #FFFFFF;\n",
              "    }\n",
              "  </style>\n",
              "\n",
              "      <script>\n",
              "        const buttonEl =\n",
              "          document.querySelector('#df-33f4d610-ee9c-463b-b513-a9df3563db1c button.colab-df-convert');\n",
              "        buttonEl.style.display =\n",
              "          google.colab.kernel.accessAllowed ? 'block' : 'none';\n",
              "\n",
              "        async function convertToInteractive(key) {\n",
              "          const element = document.querySelector('#df-33f4d610-ee9c-463b-b513-a9df3563db1c');\n",
              "          const dataTable =\n",
              "            await google.colab.kernel.invokeFunction('convertToInteractive',\n",
              "                                                     [key], {});\n",
              "          if (!dataTable) return;\n",
              "\n",
              "          const docLinkHtml = 'Like what you see? Visit the ' +\n",
              "            '<a target=\"_blank\" href=https://colab.research.google.com/notebooks/data_table.ipynb>data table notebook</a>'\n",
              "            + ' to learn more about interactive tables.';\n",
              "          element.innerHTML = '';\n",
              "          dataTable['output_type'] = 'display_data';\n",
              "          await google.colab.output.renderOutput(dataTable, element);\n",
              "          const docLink = document.createElement('div');\n",
              "          docLink.innerHTML = docLinkHtml;\n",
              "          element.appendChild(docLink);\n",
              "        }\n",
              "      </script>\n",
              "    </div>\n",
              "  </div>\n",
              "  "
            ]
          },
          "metadata": {},
          "execution_count": 44
        }
      ]
    },
    {
      "cell_type": "markdown",
      "metadata": {
        "id": "0Jz4GBRpiRXe"
      },
      "source": [
        "**Rename The Columns**"
      ]
    },
    {
      "cell_type": "code",
      "execution_count": null,
      "metadata": {
        "id": "_6V3mSEYeCKS"
      },
      "outputs": [],
      "source": [
        "# ds and y"
      ]
    },
    {
      "cell_type": "code",
      "execution_count": null,
      "metadata": {
        "id": "l6pG959Fibgr"
      },
      "outputs": [],
      "source": [
        "df_prophet=df_prophet.rename(columns={'Date':'ds','Crime Count':'y'})"
      ]
    },
    {
      "cell_type": "code",
      "source": [
        "df_prophet"
      ],
      "metadata": {
        "colab": {
          "base_uri": "https://localhost:8080/",
          "height": 423
        },
        "id": "lcrOtfKRLbng",
        "outputId": "cc1a1422-5d69-4b13-f7f8-abd1cc4b33e9"
      },
      "execution_count": null,
      "outputs": [
        {
          "output_type": "execute_result",
          "data": {
            "text/plain": [
              "            ds      y\n",
              "0   2005-01-31  33983\n",
              "1   2005-02-28  32042\n",
              "2   2005-03-31  36968\n",
              "3   2005-04-30  38963\n",
              "4   2005-05-31  40570\n",
              "..         ...    ...\n",
              "140 2016-09-30  23176\n",
              "141 2016-10-31  23243\n",
              "142 2016-11-30  21077\n",
              "143 2016-12-31  19517\n",
              "144 2017-01-31  11329\n",
              "\n",
              "[145 rows x 2 columns]"
            ],
            "text/html": [
              "\n",
              "  <div id=\"df-812e7db1-4543-4377-aaff-ebbc2ed89f96\">\n",
              "    <div class=\"colab-df-container\">\n",
              "      <div>\n",
              "<style scoped>\n",
              "    .dataframe tbody tr th:only-of-type {\n",
              "        vertical-align: middle;\n",
              "    }\n",
              "\n",
              "    .dataframe tbody tr th {\n",
              "        vertical-align: top;\n",
              "    }\n",
              "\n",
              "    .dataframe thead th {\n",
              "        text-align: right;\n",
              "    }\n",
              "</style>\n",
              "<table border=\"1\" class=\"dataframe\">\n",
              "  <thead>\n",
              "    <tr style=\"text-align: right;\">\n",
              "      <th></th>\n",
              "      <th>ds</th>\n",
              "      <th>y</th>\n",
              "    </tr>\n",
              "  </thead>\n",
              "  <tbody>\n",
              "    <tr>\n",
              "      <th>0</th>\n",
              "      <td>2005-01-31</td>\n",
              "      <td>33983</td>\n",
              "    </tr>\n",
              "    <tr>\n",
              "      <th>1</th>\n",
              "      <td>2005-02-28</td>\n",
              "      <td>32042</td>\n",
              "    </tr>\n",
              "    <tr>\n",
              "      <th>2</th>\n",
              "      <td>2005-03-31</td>\n",
              "      <td>36968</td>\n",
              "    </tr>\n",
              "    <tr>\n",
              "      <th>3</th>\n",
              "      <td>2005-04-30</td>\n",
              "      <td>38963</td>\n",
              "    </tr>\n",
              "    <tr>\n",
              "      <th>4</th>\n",
              "      <td>2005-05-31</td>\n",
              "      <td>40570</td>\n",
              "    </tr>\n",
              "    <tr>\n",
              "      <th>...</th>\n",
              "      <td>...</td>\n",
              "      <td>...</td>\n",
              "    </tr>\n",
              "    <tr>\n",
              "      <th>140</th>\n",
              "      <td>2016-09-30</td>\n",
              "      <td>23176</td>\n",
              "    </tr>\n",
              "    <tr>\n",
              "      <th>141</th>\n",
              "      <td>2016-10-31</td>\n",
              "      <td>23243</td>\n",
              "    </tr>\n",
              "    <tr>\n",
              "      <th>142</th>\n",
              "      <td>2016-11-30</td>\n",
              "      <td>21077</td>\n",
              "    </tr>\n",
              "    <tr>\n",
              "      <th>143</th>\n",
              "      <td>2016-12-31</td>\n",
              "      <td>19517</td>\n",
              "    </tr>\n",
              "    <tr>\n",
              "      <th>144</th>\n",
              "      <td>2017-01-31</td>\n",
              "      <td>11329</td>\n",
              "    </tr>\n",
              "  </tbody>\n",
              "</table>\n",
              "<p>145 rows × 2 columns</p>\n",
              "</div>\n",
              "      <button class=\"colab-df-convert\" onclick=\"convertToInteractive('df-812e7db1-4543-4377-aaff-ebbc2ed89f96')\"\n",
              "              title=\"Convert this dataframe to an interactive table.\"\n",
              "              style=\"display:none;\">\n",
              "        \n",
              "  <svg xmlns=\"http://www.w3.org/2000/svg\" height=\"24px\"viewBox=\"0 0 24 24\"\n",
              "       width=\"24px\">\n",
              "    <path d=\"M0 0h24v24H0V0z\" fill=\"none\"/>\n",
              "    <path d=\"M18.56 5.44l.94 2.06.94-2.06 2.06-.94-2.06-.94-.94-2.06-.94 2.06-2.06.94zm-11 1L8.5 8.5l.94-2.06 2.06-.94-2.06-.94L8.5 2.5l-.94 2.06-2.06.94zm10 10l.94 2.06.94-2.06 2.06-.94-2.06-.94-.94-2.06-.94 2.06-2.06.94z\"/><path d=\"M17.41 7.96l-1.37-1.37c-.4-.4-.92-.59-1.43-.59-.52 0-1.04.2-1.43.59L10.3 9.45l-7.72 7.72c-.78.78-.78 2.05 0 2.83L4 21.41c.39.39.9.59 1.41.59.51 0 1.02-.2 1.41-.59l7.78-7.78 2.81-2.81c.8-.78.8-2.07 0-2.86zM5.41 20L4 18.59l7.72-7.72 1.47 1.35L5.41 20z\"/>\n",
              "  </svg>\n",
              "      </button>\n",
              "      \n",
              "  <style>\n",
              "    .colab-df-container {\n",
              "      display:flex;\n",
              "      flex-wrap:wrap;\n",
              "      gap: 12px;\n",
              "    }\n",
              "\n",
              "    .colab-df-convert {\n",
              "      background-color: #E8F0FE;\n",
              "      border: none;\n",
              "      border-radius: 50%;\n",
              "      cursor: pointer;\n",
              "      display: none;\n",
              "      fill: #1967D2;\n",
              "      height: 32px;\n",
              "      padding: 0 0 0 0;\n",
              "      width: 32px;\n",
              "    }\n",
              "\n",
              "    .colab-df-convert:hover {\n",
              "      background-color: #E2EBFA;\n",
              "      box-shadow: 0px 1px 2px rgba(60, 64, 67, 0.3), 0px 1px 3px 1px rgba(60, 64, 67, 0.15);\n",
              "      fill: #174EA6;\n",
              "    }\n",
              "\n",
              "    [theme=dark] .colab-df-convert {\n",
              "      background-color: #3B4455;\n",
              "      fill: #D2E3FC;\n",
              "    }\n",
              "\n",
              "    [theme=dark] .colab-df-convert:hover {\n",
              "      background-color: #434B5C;\n",
              "      box-shadow: 0px 1px 3px 1px rgba(0, 0, 0, 0.15);\n",
              "      filter: drop-shadow(0px 1px 2px rgba(0, 0, 0, 0.3));\n",
              "      fill: #FFFFFF;\n",
              "    }\n",
              "  </style>\n",
              "\n",
              "      <script>\n",
              "        const buttonEl =\n",
              "          document.querySelector('#df-812e7db1-4543-4377-aaff-ebbc2ed89f96 button.colab-df-convert');\n",
              "        buttonEl.style.display =\n",
              "          google.colab.kernel.accessAllowed ? 'block' : 'none';\n",
              "\n",
              "        async function convertToInteractive(key) {\n",
              "          const element = document.querySelector('#df-812e7db1-4543-4377-aaff-ebbc2ed89f96');\n",
              "          const dataTable =\n",
              "            await google.colab.kernel.invokeFunction('convertToInteractive',\n",
              "                                                     [key], {});\n",
              "          if (!dataTable) return;\n",
              "\n",
              "          const docLinkHtml = 'Like what you see? Visit the ' +\n",
              "            '<a target=\"_blank\" href=https://colab.research.google.com/notebooks/data_table.ipynb>data table notebook</a>'\n",
              "            + ' to learn more about interactive tables.';\n",
              "          element.innerHTML = '';\n",
              "          dataTable['output_type'] = 'display_data';\n",
              "          await google.colab.output.renderOutput(dataTable, element);\n",
              "          const docLink = document.createElement('div');\n",
              "          docLink.innerHTML = docLinkHtml;\n",
              "          element.appendChild(docLink);\n",
              "        }\n",
              "      </script>\n",
              "    </div>\n",
              "  </div>\n",
              "  "
            ]
          },
          "metadata": {},
          "execution_count": 46
        }
      ]
    },
    {
      "cell_type": "markdown",
      "metadata": {
        "id": "3rimNTZWib9s"
      },
      "source": [
        "**Train The Model**"
      ]
    },
    {
      "cell_type": "code",
      "execution_count": null,
      "metadata": {
        "id": "jiIxZhG2eH4V",
        "colab": {
          "base_uri": "https://localhost:8080/"
        },
        "outputId": "22bd220d-0f86-4ab4-a872-78bfc62822fa"
      },
      "outputs": [
        {
          "output_type": "stream",
          "name": "stderr",
          "text": [
            "INFO:fbprophet:Disabling weekly seasonality. Run prophet with weekly_seasonality=True to override this.\n",
            "INFO:fbprophet:Disabling daily seasonality. Run prophet with daily_seasonality=True to override this.\n"
          ]
        },
        {
          "output_type": "execute_result",
          "data": {
            "text/plain": [
              "<fbprophet.forecaster.Prophet at 0x7f7a3c307090>"
            ]
          },
          "metadata": {},
          "execution_count": 47
        }
      ],
      "source": [
        "m = Prophet()\n",
        "m.fit(df_prophet)"
      ]
    },
    {
      "cell_type": "code",
      "execution_count": null,
      "metadata": {
        "id": "kDfgjWHFikBr"
      },
      "outputs": [],
      "source": []
    },
    {
      "cell_type": "markdown",
      "metadata": {
        "id": "RVTDFzGwikWH"
      },
      "source": [
        "**Make The Predictions**"
      ]
    },
    {
      "cell_type": "code",
      "execution_count": null,
      "metadata": {
        "id": "_7Sb6Mm4eROF"
      },
      "outputs": [],
      "source": [
        "pred=m.make_future_dataframe(periods=24,freq='M')\n",
        "forcast = m.predict(pred)"
      ]
    },
    {
      "cell_type": "code",
      "execution_count": null,
      "metadata": {
        "id": "kBlRNzATeg0H",
        "colab": {
          "base_uri": "https://localhost:8080/",
          "height": 661
        },
        "outputId": "14fb5539-d858-46e1-e119-7af4afe2bd78"
      },
      "outputs": [
        {
          "output_type": "execute_result",
          "data": {
            "text/plain": [
              "            ds         trend    yhat_lower    yhat_upper   trend_lower  \\\n",
              "0   2005-01-31  60430.828866  38730.097396  72037.992518  60430.828866   \n",
              "1   2005-02-28  60299.376723  35173.441988  66644.461846  60299.376723   \n",
              "2   2005-03-31  60153.840421  41774.261027  74777.315503  60153.840421   \n",
              "3   2005-04-30  60012.998839  44229.978113  78522.624992  60012.998839   \n",
              "4   2005-05-31  59867.462538  47759.372925  82743.075934  59867.462538   \n",
              "..         ...           ...           ...           ...           ...   \n",
              "164 2018-09-30   6433.326135  -7446.896428  25973.972100   6066.057838   \n",
              "165 2018-10-31   6021.162267  -8456.958914  26152.411927   5618.156722   \n",
              "166 2018-11-30   5622.294008 -12387.907507  21709.974830   5181.286895   \n",
              "167 2018-12-31   5210.130140 -17341.174811  16895.439762   4731.211583   \n",
              "168 2019-01-31   4797.966272 -18261.236260  16426.829885   4293.071797   \n",
              "\n",
              "      trend_upper  additive_terms  additive_terms_lower  additive_terms_upper  \\\n",
              "0    60430.828866    -4815.541199          -4815.541199          -4815.541199   \n",
              "1    60299.376723    -9499.801094          -9499.801094          -9499.801094   \n",
              "2    60153.840421    -1257.158958          -1257.158958          -1257.158958   \n",
              "3    60012.998839     1137.682624           1137.682624           1137.682624   \n",
              "4    59867.462538     5440.286377           5440.286377           5440.286377   \n",
              "..            ...             ...                   ...                   ...   \n",
              "164   6774.906298     1810.916814           1810.916814           1810.916814   \n",
              "165   6388.886294     2424.761474           2424.761474           2424.761474   \n",
              "166   6017.575951    -2052.681781          -2052.681781          -2052.681781   \n",
              "167   5639.554631    -6011.186904          -6011.186904          -6011.186904   \n",
              "168   5260.011235    -4741.134719          -4741.134719          -4741.134719   \n",
              "\n",
              "          yearly  yearly_lower  yearly_upper  multiplicative_terms  \\\n",
              "0   -4815.541199  -4815.541199  -4815.541199                   0.0   \n",
              "1   -9499.801094  -9499.801094  -9499.801094                   0.0   \n",
              "2   -1257.158958  -1257.158958  -1257.158958                   0.0   \n",
              "3    1137.682624   1137.682624   1137.682624                   0.0   \n",
              "4    5440.286377   5440.286377   5440.286377                   0.0   \n",
              "..           ...           ...           ...                   ...   \n",
              "164  1810.916814   1810.916814   1810.916814                   0.0   \n",
              "165  2424.761474   2424.761474   2424.761474                   0.0   \n",
              "166 -2052.681781  -2052.681781  -2052.681781                   0.0   \n",
              "167 -6011.186904  -6011.186904  -6011.186904                   0.0   \n",
              "168 -4741.134719  -4741.134719  -4741.134719                   0.0   \n",
              "\n",
              "     multiplicative_terms_lower  multiplicative_terms_upper          yhat  \n",
              "0                           0.0                         0.0  55615.287667  \n",
              "1                           0.0                         0.0  50799.575628  \n",
              "2                           0.0                         0.0  58896.681463  \n",
              "3                           0.0                         0.0  61150.681463  \n",
              "4                           0.0                         0.0  65307.748915  \n",
              "..                          ...                         ...           ...  \n",
              "164                         0.0                         0.0   8244.242949  \n",
              "165                         0.0                         0.0   8445.923740  \n",
              "166                         0.0                         0.0   3569.612227  \n",
              "167                         0.0                         0.0   -801.056764  \n",
              "168                         0.0                         0.0     56.831553  \n",
              "\n",
              "[169 rows x 16 columns]"
            ],
            "text/html": [
              "\n",
              "  <div id=\"df-7b282c65-6158-43ed-ba5e-02eef41c155f\">\n",
              "    <div class=\"colab-df-container\">\n",
              "      <div>\n",
              "<style scoped>\n",
              "    .dataframe tbody tr th:only-of-type {\n",
              "        vertical-align: middle;\n",
              "    }\n",
              "\n",
              "    .dataframe tbody tr th {\n",
              "        vertical-align: top;\n",
              "    }\n",
              "\n",
              "    .dataframe thead th {\n",
              "        text-align: right;\n",
              "    }\n",
              "</style>\n",
              "<table border=\"1\" class=\"dataframe\">\n",
              "  <thead>\n",
              "    <tr style=\"text-align: right;\">\n",
              "      <th></th>\n",
              "      <th>ds</th>\n",
              "      <th>trend</th>\n",
              "      <th>yhat_lower</th>\n",
              "      <th>yhat_upper</th>\n",
              "      <th>trend_lower</th>\n",
              "      <th>trend_upper</th>\n",
              "      <th>additive_terms</th>\n",
              "      <th>additive_terms_lower</th>\n",
              "      <th>additive_terms_upper</th>\n",
              "      <th>yearly</th>\n",
              "      <th>yearly_lower</th>\n",
              "      <th>yearly_upper</th>\n",
              "      <th>multiplicative_terms</th>\n",
              "      <th>multiplicative_terms_lower</th>\n",
              "      <th>multiplicative_terms_upper</th>\n",
              "      <th>yhat</th>\n",
              "    </tr>\n",
              "  </thead>\n",
              "  <tbody>\n",
              "    <tr>\n",
              "      <th>0</th>\n",
              "      <td>2005-01-31</td>\n",
              "      <td>60430.828866</td>\n",
              "      <td>38730.097396</td>\n",
              "      <td>72037.992518</td>\n",
              "      <td>60430.828866</td>\n",
              "      <td>60430.828866</td>\n",
              "      <td>-4815.541199</td>\n",
              "      <td>-4815.541199</td>\n",
              "      <td>-4815.541199</td>\n",
              "      <td>-4815.541199</td>\n",
              "      <td>-4815.541199</td>\n",
              "      <td>-4815.541199</td>\n",
              "      <td>0.0</td>\n",
              "      <td>0.0</td>\n",
              "      <td>0.0</td>\n",
              "      <td>55615.287667</td>\n",
              "    </tr>\n",
              "    <tr>\n",
              "      <th>1</th>\n",
              "      <td>2005-02-28</td>\n",
              "      <td>60299.376723</td>\n",
              "      <td>35173.441988</td>\n",
              "      <td>66644.461846</td>\n",
              "      <td>60299.376723</td>\n",
              "      <td>60299.376723</td>\n",
              "      <td>-9499.801094</td>\n",
              "      <td>-9499.801094</td>\n",
              "      <td>-9499.801094</td>\n",
              "      <td>-9499.801094</td>\n",
              "      <td>-9499.801094</td>\n",
              "      <td>-9499.801094</td>\n",
              "      <td>0.0</td>\n",
              "      <td>0.0</td>\n",
              "      <td>0.0</td>\n",
              "      <td>50799.575628</td>\n",
              "    </tr>\n",
              "    <tr>\n",
              "      <th>2</th>\n",
              "      <td>2005-03-31</td>\n",
              "      <td>60153.840421</td>\n",
              "      <td>41774.261027</td>\n",
              "      <td>74777.315503</td>\n",
              "      <td>60153.840421</td>\n",
              "      <td>60153.840421</td>\n",
              "      <td>-1257.158958</td>\n",
              "      <td>-1257.158958</td>\n",
              "      <td>-1257.158958</td>\n",
              "      <td>-1257.158958</td>\n",
              "      <td>-1257.158958</td>\n",
              "      <td>-1257.158958</td>\n",
              "      <td>0.0</td>\n",
              "      <td>0.0</td>\n",
              "      <td>0.0</td>\n",
              "      <td>58896.681463</td>\n",
              "    </tr>\n",
              "    <tr>\n",
              "      <th>3</th>\n",
              "      <td>2005-04-30</td>\n",
              "      <td>60012.998839</td>\n",
              "      <td>44229.978113</td>\n",
              "      <td>78522.624992</td>\n",
              "      <td>60012.998839</td>\n",
              "      <td>60012.998839</td>\n",
              "      <td>1137.682624</td>\n",
              "      <td>1137.682624</td>\n",
              "      <td>1137.682624</td>\n",
              "      <td>1137.682624</td>\n",
              "      <td>1137.682624</td>\n",
              "      <td>1137.682624</td>\n",
              "      <td>0.0</td>\n",
              "      <td>0.0</td>\n",
              "      <td>0.0</td>\n",
              "      <td>61150.681463</td>\n",
              "    </tr>\n",
              "    <tr>\n",
              "      <th>4</th>\n",
              "      <td>2005-05-31</td>\n",
              "      <td>59867.462538</td>\n",
              "      <td>47759.372925</td>\n",
              "      <td>82743.075934</td>\n",
              "      <td>59867.462538</td>\n",
              "      <td>59867.462538</td>\n",
              "      <td>5440.286377</td>\n",
              "      <td>5440.286377</td>\n",
              "      <td>5440.286377</td>\n",
              "      <td>5440.286377</td>\n",
              "      <td>5440.286377</td>\n",
              "      <td>5440.286377</td>\n",
              "      <td>0.0</td>\n",
              "      <td>0.0</td>\n",
              "      <td>0.0</td>\n",
              "      <td>65307.748915</td>\n",
              "    </tr>\n",
              "    <tr>\n",
              "      <th>...</th>\n",
              "      <td>...</td>\n",
              "      <td>...</td>\n",
              "      <td>...</td>\n",
              "      <td>...</td>\n",
              "      <td>...</td>\n",
              "      <td>...</td>\n",
              "      <td>...</td>\n",
              "      <td>...</td>\n",
              "      <td>...</td>\n",
              "      <td>...</td>\n",
              "      <td>...</td>\n",
              "      <td>...</td>\n",
              "      <td>...</td>\n",
              "      <td>...</td>\n",
              "      <td>...</td>\n",
              "      <td>...</td>\n",
              "    </tr>\n",
              "    <tr>\n",
              "      <th>164</th>\n",
              "      <td>2018-09-30</td>\n",
              "      <td>6433.326135</td>\n",
              "      <td>-7446.896428</td>\n",
              "      <td>25973.972100</td>\n",
              "      <td>6066.057838</td>\n",
              "      <td>6774.906298</td>\n",
              "      <td>1810.916814</td>\n",
              "      <td>1810.916814</td>\n",
              "      <td>1810.916814</td>\n",
              "      <td>1810.916814</td>\n",
              "      <td>1810.916814</td>\n",
              "      <td>1810.916814</td>\n",
              "      <td>0.0</td>\n",
              "      <td>0.0</td>\n",
              "      <td>0.0</td>\n",
              "      <td>8244.242949</td>\n",
              "    </tr>\n",
              "    <tr>\n",
              "      <th>165</th>\n",
              "      <td>2018-10-31</td>\n",
              "      <td>6021.162267</td>\n",
              "      <td>-8456.958914</td>\n",
              "      <td>26152.411927</td>\n",
              "      <td>5618.156722</td>\n",
              "      <td>6388.886294</td>\n",
              "      <td>2424.761474</td>\n",
              "      <td>2424.761474</td>\n",
              "      <td>2424.761474</td>\n",
              "      <td>2424.761474</td>\n",
              "      <td>2424.761474</td>\n",
              "      <td>2424.761474</td>\n",
              "      <td>0.0</td>\n",
              "      <td>0.0</td>\n",
              "      <td>0.0</td>\n",
              "      <td>8445.923740</td>\n",
              "    </tr>\n",
              "    <tr>\n",
              "      <th>166</th>\n",
              "      <td>2018-11-30</td>\n",
              "      <td>5622.294008</td>\n",
              "      <td>-12387.907507</td>\n",
              "      <td>21709.974830</td>\n",
              "      <td>5181.286895</td>\n",
              "      <td>6017.575951</td>\n",
              "      <td>-2052.681781</td>\n",
              "      <td>-2052.681781</td>\n",
              "      <td>-2052.681781</td>\n",
              "      <td>-2052.681781</td>\n",
              "      <td>-2052.681781</td>\n",
              "      <td>-2052.681781</td>\n",
              "      <td>0.0</td>\n",
              "      <td>0.0</td>\n",
              "      <td>0.0</td>\n",
              "      <td>3569.612227</td>\n",
              "    </tr>\n",
              "    <tr>\n",
              "      <th>167</th>\n",
              "      <td>2018-12-31</td>\n",
              "      <td>5210.130140</td>\n",
              "      <td>-17341.174811</td>\n",
              "      <td>16895.439762</td>\n",
              "      <td>4731.211583</td>\n",
              "      <td>5639.554631</td>\n",
              "      <td>-6011.186904</td>\n",
              "      <td>-6011.186904</td>\n",
              "      <td>-6011.186904</td>\n",
              "      <td>-6011.186904</td>\n",
              "      <td>-6011.186904</td>\n",
              "      <td>-6011.186904</td>\n",
              "      <td>0.0</td>\n",
              "      <td>0.0</td>\n",
              "      <td>0.0</td>\n",
              "      <td>-801.056764</td>\n",
              "    </tr>\n",
              "    <tr>\n",
              "      <th>168</th>\n",
              "      <td>2019-01-31</td>\n",
              "      <td>4797.966272</td>\n",
              "      <td>-18261.236260</td>\n",
              "      <td>16426.829885</td>\n",
              "      <td>4293.071797</td>\n",
              "      <td>5260.011235</td>\n",
              "      <td>-4741.134719</td>\n",
              "      <td>-4741.134719</td>\n",
              "      <td>-4741.134719</td>\n",
              "      <td>-4741.134719</td>\n",
              "      <td>-4741.134719</td>\n",
              "      <td>-4741.134719</td>\n",
              "      <td>0.0</td>\n",
              "      <td>0.0</td>\n",
              "      <td>0.0</td>\n",
              "      <td>56.831553</td>\n",
              "    </tr>\n",
              "  </tbody>\n",
              "</table>\n",
              "<p>169 rows × 16 columns</p>\n",
              "</div>\n",
              "      <button class=\"colab-df-convert\" onclick=\"convertToInteractive('df-7b282c65-6158-43ed-ba5e-02eef41c155f')\"\n",
              "              title=\"Convert this dataframe to an interactive table.\"\n",
              "              style=\"display:none;\">\n",
              "        \n",
              "  <svg xmlns=\"http://www.w3.org/2000/svg\" height=\"24px\"viewBox=\"0 0 24 24\"\n",
              "       width=\"24px\">\n",
              "    <path d=\"M0 0h24v24H0V0z\" fill=\"none\"/>\n",
              "    <path d=\"M18.56 5.44l.94 2.06.94-2.06 2.06-.94-2.06-.94-.94-2.06-.94 2.06-2.06.94zm-11 1L8.5 8.5l.94-2.06 2.06-.94-2.06-.94L8.5 2.5l-.94 2.06-2.06.94zm10 10l.94 2.06.94-2.06 2.06-.94-2.06-.94-.94-2.06-.94 2.06-2.06.94z\"/><path d=\"M17.41 7.96l-1.37-1.37c-.4-.4-.92-.59-1.43-.59-.52 0-1.04.2-1.43.59L10.3 9.45l-7.72 7.72c-.78.78-.78 2.05 0 2.83L4 21.41c.39.39.9.59 1.41.59.51 0 1.02-.2 1.41-.59l7.78-7.78 2.81-2.81c.8-.78.8-2.07 0-2.86zM5.41 20L4 18.59l7.72-7.72 1.47 1.35L5.41 20z\"/>\n",
              "  </svg>\n",
              "      </button>\n",
              "      \n",
              "  <style>\n",
              "    .colab-df-container {\n",
              "      display:flex;\n",
              "      flex-wrap:wrap;\n",
              "      gap: 12px;\n",
              "    }\n",
              "\n",
              "    .colab-df-convert {\n",
              "      background-color: #E8F0FE;\n",
              "      border: none;\n",
              "      border-radius: 50%;\n",
              "      cursor: pointer;\n",
              "      display: none;\n",
              "      fill: #1967D2;\n",
              "      height: 32px;\n",
              "      padding: 0 0 0 0;\n",
              "      width: 32px;\n",
              "    }\n",
              "\n",
              "    .colab-df-convert:hover {\n",
              "      background-color: #E2EBFA;\n",
              "      box-shadow: 0px 1px 2px rgba(60, 64, 67, 0.3), 0px 1px 3px 1px rgba(60, 64, 67, 0.15);\n",
              "      fill: #174EA6;\n",
              "    }\n",
              "\n",
              "    [theme=dark] .colab-df-convert {\n",
              "      background-color: #3B4455;\n",
              "      fill: #D2E3FC;\n",
              "    }\n",
              "\n",
              "    [theme=dark] .colab-df-convert:hover {\n",
              "      background-color: #434B5C;\n",
              "      box-shadow: 0px 1px 3px 1px rgba(0, 0, 0, 0.15);\n",
              "      filter: drop-shadow(0px 1px 2px rgba(0, 0, 0, 0.3));\n",
              "      fill: #FFFFFF;\n",
              "    }\n",
              "  </style>\n",
              "\n",
              "      <script>\n",
              "        const buttonEl =\n",
              "          document.querySelector('#df-7b282c65-6158-43ed-ba5e-02eef41c155f button.colab-df-convert');\n",
              "        buttonEl.style.display =\n",
              "          google.colab.kernel.accessAllowed ? 'block' : 'none';\n",
              "\n",
              "        async function convertToInteractive(key) {\n",
              "          const element = document.querySelector('#df-7b282c65-6158-43ed-ba5e-02eef41c155f');\n",
              "          const dataTable =\n",
              "            await google.colab.kernel.invokeFunction('convertToInteractive',\n",
              "                                                     [key], {});\n",
              "          if (!dataTable) return;\n",
              "\n",
              "          const docLinkHtml = 'Like what you see? Visit the ' +\n",
              "            '<a target=\"_blank\" href=https://colab.research.google.com/notebooks/data_table.ipynb>data table notebook</a>'\n",
              "            + ' to learn more about interactive tables.';\n",
              "          element.innerHTML = '';\n",
              "          dataTable['output_type'] = 'display_data';\n",
              "          await google.colab.output.renderOutput(dataTable, element);\n",
              "          const docLink = document.createElement('div');\n",
              "          docLink.innerHTML = docLinkHtml;\n",
              "          element.appendChild(docLink);\n",
              "        }\n",
              "      </script>\n",
              "    </div>\n",
              "  </div>\n",
              "  "
            ]
          },
          "metadata": {},
          "execution_count": 49
        }
      ],
      "source": [
        "forcast"
      ]
    },
    {
      "cell_type": "code",
      "execution_count": null,
      "metadata": {
        "id": "no8saelEewtS",
        "colab": {
          "base_uri": "https://localhost:8080/",
          "height": 865
        },
        "outputId": "6fcd6971-dca7-43f9-f8eb-a46e91f7cb5f"
      },
      "outputs": [
        {
          "output_type": "execute_result",
          "data": {
            "text/plain": [
              "<Figure size 720x432 with 1 Axes>"
            ],
            "image/png": "[encoded data removed]"
          },
          "metadata": {},
          "execution_count": 50
        },
        {
          "output_type": "display_data",
          "data": {
            "text/plain": [
              "<Figure size 720x432 with 1 Axes>"
            ],
            "image/png": "[encoded data removed]"
          },
          "metadata": {}
        }
      ],
      "source": [
        "m.plot(forcast,xlabel=\"Date\",ylabel=\"Crime Rate\")"
      ]
    },
    {
      "cell_type": "markdown",
      "metadata": {
        "id": "0U8kUsIDirpp"
      },
      "source": [
        "**Save The Model**"
      ]
    },
    {
      "cell_type": "code",
      "execution_count": null,
      "metadata": {
        "id": "H-StPiuUe0GI"
      },
      "outputs": [],
      "source": [
        "import json\n",
        "from fbprophet.serialize import model_to_json, model_from_json\n",
        "\n",
        "with open('prophet_model.json', 'w') as fout:\n",
        "    json.dump(model_to_json(m), fout)  # Save model"
      ]
    },
    {
      "cell_type": "code",
      "execution_count": null,
      "metadata": {
        "id": "P023EoJZgeoF"
      },
      "outputs": [],
      "source": [
        "with open('prophet_model.json', 'r') as fin:\n",
        "    m1 = model_from_json(json.load(fin))  # Load model"
      ]
    },
    {
      "cell_type": "code",
      "execution_count": null,
      "metadata": {
        "colab": {
          "base_uri": "https://localhost:8080/"
        },
        "id": "7O7rFNolkKVU",
        "outputId": "009147fd-b92f-4edc-88ed-70cccf67aa6a"
      },
      "outputs": [
        {
          "name": "stdout",
          "output_type": "stream",
          "text": [
            "Enter Numbers Months to forecast24\n"
          ]
        }
      ],
      "source": [
        "x = int(input(\"Enter Numbers Months to forecast\"))\n"
      ]
    },
    {
      "cell_type": "code",
      "execution_count": null,
      "metadata": {
        "id": "C1L9pwpVgj8M"
      },
      "outputs": [],
      "source": [
        "pred = m1.make_future_dataframe(periods=x ,freq = \"M\")\n",
        "forcast = m1.predict(pred)"
      ]
    },
    {
      "cell_type": "code",
      "execution_count": null,
      "metadata": {
        "colab": {
          "base_uri": "https://localhost:8080/",
          "height": 661
        },
        "id": "8P5J-6Z6gqfv",
        "outputId": "571afb1d-d6db-4f1d-a336-e47593aaebaf"
      },
      "outputs": [
        {
          "output_type": "execute_result",
          "data": {
            "text/plain": [
              "            ds         trend    yhat_lower    yhat_upper   trend_lower  \\\n",
              "0   2005-01-31  60430.828866  39380.900072  73095.922649  60430.828866   \n",
              "1   2005-02-28  60299.376723  33877.460164  68127.090041  60299.376723   \n",
              "2   2005-03-31  60153.840421  41563.675908  75339.039019  60153.840421   \n",
              "3   2005-04-30  60012.998839  44118.650779  76508.139543  60012.998839   \n",
              "4   2005-05-31  59867.462538  46886.469972  81293.775743  59867.462538   \n",
              "..         ...           ...           ...           ...           ...   \n",
              "164 2018-09-30   6433.326135  -7892.277462  25128.687519   6051.375851   \n",
              "165 2018-10-31   6021.162267  -7240.141114  24381.666858   5611.111377   \n",
              "166 2018-11-30   5622.294008 -12253.864088  19992.234884   5176.435912   \n",
              "167 2018-12-31   5210.130140 -16594.795651  15818.425493   4726.502190   \n",
              "168 2019-01-31   4797.966272 -16723.146860  16170.960434   4278.540871   \n",
              "\n",
              "      trend_upper  additive_terms  additive_terms_lower  additive_terms_upper  \\\n",
              "0    60430.828866    -4815.541199          -4815.541199          -4815.541199   \n",
              "1    60299.376723    -9499.801094          -9499.801094          -9499.801094   \n",
              "2    60153.840421    -1257.158958          -1257.158958          -1257.158958   \n",
              "3    60012.998839     1137.682624           1137.682624           1137.682624   \n",
              "4    59867.462538     5440.286377           5440.286377           5440.286377   \n",
              "..            ...             ...                   ...                   ...   \n",
              "164   6823.452826     1810.916814           1810.916814           1810.916814   \n",
              "165   6437.584650     2424.761474           2424.761474           2424.761474   \n",
              "166   6069.781775    -2052.681781          -2052.681781          -2052.681781   \n",
              "167   5684.636849    -6011.186904          -6011.186904          -6011.186904   \n",
              "168   5310.938824    -4741.134719          -4741.134719          -4741.134719   \n",
              "\n",
              "          yearly  yearly_lower  yearly_upper  multiplicative_terms  \\\n",
              "0   -4815.541199  -4815.541199  -4815.541199                   0.0   \n",
              "1   -9499.801094  -9499.801094  -9499.801094                   0.0   \n",
              "2   -1257.158958  -1257.158958  -1257.158958                   0.0   \n",
              "3    1137.682624   1137.682624   1137.682624                   0.0   \n",
              "4    5440.286377   5440.286377   5440.286377                   0.0   \n",
              "..           ...           ...           ...                   ...   \n",
              "164  1810.916814   1810.916814   1810.916814                   0.0   \n",
              "165  2424.761474   2424.761474   2424.761474                   0.0   \n",
              "166 -2052.681781  -2052.681781  -2052.681781                   0.0   \n",
              "167 -6011.186904  -6011.186904  -6011.186904                   0.0   \n",
              "168 -4741.134719  -4741.134719  -4741.134719                   0.0   \n",
              "\n",
              "     multiplicative_terms_lower  multiplicative_terms_upper          yhat  \n",
              "0                           0.0                         0.0  55615.287667  \n",
              "1                           0.0                         0.0  50799.575628  \n",
              "2                           0.0                         0.0  58896.681463  \n",
              "3                           0.0                         0.0  61150.681463  \n",
              "4                           0.0                         0.0  65307.748915  \n",
              "..                          ...                         ...           ...  \n",
              "164                         0.0                         0.0   8244.242949  \n",
              "165                         0.0                         0.0   8445.923740  \n",
              "166                         0.0                         0.0   3569.612227  \n",
              "167                         0.0                         0.0   -801.056764  \n",
              "168                         0.0                         0.0     56.831553  \n",
              "\n",
              "[169 rows x 16 columns]"
            ],
            "text/html": [
              "\n",
              "  <div id=\"df-29caab12-5232-4b0f-a9e6-7d72e956338b\">\n",
              "    <div class=\"colab-df-container\">\n",
              "      <div>\n",
              "<style scoped>\n",
              "    .dataframe tbody tr th:only-of-type {\n",
              "        vertical-align: middle;\n",
              "    }\n",
              "\n",
              "    .dataframe tbody tr th {\n",
              "        vertical-align: top;\n",
              "    }\n",
              "\n",
              "    .dataframe thead th {\n",
              "        text-align: right;\n",
              "    }\n",
              "</style>\n",
              "<table border=\"1\" class=\"dataframe\">\n",
              "  <thead>\n",
              "    <tr style=\"text-align: right;\">\n",
              "      <th></th>\n",
              "      <th>ds</th>\n",
              "      <th>trend</th>\n",
              "      <th>yhat_lower</th>\n",
              "      <th>yhat_upper</th>\n",
              "      <th>trend_lower</th>\n",
              "      <th>trend_upper</th>\n",
              "      <th>additive_terms</th>\n",
              "      <th>additive_terms_lower</th>\n",
              "      <th>additive_terms_upper</th>\n",
              "      <th>yearly</th>\n",
              "      <th>yearly_lower</th>\n",
              "      <th>yearly_upper</th>\n",
              "      <th>multiplicative_terms</th>\n",
              "      <th>multiplicative_terms_lower</th>\n",
              "      <th>multiplicative_terms_upper</th>\n",
              "      <th>yhat</th>\n",
              "    </tr>\n",
              "  </thead>\n",
              "  <tbody>\n",
              "    <tr>\n",
              "      <th>0</th>\n",
              "      <td>2005-01-31</td>\n",
              "      <td>60430.828866</td>\n",
              "      <td>39380.900072</td>\n",
              "      <td>73095.922649</td>\n",
              "      <td>60430.828866</td>\n",
              "      <td>60430.828866</td>\n",
              "      <td>-4815.541199</td>\n",
              "      <td>-4815.541199</td>\n",
              "      <td>-4815.541199</td>\n",
              "      <td>-4815.541199</td>\n",
              "      <td>-4815.541199</td>\n",
              "      <td>-4815.541199</td>\n",
              "      <td>0.0</td>\n",
              "      <td>0.0</td>\n",
              "      <td>0.0</td>\n",
              "      <td>55615.287667</td>\n",
              "    </tr>\n",
              "    <tr>\n",
              "      <th>1</th>\n",
              "      <td>2005-02-28</td>\n",
              "      <td>60299.376723</td>\n",
              "      <td>33877.460164</td>\n",
              "      <td>68127.090041</td>\n",
              "      <td>60299.376723</td>\n",
              "      <td>60299.376723</td>\n",
              "      <td>-9499.801094</td>\n",
              "      <td>-9499.801094</td>\n",
              "      <td>-9499.801094</td>\n",
              "      <td>-9499.801094</td>\n",
              "      <td>-9499.801094</td>\n",
              "      <td>-9499.801094</td>\n",
              "      <td>0.0</td>\n",
              "      <td>0.0</td>\n",
              "      <td>0.0</td>\n",
              "      <td>50799.575628</td>\n",
              "    </tr>\n",
              "    <tr>\n",
              "      <th>2</th>\n",
              "      <td>2005-03-31</td>\n",
              "      <td>60153.840421</td>\n",
              "      <td>41563.675908</td>\n",
              "      <td>75339.039019</td>\n",
              "      <td>60153.840421</td>\n",
              "      <td>60153.840421</td>\n",
              "      <td>-1257.158958</td>\n",
              "      <td>-1257.158958</td>\n",
              "      <td>-1257.158958</td>\n",
              "      <td>-1257.158958</td>\n",
              "      <td>-1257.158958</td>\n",
              "      <td>-1257.158958</td>\n",
              "      <td>0.0</td>\n",
              "      <td>0.0</td>\n",
              "      <td>0.0</td>\n",
              "      <td>58896.681463</td>\n",
              "    </tr>\n",
              "    <tr>\n",
              "      <th>3</th>\n",
              "      <td>2005-04-30</td>\n",
              "      <td>60012.998839</td>\n",
              "      <td>44118.650779</td>\n",
              "      <td>76508.139543</td>\n",
              "      <td>60012.998839</td>\n",
              "      <td>60012.998839</td>\n",
              "      <td>1137.682624</td>\n",
              "      <td>1137.682624</td>\n",
              "      <td>1137.682624</td>\n",
              "      <td>1137.682624</td>\n",
              "      <td>1137.682624</td>\n",
              "      <td>1137.682624</td>\n",
              "      <td>0.0</td>\n",
              "      <td>0.0</td>\n",
              "      <td>0.0</td>\n",
              "      <td>61150.681463</td>\n",
              "    </tr>\n",
              "    <tr>\n",
              "      <th>4</th>\n",
              "      <td>2005-05-31</td>\n",
              "      <td>59867.462538</td>\n",
              "      <td>46886.469972</td>\n",
              "      <td>81293.775743</td>\n",
              "      <td>59867.462538</td>\n",
              "      <td>59867.462538</td>\n",
              "      <td>5440.286377</td>\n",
              "      <td>5440.286377</td>\n",
              "      <td>5440.286377</td>\n",
              "      <td>5440.286377</td>\n",
              "      <td>5440.286377</td>\n",
              "      <td>5440.286377</td>\n",
              "      <td>0.0</td>\n",
              "      <td>0.0</td>\n",
              "      <td>0.0</td>\n",
              "      <td>65307.748915</td>\n",
              "    </tr>\n",
              "    <tr>\n",
              "      <th>...</th>\n",
              "      <td>...</td>\n",
              "      <td>...</td>\n",
              "      <td>...</td>\n",
              "      <td>...</td>\n",
              "      <td>...</td>\n",
              "      <td>...</td>\n",
              "      <td>...</td>\n",
              "      <td>...</td>\n",
              "      <td>...</td>\n",
              "      <td>...</td>\n",
              "      <td>...</td>\n",
              "      <td>...</td>\n",
              "      <td>...</td>\n",
              "      <td>...</td>\n",
              "      <td>...</td>\n",
              "      <td>...</td>\n",
              "    </tr>\n",
              "    <tr>\n",
              "      <th>164</th>\n",
              "      <td>2018-09-30</td>\n",
              "      <td>6433.326135</td>\n",
              "      <td>-7892.277462</td>\n",
              "      <td>25128.687519</td>\n",
              "      <td>6051.375851</td>\n",
              "      <td>6823.452826</td>\n",
              "      <td>1810.916814</td>\n",
              "      <td>1810.916814</td>\n",
              "      <td>1810.916814</td>\n",
              "      <td>1810.916814</td>\n",
              "      <td>1810.916814</td>\n",
              "      <td>1810.916814</td>\n",
              "      <td>0.0</td>\n",
              "      <td>0.0</td>\n",
              "      <td>0.0</td>\n",
              "      <td>8244.242949</td>\n",
              "    </tr>\n",
              "    <tr>\n",
              "      <th>165</th>\n",
              "      <td>2018-10-31</td>\n",
              "      <td>6021.162267</td>\n",
              "      <td>-7240.141114</td>\n",
              "      <td>24381.666858</td>\n",
              "      <td>5611.111377</td>\n",
              "      <td>6437.584650</td>\n",
              "      <td>2424.761474</td>\n",
              "      <td>2424.761474</td>\n",
              "      <td>2424.761474</td>\n",
              "      <td>2424.761474</td>\n",
              "      <td>2424.761474</td>\n",
              "      <td>2424.761474</td>\n",
              "      <td>0.0</td>\n",
              "      <td>0.0</td>\n",
              "      <td>0.0</td>\n",
              "      <td>8445.923740</td>\n",
              "    </tr>\n",
              "    <tr>\n",
              "      <th>166</th>\n",
              "      <td>2018-11-30</td>\n",
              "      <td>5622.294008</td>\n",
              "      <td>-12253.864088</td>\n",
              "      <td>19992.234884</td>\n",
              "      <td>5176.435912</td>\n",
              "      <td>6069.781775</td>\n",
              "      <td>-2052.681781</td>\n",
              "      <td>-2052.681781</td>\n",
              "      <td>-2052.681781</td>\n",
              "      <td>-2052.681781</td>\n",
              "      <td>-2052.681781</td>\n",
              "      <td>-2052.681781</td>\n",
              "      <td>0.0</td>\n",
              "      <td>0.0</td>\n",
              "      <td>0.0</td>\n",
              "      <td>3569.612227</td>\n",
              "    </tr>\n",
              "    <tr>\n",
              "      <th>167</th>\n",
              "      <td>2018-12-31</td>\n",
              "      <td>5210.130140</td>\n",
              "      <td>-16594.795651</td>\n",
              "      <td>15818.425493</td>\n",
              "      <td>4726.502190</td>\n",
              "      <td>5684.636849</td>\n",
              "      <td>-6011.186904</td>\n",
              "      <td>-6011.186904</td>\n",
              "      <td>-6011.186904</td>\n",
              "      <td>-6011.186904</td>\n",
              "      <td>-6011.186904</td>\n",
              "      <td>-6011.186904</td>\n",
              "      <td>0.0</td>\n",
              "      <td>0.0</td>\n",
              "      <td>0.0</td>\n",
              "      <td>-801.056764</td>\n",
              "    </tr>\n",
              "    <tr>\n",
              "      <th>168</th>\n",
              "      <td>2019-01-31</td>\n",
              "      <td>4797.966272</td>\n",
              "      <td>-16723.146860</td>\n",
              "      <td>16170.960434</td>\n",
              "      <td>4278.540871</td>\n",
              "      <td>5310.938824</td>\n",
              "      <td>-4741.134719</td>\n",
              "      <td>-4741.134719</td>\n",
              "      <td>-4741.134719</td>\n",
              "      <td>-4741.134719</td>\n",
              "      <td>-4741.134719</td>\n",
              "      <td>-4741.134719</td>\n",
              "      <td>0.0</td>\n",
              "      <td>0.0</td>\n",
              "      <td>0.0</td>\n",
              "      <td>56.831553</td>\n",
              "    </tr>\n",
              "  </tbody>\n",
              "</table>\n",
              "<p>169 rows × 16 columns</p>\n",
              "</div>\n",
              "      <button class=\"colab-df-convert\" onclick=\"convertToInteractive('df-29caab12-5232-4b0f-a9e6-7d72e956338b')\"\n",
              "              title=\"Convert this dataframe to an interactive table.\"\n",
              "              style=\"display:none;\">\n",
              "        \n",
              "  <svg xmlns=\"http://www.w3.org/2000/svg\" height=\"24px\"viewBox=\"0 0 24 24\"\n",
              "       width=\"24px\">\n",
              "    <path d=\"M0 0h24v24H0V0z\" fill=\"none\"/>\n",
              "    <path d=\"M18.56 5.44l.94 2.06.94-2.06 2.06-.94-2.06-.94-.94-2.06-.94 2.06-2.06.94zm-11 1L8.5 8.5l.94-2.06 2.06-.94-2.06-.94L8.5 2.5l-.94 2.06-2.06.94zm10 10l.94 2.06.94-2.06 2.06-.94-2.06-.94-.94-2.06-.94 2.06-2.06.94z\"/><path d=\"M17.41 7.96l-1.37-1.37c-.4-.4-.92-.59-1.43-.59-.52 0-1.04.2-1.43.59L10.3 9.45l-7.72 7.72c-.78.78-.78 2.05 0 2.83L4 21.41c.39.39.9.59 1.41.59.51 0 1.02-.2 1.41-.59l7.78-7.78 2.81-2.81c.8-.78.8-2.07 0-2.86zM5.41 20L4 18.59l7.72-7.72 1.47 1.35L5.41 20z\"/>\n",
              "  </svg>\n",
              "      </button>\n",
              "      \n",
              "  <style>\n",
              "    .colab-df-container {\n",
              "      display:flex;\n",
              "      flex-wrap:wrap;\n",
              "      gap: 12px;\n",
              "    }\n",
              "\n",
              "    .colab-df-convert {\n",
              "      background-color: #E8F0FE;\n",
              "      border: none;\n",
              "      border-radius: 50%;\n",
              "      cursor: pointer;\n",
              "      display: none;\n",
              "      fill: #1967D2;\n",
              "      height: 32px;\n",
              "      padding: 0 0 0 0;\n",
              "      width: 32px;\n",
              "    }\n",
              "\n",
              "    .colab-df-convert:hover {\n",
              "      background-color: #E2EBFA;\n",
              "      box-shadow: 0px 1px 2px rgba(60, 64, 67, 0.3), 0px 1px 3px 1px rgba(60, 64, 67, 0.15);\n",
              "      fill: #174EA6;\n",
              "    }\n",
              "\n",
              "    [theme=dark] .colab-df-convert {\n",
              "      background-color: #3B4455;\n",
              "      fill: #D2E3FC;\n",
              "    }\n",
              "\n",
              "    [theme=dark] .colab-df-convert:hover {\n",
              "      background-color: #434B5C;\n",
              "      box-shadow: 0px 1px 3px 1px rgba(0, 0, 0, 0.15);\n",
              "      filter: drop-shadow(0px 1px 2px rgba(0, 0, 0, 0.3));\n",
              "      fill: #FFFFFF;\n",
              "    }\n",
              "  </style>\n",
              "\n",
              "      <script>\n",
              "        const buttonEl =\n",
              "          document.querySelector('#df-29caab12-5232-4b0f-a9e6-7d72e956338b button.colab-df-convert');\n",
              "        buttonEl.style.display =\n",
              "          google.colab.kernel.accessAllowed ? 'block' : 'none';\n",
              "\n",
              "        async function convertToInteractive(key) {\n",
              "          const element = document.querySelector('#df-29caab12-5232-4b0f-a9e6-7d72e956338b');\n",
              "          const dataTable =\n",
              "            await google.colab.kernel.invokeFunction('convertToInteractive',\n",
              "                                                     [key], {});\n",
              "          if (!dataTable) return;\n",
              "\n",
              "          const docLinkHtml = 'Like what you see? Visit the ' +\n",
              "            '<a target=\"_blank\" href=https://colab.research.google.com/notebooks/data_table.ipynb>data table notebook</a>'\n",
              "            + ' to learn more about interactive tables.';\n",
              "          element.innerHTML = '';\n",
              "          dataTable['output_type'] = 'display_data';\n",
              "          await google.colab.output.renderOutput(dataTable, element);\n",
              "          const docLink = document.createElement('div');\n",
              "          docLink.innerHTML = docLinkHtml;\n",
              "          element.appendChild(docLink);\n",
              "        }\n",
              "      </script>\n",
              "    </div>\n",
              "  </div>\n",
              "  "
            ]
          },
          "metadata": {},
          "execution_count": 55
        }
      ],
      "source": [
        "forcast"
      ]
    },
    {
      "cell_type": "code",
      "execution_count": null,
      "metadata": {
        "colab": {
          "base_uri": "https://localhost:8080/",
          "height": 441
        },
        "id": "K6ZemY4jgxJh",
        "outputId": "e91773bf-6276-46d4-cb8c-c54f072fdc8b"
      },
      "outputs": [
        {
          "output_type": "display_data",
          "data": {
            "text/plain": [
              "<Figure size 720x432 with 1 Axes>"
            ],
            "image/png": "[encoded data removed]"
          },
          "metadata": {}
        }
      ],
      "source": [
        "figure = m1.plot(forcast, xlabel='Date', ylabel='Crime Rate')"
      ]
    },
    {
      "cell_type": "code",
      "execution_count": null,
      "metadata": {
        "id": "d-LEy43Hg0aa"
      },
      "outputs": [],
      "source": []
    }
  ],
  "metadata": {
    "colab": {
      "provenance": []
    },
    "kernelspec": {
      "display_name": "Python 3",
      "name": "python3"
    },
    "language_info": {
      "name": "python"
    }
  },
  "nbformat": 4,
  "nbformat_minor": 0
}